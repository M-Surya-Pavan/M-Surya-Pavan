{
 "cells": [
  {
   "cell_type": "markdown",
   "id": "c1cca965",
   "metadata": {},
   "source": [
    "Importing Necessary Libraries"
   ]
  },
  {
   "cell_type": "code",
   "execution_count": 1,
   "id": "44da3b35",
   "metadata": {},
   "outputs": [],
   "source": [
    "import numpy as np\n",
    "import pandas as pd\n",
    "import seaborn as sns\n",
    "import matplotlib.pyplot as plt"
   ]
  },
  {
   "cell_type": "markdown",
   "id": "cecb9d1d",
   "metadata": {},
   "source": [
    "Ignoring the warnings"
   ]
  },
  {
   "cell_type": "code",
   "execution_count": 2,
   "id": "5ce73e56",
   "metadata": {},
   "outputs": [],
   "source": [
    "import warnings\n",
    "warnings.filterwarnings(\"ignore\")"
   ]
  },
  {
   "cell_type": "markdown",
   "id": "0d49332f",
   "metadata": {},
   "source": [
    "Reading the Dataset"
   ]
  },
  {
   "cell_type": "code",
   "execution_count": 3,
   "id": "884b9c23",
   "metadata": {},
   "outputs": [],
   "source": [
    "data_1=pd.read_csv(r\"C:\\Users\\surya pavan\\D\\Deliveroo_Hiring_-_Test_for_Machine_Learning_Engineering\\Deliveroo Hiring - Test for Machine Learning Engineering\\orders.csv.gz\")\n",
    "data_2=pd.read_csv(r\"C:\\Users\\surya pavan\\D\\Deliveroo_Hiring_-_Test_for_Machine_Learning_Engineering\\Deliveroo Hiring - Test for Machine Learning Engineering\\restaurants.csv.gz\")"
   ]
  },
  {
   "cell_type": "markdown",
   "id": "b0391476",
   "metadata": {},
   "source": [
    "In both the files, restaurant_id is common.\n",
    "\n",
    "We are merging the files on restauramt_id feature"
   ]
  },
  {
   "cell_type": "code",
   "execution_count": 4,
   "id": "3f556a30",
   "metadata": {},
   "outputs": [],
   "source": [
    "df=pd.merge(data_1, data_2, on = ['restaurant_id'])"
   ]
  },
  {
   "cell_type": "markdown",
   "id": "2a63e00a",
   "metadata": {},
   "source": [
    "Checking the data types of the features"
   ]
  },
  {
   "cell_type": "code",
   "execution_count": 5,
   "id": "8298bf75",
   "metadata": {},
   "outputs": [
    {
     "data": {
      "text/plain": [
       "order_acknowledged_at     object\n",
       "order_ready_at            object\n",
       "order_value_gbp          float64\n",
       "restaurant_id              int64\n",
       "number_of_items            int64\n",
       "prep_time_seconds          int64\n",
       "country                   object\n",
       "city                      object\n",
       "type_of_food              object\n",
       "dtype: object"
      ]
     },
     "execution_count": 5,
     "metadata": {},
     "output_type": "execute_result"
    }
   ],
   "source": [
    "df.dtypes"
   ]
  },
  {
   "cell_type": "markdown",
   "id": "fdb564d0",
   "metadata": {},
   "source": [
    "Here, \"order_acknowledged_at\" and \"order_ready_at\" features are in object type.\n",
    "\n",
    "We have to convert to datetime object"
   ]
  },
  {
   "cell_type": "code",
   "execution_count": 6,
   "id": "1b5b1bad",
   "metadata": {},
   "outputs": [],
   "source": [
    "df['order_acknowledged_at']=pd.to_datetime(df['order_acknowledged_at'],utc=True)\n",
    "df['order_ready_at']=pd.to_datetime(df['order_ready_at'],utc=True)"
   ]
  },
  {
   "cell_type": "markdown",
   "id": "b15ee5a2",
   "metadata": {},
   "source": [
    "Validating the features that are converted"
   ]
  },
  {
   "cell_type": "code",
   "execution_count": 7,
   "id": "20bf1eb9",
   "metadata": {},
   "outputs": [
    {
     "data": {
      "text/plain": [
       "pandas._libs.tslibs.timestamps.Timestamp"
      ]
     },
     "execution_count": 7,
     "metadata": {},
     "output_type": "execute_result"
    }
   ],
   "source": [
    "type(df['order_acknowledged_at'][0])"
   ]
  },
  {
   "cell_type": "markdown",
   "id": "0dacd055",
   "metadata": {},
   "source": [
    "checking, is there any null values present in the dataset"
   ]
  },
  {
   "cell_type": "code",
   "execution_count": 8,
   "id": "2e5dad18",
   "metadata": {},
   "outputs": [
    {
     "data": {
      "text/plain": [
       "order_acknowledged_at    0\n",
       "order_ready_at           0\n",
       "order_value_gbp          0\n",
       "restaurant_id            0\n",
       "number_of_items          0\n",
       "prep_time_seconds        0\n",
       "country                  0\n",
       "city                     0\n",
       "type_of_food             0\n",
       "dtype: int64"
      ]
     },
     "execution_count": 8,
     "metadata": {},
     "output_type": "execute_result"
    }
   ],
   "source": [
    "df.isnull().sum()"
   ]
  },
  {
   "cell_type": "markdown",
   "id": "5f04c1e9",
   "metadata": {},
   "source": [
    "Thera re no null values present in the data"
   ]
  },
  {
   "cell_type": "markdown",
   "id": "1429e597",
   "metadata": {},
   "source": [
    "Checking for duplicated values"
   ]
  },
  {
   "cell_type": "code",
   "execution_count": 9,
   "id": "458267fa",
   "metadata": {},
   "outputs": [
    {
     "data": {
      "text/plain": [
       "0"
      ]
     },
     "execution_count": 9,
     "metadata": {},
     "output_type": "execute_result"
    }
   ],
   "source": [
    "df.duplicated().sum()"
   ]
  },
  {
   "cell_type": "markdown",
   "id": "5dc221e0",
   "metadata": {},
   "source": [
    "There are no duplicated values present"
   ]
  },
  {
   "cell_type": "code",
   "execution_count": 10,
   "id": "6cb65624",
   "metadata": {},
   "outputs": [
    {
     "data": {
      "text/html": [
       "<div>\n",
       "<style scoped>\n",
       "    .dataframe tbody tr th:only-of-type {\n",
       "        vertical-align: middle;\n",
       "    }\n",
       "\n",
       "    .dataframe tbody tr th {\n",
       "        vertical-align: top;\n",
       "    }\n",
       "\n",
       "    .dataframe thead th {\n",
       "        text-align: right;\n",
       "    }\n",
       "</style>\n",
       "<table border=\"1\" class=\"dataframe\">\n",
       "  <thead>\n",
       "    <tr style=\"text-align: right;\">\n",
       "      <th></th>\n",
       "      <th>order_acknowledged_at</th>\n",
       "      <th>order_ready_at</th>\n",
       "      <th>order_value_gbp</th>\n",
       "      <th>restaurant_id</th>\n",
       "      <th>number_of_items</th>\n",
       "      <th>prep_time_seconds</th>\n",
       "      <th>country</th>\n",
       "      <th>city</th>\n",
       "      <th>type_of_food</th>\n",
       "    </tr>\n",
       "  </thead>\n",
       "  <tbody>\n",
       "    <tr>\n",
       "      <th>0</th>\n",
       "      <td>2015-06-01 11:28:28.952789+00:00</td>\n",
       "      <td>2015-06-01 13:12:09.474896+00:00</td>\n",
       "      <td>59.90</td>\n",
       "      <td>1326</td>\n",
       "      <td>2</td>\n",
       "      <td>6220</td>\n",
       "      <td>UK</td>\n",
       "      <td>London</td>\n",
       "      <td>burritos</td>\n",
       "    </tr>\n",
       "    <tr>\n",
       "      <th>1</th>\n",
       "      <td>2015-06-06 16:06:24.434807+00:00</td>\n",
       "      <td>2015-06-06 16:16:27.520253+00:00</td>\n",
       "      <td>24.00</td>\n",
       "      <td>1326</td>\n",
       "      <td>8</td>\n",
       "      <td>603</td>\n",
       "      <td>UK</td>\n",
       "      <td>London</td>\n",
       "      <td>burritos</td>\n",
       "    </tr>\n",
       "    <tr>\n",
       "      <th>2</th>\n",
       "      <td>2015-06-08 13:56:15.503204+00:00</td>\n",
       "      <td>2015-06-08 14:03:39.397496+00:00</td>\n",
       "      <td>15.25</td>\n",
       "      <td>1326</td>\n",
       "      <td>3</td>\n",
       "      <td>443</td>\n",
       "      <td>UK</td>\n",
       "      <td>London</td>\n",
       "      <td>burritos</td>\n",
       "    </tr>\n",
       "    <tr>\n",
       "      <th>3</th>\n",
       "      <td>2015-06-12 14:12:20.497925+00:00</td>\n",
       "      <td>2015-06-12 14:23:30.064683+00:00</td>\n",
       "      <td>28.05</td>\n",
       "      <td>1326</td>\n",
       "      <td>8</td>\n",
       "      <td>669</td>\n",
       "      <td>UK</td>\n",
       "      <td>London</td>\n",
       "      <td>burritos</td>\n",
       "    </tr>\n",
       "    <tr>\n",
       "      <th>4</th>\n",
       "      <td>2015-06-01 12:07:10.794050+00:00</td>\n",
       "      <td>2015-06-01 13:02:25.104517+00:00</td>\n",
       "      <td>56.30</td>\n",
       "      <td>255</td>\n",
       "      <td>7</td>\n",
       "      <td>3314</td>\n",
       "      <td>UK</td>\n",
       "      <td>London</td>\n",
       "      <td>chinese</td>\n",
       "    </tr>\n",
       "  </tbody>\n",
       "</table>\n",
       "</div>"
      ],
      "text/plain": [
       "             order_acknowledged_at                   order_ready_at  \\\n",
       "0 2015-06-01 11:28:28.952789+00:00 2015-06-01 13:12:09.474896+00:00   \n",
       "1 2015-06-06 16:06:24.434807+00:00 2015-06-06 16:16:27.520253+00:00   \n",
       "2 2015-06-08 13:56:15.503204+00:00 2015-06-08 14:03:39.397496+00:00   \n",
       "3 2015-06-12 14:12:20.497925+00:00 2015-06-12 14:23:30.064683+00:00   \n",
       "4 2015-06-01 12:07:10.794050+00:00 2015-06-01 13:02:25.104517+00:00   \n",
       "\n",
       "   order_value_gbp  restaurant_id  number_of_items  prep_time_seconds country  \\\n",
       "0            59.90           1326                2               6220      UK   \n",
       "1            24.00           1326                8                603      UK   \n",
       "2            15.25           1326                3                443      UK   \n",
       "3            28.05           1326                8                669      UK   \n",
       "4            56.30            255                7               3314      UK   \n",
       "\n",
       "     city type_of_food  \n",
       "0  London     burritos  \n",
       "1  London     burritos  \n",
       "2  London     burritos  \n",
       "3  London     burritos  \n",
       "4  London      chinese  "
      ]
     },
     "execution_count": 10,
     "metadata": {},
     "output_type": "execute_result"
    }
   ],
   "source": [
    "df.head()"
   ]
  },
  {
   "cell_type": "markdown",
   "id": "7951d76a",
   "metadata": {},
   "source": [
    "Sorting the data based on \"order_acknowledged_at\""
   ]
  },
  {
   "cell_type": "code",
   "execution_count": 11,
   "id": "821f1b26",
   "metadata": {},
   "outputs": [],
   "source": [
    "df=df.sort_values(by='order_acknowledged_at')\n",
    "df.reset_index(inplace=True)\n",
    "df.drop(columns=['index'],inplace=True)"
   ]
  },
  {
   "cell_type": "code",
   "execution_count": 12,
   "id": "1a74e52e",
   "metadata": {},
   "outputs": [
    {
     "data": {
      "text/html": [
       "<div>\n",
       "<style scoped>\n",
       "    .dataframe tbody tr th:only-of-type {\n",
       "        vertical-align: middle;\n",
       "    }\n",
       "\n",
       "    .dataframe tbody tr th {\n",
       "        vertical-align: top;\n",
       "    }\n",
       "\n",
       "    .dataframe thead th {\n",
       "        text-align: right;\n",
       "    }\n",
       "</style>\n",
       "<table border=\"1\" class=\"dataframe\">\n",
       "  <thead>\n",
       "    <tr style=\"text-align: right;\">\n",
       "      <th></th>\n",
       "      <th>order_acknowledged_at</th>\n",
       "      <th>order_ready_at</th>\n",
       "      <th>order_value_gbp</th>\n",
       "      <th>restaurant_id</th>\n",
       "      <th>number_of_items</th>\n",
       "      <th>prep_time_seconds</th>\n",
       "      <th>country</th>\n",
       "      <th>city</th>\n",
       "      <th>type_of_food</th>\n",
       "    </tr>\n",
       "  </thead>\n",
       "  <tbody>\n",
       "    <tr>\n",
       "      <th>0</th>\n",
       "      <td>2015-06-01 09:34:00.351812+00:00</td>\n",
       "      <td>2015-06-01 13:02:30.351682+00:00</td>\n",
       "      <td>15.10</td>\n",
       "      <td>2276</td>\n",
       "      <td>3</td>\n",
       "      <td>12509</td>\n",
       "      <td>UK</td>\n",
       "      <td>London</td>\n",
       "      <td>healthy</td>\n",
       "    </tr>\n",
       "    <tr>\n",
       "      <th>1</th>\n",
       "      <td>2015-06-01 10:22:56.328104+00:00</td>\n",
       "      <td>2015-06-01 12:23:57.316309+00:00</td>\n",
       "      <td>36.00</td>\n",
       "      <td>2276</td>\n",
       "      <td>4</td>\n",
       "      <td>7260</td>\n",
       "      <td>UK</td>\n",
       "      <td>London</td>\n",
       "      <td>healthy</td>\n",
       "    </tr>\n",
       "    <tr>\n",
       "      <th>2</th>\n",
       "      <td>2015-06-01 10:39:44.491932+00:00</td>\n",
       "      <td>2015-06-01 12:31:32.205864+00:00</td>\n",
       "      <td>48.00</td>\n",
       "      <td>604</td>\n",
       "      <td>1</td>\n",
       "      <td>6707</td>\n",
       "      <td>UK</td>\n",
       "      <td>London</td>\n",
       "      <td>american</td>\n",
       "    </tr>\n",
       "    <tr>\n",
       "      <th>3</th>\n",
       "      <td>2015-06-01 10:50:44.072478+00:00</td>\n",
       "      <td>2015-06-01 12:24:36.777383+00:00</td>\n",
       "      <td>35.45</td>\n",
       "      <td>1518</td>\n",
       "      <td>4</td>\n",
       "      <td>5632</td>\n",
       "      <td>UK</td>\n",
       "      <td>London</td>\n",
       "      <td>healthy</td>\n",
       "    </tr>\n",
       "    <tr>\n",
       "      <th>4</th>\n",
       "      <td>2015-06-01 11:02:23.080222+00:00</td>\n",
       "      <td>2015-06-01 12:48:49.660816+00:00</td>\n",
       "      <td>17.35</td>\n",
       "      <td>666</td>\n",
       "      <td>4</td>\n",
       "      <td>6386</td>\n",
       "      <td>UK</td>\n",
       "      <td>London</td>\n",
       "      <td>dessert</td>\n",
       "    </tr>\n",
       "  </tbody>\n",
       "</table>\n",
       "</div>"
      ],
      "text/plain": [
       "             order_acknowledged_at                   order_ready_at  \\\n",
       "0 2015-06-01 09:34:00.351812+00:00 2015-06-01 13:02:30.351682+00:00   \n",
       "1 2015-06-01 10:22:56.328104+00:00 2015-06-01 12:23:57.316309+00:00   \n",
       "2 2015-06-01 10:39:44.491932+00:00 2015-06-01 12:31:32.205864+00:00   \n",
       "3 2015-06-01 10:50:44.072478+00:00 2015-06-01 12:24:36.777383+00:00   \n",
       "4 2015-06-01 11:02:23.080222+00:00 2015-06-01 12:48:49.660816+00:00   \n",
       "\n",
       "   order_value_gbp  restaurant_id  number_of_items  prep_time_seconds country  \\\n",
       "0            15.10           2276                3              12509      UK   \n",
       "1            36.00           2276                4               7260      UK   \n",
       "2            48.00            604                1               6707      UK   \n",
       "3            35.45           1518                4               5632      UK   \n",
       "4            17.35            666                4               6386      UK   \n",
       "\n",
       "     city type_of_food  \n",
       "0  London      healthy  \n",
       "1  London      healthy  \n",
       "2  London     american  \n",
       "3  London      healthy  \n",
       "4  London      dessert  "
      ]
     },
     "execution_count": 12,
     "metadata": {},
     "output_type": "execute_result"
    }
   ],
   "source": [
    "df.head()"
   ]
  },
  {
   "cell_type": "markdown",
   "id": "f18d3245",
   "metadata": {},
   "source": [
    "Extracting date from \"order_acknowledged_at\"."
   ]
  },
  {
   "cell_type": "code",
   "execution_count": 13,
   "id": "1b39eb37",
   "metadata": {},
   "outputs": [],
   "source": [
    "df['date_of_order']=pd.to_datetime(df['order_acknowledged_at'], utc=True,\n",
    "                                         format='%Y-%m-%d %H:%M:%S').dt.date\n",
    "df['date_of_order']=pd.to_datetime(df['date_of_order'])"
   ]
  },
  {
   "cell_type": "markdown",
   "id": "be76c191",
   "metadata": {},
   "source": [
    "Extracting time of order and order ready time from \"order_acknowledged_at\" and \"order_ready_at\""
   ]
  },
  {
   "cell_type": "code",
   "execution_count": 14,
   "id": "3d6036d1",
   "metadata": {},
   "outputs": [],
   "source": [
    "df['acknow_hr']=pd.to_datetime(df['order_acknowledged_at'], utc=True,\n",
    "                                     format='%Y-%m-%d %H:%M:%S').dt.hour"
   ]
  },
  {
   "cell_type": "code",
   "execution_count": 15,
   "id": "7e0d5043",
   "metadata": {},
   "outputs": [],
   "source": [
    "df['ready_hr']=pd.to_datetime(df['order_ready_at'], utc=True,\n",
    "                                     format='%Y-%m-%d %H:%M:%S').dt.hour"
   ]
  },
  {
   "cell_type": "code",
   "execution_count": 16,
   "id": "9aada832",
   "metadata": {
    "scrolled": true
   },
   "outputs": [
    {
     "data": {
      "text/html": [
       "<div>\n",
       "<style scoped>\n",
       "    .dataframe tbody tr th:only-of-type {\n",
       "        vertical-align: middle;\n",
       "    }\n",
       "\n",
       "    .dataframe tbody tr th {\n",
       "        vertical-align: top;\n",
       "    }\n",
       "\n",
       "    .dataframe thead th {\n",
       "        text-align: right;\n",
       "    }\n",
       "</style>\n",
       "<table border=\"1\" class=\"dataframe\">\n",
       "  <thead>\n",
       "    <tr style=\"text-align: right;\">\n",
       "      <th></th>\n",
       "      <th>order_acknowledged_at</th>\n",
       "      <th>order_ready_at</th>\n",
       "      <th>order_value_gbp</th>\n",
       "      <th>restaurant_id</th>\n",
       "      <th>number_of_items</th>\n",
       "      <th>prep_time_seconds</th>\n",
       "      <th>country</th>\n",
       "      <th>city</th>\n",
       "      <th>type_of_food</th>\n",
       "      <th>date_of_order</th>\n",
       "      <th>acknow_hr</th>\n",
       "      <th>ready_hr</th>\n",
       "    </tr>\n",
       "  </thead>\n",
       "  <tbody>\n",
       "    <tr>\n",
       "      <th>0</th>\n",
       "      <td>2015-06-01 09:34:00.351812+00:00</td>\n",
       "      <td>2015-06-01 13:02:30.351682+00:00</td>\n",
       "      <td>15.10</td>\n",
       "      <td>2276</td>\n",
       "      <td>3</td>\n",
       "      <td>12509</td>\n",
       "      <td>UK</td>\n",
       "      <td>London</td>\n",
       "      <td>healthy</td>\n",
       "      <td>2015-06-01</td>\n",
       "      <td>9</td>\n",
       "      <td>13</td>\n",
       "    </tr>\n",
       "    <tr>\n",
       "      <th>1</th>\n",
       "      <td>2015-06-01 10:22:56.328104+00:00</td>\n",
       "      <td>2015-06-01 12:23:57.316309+00:00</td>\n",
       "      <td>36.00</td>\n",
       "      <td>2276</td>\n",
       "      <td>4</td>\n",
       "      <td>7260</td>\n",
       "      <td>UK</td>\n",
       "      <td>London</td>\n",
       "      <td>healthy</td>\n",
       "      <td>2015-06-01</td>\n",
       "      <td>10</td>\n",
       "      <td>12</td>\n",
       "    </tr>\n",
       "    <tr>\n",
       "      <th>2</th>\n",
       "      <td>2015-06-01 10:39:44.491932+00:00</td>\n",
       "      <td>2015-06-01 12:31:32.205864+00:00</td>\n",
       "      <td>48.00</td>\n",
       "      <td>604</td>\n",
       "      <td>1</td>\n",
       "      <td>6707</td>\n",
       "      <td>UK</td>\n",
       "      <td>London</td>\n",
       "      <td>american</td>\n",
       "      <td>2015-06-01</td>\n",
       "      <td>10</td>\n",
       "      <td>12</td>\n",
       "    </tr>\n",
       "    <tr>\n",
       "      <th>3</th>\n",
       "      <td>2015-06-01 10:50:44.072478+00:00</td>\n",
       "      <td>2015-06-01 12:24:36.777383+00:00</td>\n",
       "      <td>35.45</td>\n",
       "      <td>1518</td>\n",
       "      <td>4</td>\n",
       "      <td>5632</td>\n",
       "      <td>UK</td>\n",
       "      <td>London</td>\n",
       "      <td>healthy</td>\n",
       "      <td>2015-06-01</td>\n",
       "      <td>10</td>\n",
       "      <td>12</td>\n",
       "    </tr>\n",
       "    <tr>\n",
       "      <th>4</th>\n",
       "      <td>2015-06-01 11:02:23.080222+00:00</td>\n",
       "      <td>2015-06-01 12:48:49.660816+00:00</td>\n",
       "      <td>17.35</td>\n",
       "      <td>666</td>\n",
       "      <td>4</td>\n",
       "      <td>6386</td>\n",
       "      <td>UK</td>\n",
       "      <td>London</td>\n",
       "      <td>dessert</td>\n",
       "      <td>2015-06-01</td>\n",
       "      <td>11</td>\n",
       "      <td>12</td>\n",
       "    </tr>\n",
       "  </tbody>\n",
       "</table>\n",
       "</div>"
      ],
      "text/plain": [
       "             order_acknowledged_at                   order_ready_at  \\\n",
       "0 2015-06-01 09:34:00.351812+00:00 2015-06-01 13:02:30.351682+00:00   \n",
       "1 2015-06-01 10:22:56.328104+00:00 2015-06-01 12:23:57.316309+00:00   \n",
       "2 2015-06-01 10:39:44.491932+00:00 2015-06-01 12:31:32.205864+00:00   \n",
       "3 2015-06-01 10:50:44.072478+00:00 2015-06-01 12:24:36.777383+00:00   \n",
       "4 2015-06-01 11:02:23.080222+00:00 2015-06-01 12:48:49.660816+00:00   \n",
       "\n",
       "   order_value_gbp  restaurant_id  number_of_items  prep_time_seconds country  \\\n",
       "0            15.10           2276                3              12509      UK   \n",
       "1            36.00           2276                4               7260      UK   \n",
       "2            48.00            604                1               6707      UK   \n",
       "3            35.45           1518                4               5632      UK   \n",
       "4            17.35            666                4               6386      UK   \n",
       "\n",
       "     city type_of_food date_of_order  acknow_hr  ready_hr  \n",
       "0  London      healthy    2015-06-01          9        13  \n",
       "1  London      healthy    2015-06-01         10        12  \n",
       "2  London     american    2015-06-01         10        12  \n",
       "3  London      healthy    2015-06-01         10        12  \n",
       "4  London      dessert    2015-06-01         11        12  "
      ]
     },
     "execution_count": 16,
     "metadata": {},
     "output_type": "execute_result"
    }
   ],
   "source": [
    "df.head()"
   ]
  },
  {
   "cell_type": "code",
   "execution_count": 17,
   "id": "317b1574",
   "metadata": {},
   "outputs": [
    {
     "data": {
      "text/plain": [
       "22"
      ]
     },
     "execution_count": 17,
     "metadata": {},
     "output_type": "execute_result"
    }
   ],
   "source": [
    "df['city'].nunique()"
   ]
  },
  {
   "cell_type": "markdown",
   "id": "67e25a7d",
   "metadata": {},
   "source": [
    "22 unique cities are there in dataset"
   ]
  },
  {
   "cell_type": "code",
   "execution_count": 18,
   "id": "03002e28",
   "metadata": {},
   "outputs": [
    {
     "data": {
      "text/plain": [
       "83"
      ]
     },
     "execution_count": 18,
     "metadata": {},
     "output_type": "execute_result"
    }
   ],
   "source": [
    "df['type_of_food'].nunique()"
   ]
  },
  {
   "cell_type": "markdown",
   "id": "7a5b8b83",
   "metadata": {},
   "source": [
    "There are 83 diffterent types of food present in data"
   ]
  },
  {
   "cell_type": "code",
   "execution_count": null,
   "id": "07f77f93",
   "metadata": {},
   "outputs": [],
   "source": []
  },
  {
   "cell_type": "code",
   "execution_count": 19,
   "id": "3cf23ce7",
   "metadata": {},
   "outputs": [],
   "source": [
    "#Extracting the day of the order\n",
    "\n",
    "df['DAY'] = df['date_of_order'].dt.day_name()"
   ]
  },
  {
   "cell_type": "code",
   "execution_count": 20,
   "id": "430ef5f9",
   "metadata": {},
   "outputs": [],
   "source": [
    "#Extracting the day number in a weak, when the order was placed\n",
    "\n",
    "df['DAY_NUMBER']=df['date_of_order'].dt.dayofweek"
   ]
  },
  {
   "cell_type": "code",
   "execution_count": null,
   "id": "a80009eb",
   "metadata": {
    "scrolled": true
   },
   "outputs": [],
   "source": []
  },
  {
   "cell_type": "markdown",
   "id": "f3bb7d13",
   "metadata": {},
   "source": [
    "Shape of datset"
   ]
  },
  {
   "cell_type": "code",
   "execution_count": 21,
   "id": "65c452be",
   "metadata": {},
   "outputs": [
    {
     "data": {
      "text/plain": [
       "(32394, 14)"
      ]
     },
     "execution_count": 21,
     "metadata": {},
     "output_type": "execute_result"
    }
   ],
   "source": [
    "df.shape"
   ]
  },
  {
   "cell_type": "markdown",
   "id": "da546c40",
   "metadata": {},
   "source": [
    "There are 32,394 rows and 14 columns"
   ]
  },
  {
   "cell_type": "markdown",
   "id": "7a147de9",
   "metadata": {},
   "source": [
    "## Exploratory Data Analysis"
   ]
  },
  {
   "cell_type": "markdown",
   "id": "a45ce91d",
   "metadata": {},
   "source": [
    "Distribution of cuisines"
   ]
  },
  {
   "cell_type": "code",
   "execution_count": 22,
   "id": "5d70f269",
   "metadata": {},
   "outputs": [
    {
     "data": {
      "image/png": "[encoded data removed]",
      "text/plain": [
       "<Figure size 1440x720 with 1 Axes>"
      ]
     },
     "metadata": {
      "needs_background": "light"
     },
     "output_type": "display_data"
    }
   ],
   "source": [
    "plt.figure(figsize=(20,10))\n",
    "df.groupby('type_of_food').count()['order_value_gbp'].sort_values().plot(kind='bar',color='blue',edgecolor='k');\n",
    "plt.xlabel('Cuisine')\n",
    "plt.ylabel('Count of orders');"
   ]
  },
  {
   "cell_type": "markdown",
   "id": "5cb5b35d",
   "metadata": {},
   "source": [
    "Italian,burgers,thai,american and japanese has been ordered the most, accounts for almost 50% of the total number of orders."
   ]
  },
  {
   "cell_type": "markdown",
   "id": "13bb9e7d",
   "metadata": {},
   "source": [
    "From the given dataset, let's draw some useful insights. knowing at what time, maximum number of orders booking."
   ]
  },
  {
   "cell_type": "code",
   "execution_count": 23,
   "id": "90d33b9f",
   "metadata": {
    "scrolled": true
   },
   "outputs": [
    {
     "data": {
      "text/html": [
       "<div>\n",
       "<style scoped>\n",
       "    .dataframe tbody tr th:only-of-type {\n",
       "        vertical-align: middle;\n",
       "    }\n",
       "\n",
       "    .dataframe tbody tr th {\n",
       "        vertical-align: top;\n",
       "    }\n",
       "\n",
       "    .dataframe thead th {\n",
       "        text-align: right;\n",
       "    }\n",
       "</style>\n",
       "<table border=\"1\" class=\"dataframe\">\n",
       "  <thead>\n",
       "    <tr style=\"text-align: right;\">\n",
       "      <th></th>\n",
       "      <th>order_acknowledged_at</th>\n",
       "      <th>order_ready_at</th>\n",
       "      <th>order_value_gbp</th>\n",
       "      <th>restaurant_id</th>\n",
       "      <th>number_of_items</th>\n",
       "      <th>prep_time_seconds</th>\n",
       "      <th>country</th>\n",
       "      <th>city</th>\n",
       "      <th>type_of_food</th>\n",
       "      <th>date_of_order</th>\n",
       "      <th>acknow_hr</th>\n",
       "      <th>ready_hr</th>\n",
       "      <th>DAY</th>\n",
       "      <th>DAY_NUMBER</th>\n",
       "    </tr>\n",
       "  </thead>\n",
       "  <tbody>\n",
       "    <tr>\n",
       "      <th>0</th>\n",
       "      <td>2015-06-01 09:34:00.351812+00:00</td>\n",
       "      <td>2015-06-01 13:02:30.351682+00:00</td>\n",
       "      <td>15.10</td>\n",
       "      <td>2276</td>\n",
       "      <td>3</td>\n",
       "      <td>12509</td>\n",
       "      <td>UK</td>\n",
       "      <td>London</td>\n",
       "      <td>healthy</td>\n",
       "      <td>2015-06-01</td>\n",
       "      <td>9</td>\n",
       "      <td>13</td>\n",
       "      <td>Monday</td>\n",
       "      <td>0</td>\n",
       "    </tr>\n",
       "    <tr>\n",
       "      <th>1</th>\n",
       "      <td>2015-06-01 10:22:56.328104+00:00</td>\n",
       "      <td>2015-06-01 12:23:57.316309+00:00</td>\n",
       "      <td>36.00</td>\n",
       "      <td>2276</td>\n",
       "      <td>4</td>\n",
       "      <td>7260</td>\n",
       "      <td>UK</td>\n",
       "      <td>London</td>\n",
       "      <td>healthy</td>\n",
       "      <td>2015-06-01</td>\n",
       "      <td>10</td>\n",
       "      <td>12</td>\n",
       "      <td>Monday</td>\n",
       "      <td>0</td>\n",
       "    </tr>\n",
       "    <tr>\n",
       "      <th>2</th>\n",
       "      <td>2015-06-01 10:39:44.491932+00:00</td>\n",
       "      <td>2015-06-01 12:31:32.205864+00:00</td>\n",
       "      <td>48.00</td>\n",
       "      <td>604</td>\n",
       "      <td>1</td>\n",
       "      <td>6707</td>\n",
       "      <td>UK</td>\n",
       "      <td>London</td>\n",
       "      <td>american</td>\n",
       "      <td>2015-06-01</td>\n",
       "      <td>10</td>\n",
       "      <td>12</td>\n",
       "      <td>Monday</td>\n",
       "      <td>0</td>\n",
       "    </tr>\n",
       "    <tr>\n",
       "      <th>3</th>\n",
       "      <td>2015-06-01 10:50:44.072478+00:00</td>\n",
       "      <td>2015-06-01 12:24:36.777383+00:00</td>\n",
       "      <td>35.45</td>\n",
       "      <td>1518</td>\n",
       "      <td>4</td>\n",
       "      <td>5632</td>\n",
       "      <td>UK</td>\n",
       "      <td>London</td>\n",
       "      <td>healthy</td>\n",
       "      <td>2015-06-01</td>\n",
       "      <td>10</td>\n",
       "      <td>12</td>\n",
       "      <td>Monday</td>\n",
       "      <td>0</td>\n",
       "    </tr>\n",
       "    <tr>\n",
       "      <th>4</th>\n",
       "      <td>2015-06-01 11:02:23.080222+00:00</td>\n",
       "      <td>2015-06-01 12:48:49.660816+00:00</td>\n",
       "      <td>17.35</td>\n",
       "      <td>666</td>\n",
       "      <td>4</td>\n",
       "      <td>6386</td>\n",
       "      <td>UK</td>\n",
       "      <td>London</td>\n",
       "      <td>dessert</td>\n",
       "      <td>2015-06-01</td>\n",
       "      <td>11</td>\n",
       "      <td>12</td>\n",
       "      <td>Monday</td>\n",
       "      <td>0</td>\n",
       "    </tr>\n",
       "  </tbody>\n",
       "</table>\n",
       "</div>"
      ],
      "text/plain": [
       "             order_acknowledged_at                   order_ready_at  \\\n",
       "0 2015-06-01 09:34:00.351812+00:00 2015-06-01 13:02:30.351682+00:00   \n",
       "1 2015-06-01 10:22:56.328104+00:00 2015-06-01 12:23:57.316309+00:00   \n",
       "2 2015-06-01 10:39:44.491932+00:00 2015-06-01 12:31:32.205864+00:00   \n",
       "3 2015-06-01 10:50:44.072478+00:00 2015-06-01 12:24:36.777383+00:00   \n",
       "4 2015-06-01 11:02:23.080222+00:00 2015-06-01 12:48:49.660816+00:00   \n",
       "\n",
       "   order_value_gbp  restaurant_id  number_of_items  prep_time_seconds country  \\\n",
       "0            15.10           2276                3              12509      UK   \n",
       "1            36.00           2276                4               7260      UK   \n",
       "2            48.00            604                1               6707      UK   \n",
       "3            35.45           1518                4               5632      UK   \n",
       "4            17.35            666                4               6386      UK   \n",
       "\n",
       "     city type_of_food date_of_order  acknow_hr  ready_hr     DAY  DAY_NUMBER  \n",
       "0  London      healthy    2015-06-01          9        13  Monday           0  \n",
       "1  London      healthy    2015-06-01         10        12  Monday           0  \n",
       "2  London     american    2015-06-01         10        12  Monday           0  \n",
       "3  London      healthy    2015-06-01         10        12  Monday           0  \n",
       "4  London      dessert    2015-06-01         11        12  Monday           0  "
      ]
     },
     "execution_count": 23,
     "metadata": {},
     "output_type": "execute_result"
    }
   ],
   "source": [
    "df.head()"
   ]
  },
  {
   "cell_type": "code",
   "execution_count": 24,
   "id": "fb1a7b71",
   "metadata": {},
   "outputs": [
    {
     "data": {
      "text/html": [
       "<div>\n",
       "<style scoped>\n",
       "    .dataframe tbody tr th:only-of-type {\n",
       "        vertical-align: middle;\n",
       "    }\n",
       "\n",
       "    .dataframe tbody tr th {\n",
       "        vertical-align: top;\n",
       "    }\n",
       "\n",
       "    .dataframe thead th {\n",
       "        text-align: right;\n",
       "    }\n",
       "</style>\n",
       "<table border=\"1\" class=\"dataframe\">\n",
       "  <thead>\n",
       "    <tr style=\"text-align: right;\">\n",
       "      <th></th>\n",
       "      <th>index</th>\n",
       "      <th>acknow_hr</th>\n",
       "    </tr>\n",
       "  </thead>\n",
       "  <tbody>\n",
       "    <tr>\n",
       "      <th>0</th>\n",
       "      <td>19</td>\n",
       "      <td>6939</td>\n",
       "    </tr>\n",
       "    <tr>\n",
       "      <th>1</th>\n",
       "      <td>20</td>\n",
       "      <td>5882</td>\n",
       "    </tr>\n",
       "    <tr>\n",
       "      <th>2</th>\n",
       "      <td>18</td>\n",
       "      <td>4376</td>\n",
       "    </tr>\n",
       "    <tr>\n",
       "      <th>3</th>\n",
       "      <td>21</td>\n",
       "      <td>3350</td>\n",
       "    </tr>\n",
       "    <tr>\n",
       "      <th>4</th>\n",
       "      <td>12</td>\n",
       "      <td>2250</td>\n",
       "    </tr>\n",
       "  </tbody>\n",
       "</table>\n",
       "</div>"
      ],
      "text/plain": [
       "   index  acknow_hr\n",
       "0     19       6939\n",
       "1     20       5882\n",
       "2     18       4376\n",
       "3     21       3350\n",
       "4     12       2250"
      ]
     },
     "execution_count": 24,
     "metadata": {},
     "output_type": "execute_result"
    }
   ],
   "source": [
    "timings=df['acknow_hr'].value_counts().sort_values(ascending=False).reset_index()\n",
    "timings.head()"
   ]
  },
  {
   "cell_type": "code",
   "execution_count": 25,
   "id": "b1a24962",
   "metadata": {},
   "outputs": [
    {
     "data": {
      "text/plain": [
       "<AxesSubplot:xlabel='index', ylabel='acknow_hr'>"
      ]
     },
     "execution_count": 25,
     "metadata": {},
     "output_type": "execute_result"
    },
    {
     "data": {
      "image/png": "[encoded data removed]",
      "text/plain": [
       "<Figure size 1080x720 with 1 Axes>"
      ]
     },
     "metadata": {
      "needs_background": "light"
     },
     "output_type": "display_data"
    }
   ],
   "source": [
    "plt.rcParams['figure.figsize']=(15,10)\n",
    "sns.barplot(x=timings['index'],y=timings['acknow_hr'],data=timings,palette='plasma')"
   ]
  },
  {
   "cell_type": "markdown",
   "id": "dc20b5c6",
   "metadata": {},
   "source": [
    " we can see that, at night 7PM, most orders are placed and at 6PM,8PM,9PM also, more orders are booking."
   ]
  },
  {
   "cell_type": "markdown",
   "id": "95ab4a06",
   "metadata": {},
   "source": [
    " let's know from which city many of the orders are booking"
   ]
  },
  {
   "cell_type": "code",
   "execution_count": 26,
   "id": "2abfc290",
   "metadata": {},
   "outputs": [
    {
     "data": {
      "text/html": [
       "<div>\n",
       "<style scoped>\n",
       "    .dataframe tbody tr th:only-of-type {\n",
       "        vertical-align: middle;\n",
       "    }\n",
       "\n",
       "    .dataframe tbody tr th {\n",
       "        vertical-align: top;\n",
       "    }\n",
       "\n",
       "    .dataframe thead th {\n",
       "        text-align: right;\n",
       "    }\n",
       "</style>\n",
       "<table border=\"1\" class=\"dataframe\">\n",
       "  <thead>\n",
       "    <tr style=\"text-align: right;\">\n",
       "      <th></th>\n",
       "      <th>index</th>\n",
       "      <th>city</th>\n",
       "    </tr>\n",
       "  </thead>\n",
       "  <tbody>\n",
       "    <tr>\n",
       "      <th>0</th>\n",
       "      <td>London</td>\n",
       "      <td>25481</td>\n",
       "    </tr>\n",
       "    <tr>\n",
       "      <th>1</th>\n",
       "      <td>Paris</td>\n",
       "      <td>2032</td>\n",
       "    </tr>\n",
       "    <tr>\n",
       "      <th>2</th>\n",
       "      <td>Manchester</td>\n",
       "      <td>964</td>\n",
       "    </tr>\n",
       "    <tr>\n",
       "      <th>3</th>\n",
       "      <td>Brighton</td>\n",
       "      <td>652</td>\n",
       "    </tr>\n",
       "    <tr>\n",
       "      <th>4</th>\n",
       "      <td>Oxford</td>\n",
       "      <td>546</td>\n",
       "    </tr>\n",
       "  </tbody>\n",
       "</table>\n",
       "</div>"
      ],
      "text/plain": [
       "        index   city\n",
       "0      London  25481\n",
       "1       Paris   2032\n",
       "2  Manchester    964\n",
       "3    Brighton    652\n",
       "4      Oxford    546"
      ]
     },
     "execution_count": 26,
     "metadata": {},
     "output_type": "execute_result"
    }
   ],
   "source": [
    "cities_dist=df['city'].value_counts().sort_values(ascending=False).reset_index()\n",
    "cities_dist.head()"
   ]
  },
  {
   "cell_type": "code",
   "execution_count": 27,
   "id": "e75c7607",
   "metadata": {},
   "outputs": [
    {
     "data": {
      "text/plain": [
       "<AxesSubplot:xlabel='index', ylabel='city'>"
      ]
     },
     "execution_count": 27,
     "metadata": {},
     "output_type": "execute_result"
    },
    {
     "data": {
      "image/png": "[encoded data removed]",
      "text/plain": [
       "<Figure size 1296x720 with 1 Axes>"
      ]
     },
     "metadata": {
      "needs_background": "light"
     },
     "output_type": "display_data"
    }
   ],
   "source": [
    "plt.rcParams['figure.figsize']=(18,10)\n",
    "sns.barplot(x=cities_dist['index'],y=cities_dist['city'],data=cities_dist,palette='mako')"
   ]
  },
  {
   "cell_type": "markdown",
   "id": "a62e36ed",
   "metadata": {},
   "source": [
    "Around 76% of the orders are booking from london. also know, from london which restaurant, which food is mostly ordering."
   ]
  },
  {
   "cell_type": "markdown",
   "id": "c7437de9",
   "metadata": {},
   "source": [
    "Orders booking based on week"
   ]
  },
  {
   "cell_type": "code",
   "execution_count": 28,
   "id": "c908630a",
   "metadata": {},
   "outputs": [
    {
     "data": {
      "image/png": "[encoded data removed]",
      "text/plain": [
       "<Figure size 1800x720 with 1 Axes>"
      ]
     },
     "metadata": {
      "needs_background": "light"
     },
     "output_type": "display_data"
    }
   ],
   "source": [
    "days = [ 'Monday', 'Tuesday', 'Wednesday', 'Thursday', 'Friday', 'Saturday', 'Sunday']\n",
    "plt.figure(figsize=(25,10))\n",
    "df.groupby('DAY').count().reindex(days)['date_of_order'].plot(kind='bar',color='brown',edgecolor='k')\n",
    "plt.xlabel('Day of the Week')\n",
    "plt.ylabel('Order Counts');"
   ]
  },
  {
   "cell_type": "markdown",
   "id": "d5f0e5b5",
   "metadata": {},
   "source": [
    "most orders are occuring on Sunday."
   ]
  },
  {
   "cell_type": "markdown",
   "id": "d0cc5710",
   "metadata": {},
   "source": [
    "Distribution of food preparation time"
   ]
  },
  {
   "cell_type": "code",
   "execution_count": 29,
   "id": "118f7d8e",
   "metadata": {},
   "outputs": [
    {
     "data": {
      "text/plain": [
       "Text(0, 0.5, 'Counts')"
      ]
     },
     "execution_count": 29,
     "metadata": {},
     "output_type": "execute_result"
    },
    {
     "data": {
      "image/png": "[encoded data removed]",
      "text/plain": [
       "<Figure size 1440x720 with 1 Axes>"
      ]
     },
     "metadata": {
      "needs_background": "light"
     },
     "output_type": "display_data"
    }
   ],
   "source": [
    "plt.figure(figsize=(20,10))\n",
    "prep_time=pd.DataFrame(df['prep_time_seconds']/3600)\n",
    "plt.hist(prep_time,bins=1000,color='grey');\n",
    "plt.xlim(0,5)\n",
    "plt.xlabel(\"Time in Hours\")\n",
    "plt.ylabel(\"Counts\")"
   ]
  },
  {
   "cell_type": "markdown",
   "id": "b4855286",
   "metadata": {},
   "source": [
    "Preparation of food takes place less than an hour for maximum number of orders."
   ]
  },
  {
   "cell_type": "markdown",
   "id": "1e21de39",
   "metadata": {},
   "source": [
    "Time required to prepare different types of food"
   ]
  },
  {
   "cell_type": "code",
   "execution_count": 30,
   "id": "35f0af94",
   "metadata": {},
   "outputs": [
    {
     "data": {
      "image/png": "[encoded data removed]",
      "text/plain": [
       "<Figure size 1800x720 with 1 Axes>"
      ]
     },
     "metadata": {
      "needs_background": "light"
     },
     "output_type": "display_data"
    }
   ],
   "source": [
    "plt.figure(figsize=(25,10))\n",
    "orders_time=pd.DataFrame(df.groupby('type_of_food').mean()['prep_time_seconds']).sort_values(by='prep_time_seconds')\n",
    "orders_time['Time(Hrs)']=orders_time['prep_time_seconds']/3600\n",
    "orders_time['Time(Hrs)'].plot(kind='bar',color='salmon',edgecolor='k');\n",
    "plt.xlabel('Type of Food')\n",
    "plt.ylabel('Time in Hours');"
   ]
  },
  {
   "cell_type": "markdown",
   "id": "76a88506",
   "metadata": {},
   "source": [
    "Juices require the most time to prepare. In real scenario, juices doesn't take much time to prepare.May be restarants are giving more time to food to prepare than preparing juices"
   ]
  },
  {
   "cell_type": "markdown",
   "id": "b1481479",
   "metadata": {},
   "source": [
    "Distribution of time to prepare orders in a weak"
   ]
  },
  {
   "cell_type": "code",
   "execution_count": 31,
   "id": "8be34272",
   "metadata": {},
   "outputs": [
    {
     "data": {
      "image/png": "[encoded data removed]",
      "text/plain": [
       "<Figure size 1800x720 with 1 Axes>"
      ]
     },
     "metadata": {
      "needs_background": "light"
     },
     "output_type": "display_data"
    }
   ],
   "source": [
    "days = [ 'Monday', 'Tuesday', 'Wednesday', 'Thursday', 'Friday', 'Saturday', 'Sunday']\n",
    "plt.figure(figsize=(25,10))\n",
    "day_time=df.groupby('DAY').mean().reindex(days)\n",
    "day_time['Time_in_hours']=day_time['prep_time_seconds']/3600\n",
    "day_time['Time_in_hours'].plot(kind='bar',color='skyblue',edgecolor='k')\n",
    "plt.xlabel('Day')\n",
    "plt.ylabel('Average Preparation Time(hrs)');"
   ]
  },
  {
   "cell_type": "markdown",
   "id": "8b3f9b43",
   "metadata": {},
   "source": [
    "Here, we can get a good insight. That more number of orders are booking on weekends(saturday and sunday), So more time to be taken to prepare the food.\n",
    "\n",
    "But, Wednesday and Thursday are the days that takes more time to prepare the food in hours.\n",
    "\n",
    "Which indicates, chefs are reduced on weekdays as, orders are not much high. May be the chefs are hired on weekends to work as there will be more orders\n"
   ]
  },
  {
   "cell_type": "code",
   "execution_count": null,
   "id": "30486626",
   "metadata": {},
   "outputs": [],
   "source": []
  },
  {
   "cell_type": "markdown",
   "id": "fc6e7935",
   "metadata": {},
   "source": [
    "Distribution of Value of order"
   ]
  },
  {
   "cell_type": "code",
   "execution_count": 32,
   "id": "909a5b16",
   "metadata": {},
   "outputs": [
    {
     "data": {
      "image/png": "[encoded data removed]",
      "text/plain": [
       "<Figure size 1800x720 with 1 Axes>"
      ]
     },
     "metadata": {
      "needs_background": "light"
     },
     "output_type": "display_data"
    }
   ],
   "source": [
    "plt.figure(figsize=(25,10))\n",
    "plt.hist(df['order_value_gbp'],bins=150,color='red',edgecolor='black');\n",
    "plt.xlim(0,100)\n",
    "plt.ylabel('Counts')\n",
    "plt.xlabel('Order Value in GBP');"
   ]
  },
  {
   "cell_type": "markdown",
   "id": "d8f65ed9",
   "metadata": {},
   "source": [
    "Most orders are in the price range of 20-40 GBP"
   ]
  },
  {
   "cell_type": "code",
   "execution_count": null,
   "id": "8256c734",
   "metadata": {},
   "outputs": [],
   "source": []
  },
  {
   "cell_type": "code",
   "execution_count": 33,
   "id": "cd7d1be8",
   "metadata": {},
   "outputs": [
    {
     "data": {
      "text/html": [
       "<div>\n",
       "<style scoped>\n",
       "    .dataframe tbody tr th:only-of-type {\n",
       "        vertical-align: middle;\n",
       "    }\n",
       "\n",
       "    .dataframe tbody tr th {\n",
       "        vertical-align: top;\n",
       "    }\n",
       "\n",
       "    .dataframe thead th {\n",
       "        text-align: right;\n",
       "    }\n",
       "</style>\n",
       "<table border=\"1\" class=\"dataframe\">\n",
       "  <thead>\n",
       "    <tr style=\"text-align: right;\">\n",
       "      <th></th>\n",
       "      <th>country</th>\n",
       "      <th>date_of_order</th>\n",
       "    </tr>\n",
       "  </thead>\n",
       "  <tbody>\n",
       "    <tr>\n",
       "      <th>0</th>\n",
       "      <td>Germany</td>\n",
       "      <td>320</td>\n",
       "    </tr>\n",
       "    <tr>\n",
       "      <th>1</th>\n",
       "      <td>Ireland</td>\n",
       "      <td>353</td>\n",
       "    </tr>\n",
       "    <tr>\n",
       "      <th>2</th>\n",
       "      <td>France</td>\n",
       "      <td>2032</td>\n",
       "    </tr>\n",
       "    <tr>\n",
       "      <th>3</th>\n",
       "      <td>UK</td>\n",
       "      <td>29689</td>\n",
       "    </tr>\n",
       "  </tbody>\n",
       "</table>\n",
       "</div>"
      ],
      "text/plain": [
       "   country  date_of_order\n",
       "0  Germany            320\n",
       "1  Ireland            353\n",
       "2   France           2032\n",
       "3       UK          29689"
      ]
     },
     "execution_count": 33,
     "metadata": {},
     "output_type": "execute_result"
    }
   ],
   "source": [
    "countries=df.groupby('country').count()['date_of_order'].sort_values().reset_index()\n",
    "countries.head()"
   ]
  },
  {
   "cell_type": "code",
   "execution_count": 34,
   "id": "33b22598",
   "metadata": {},
   "outputs": [
    {
     "data": {
      "image/png": "[encoded data removed]",
      "text/plain": [
       "<Figure size 1296x720 with 1 Axes>"
      ]
     },
     "metadata": {},
     "output_type": "display_data"
    }
   ],
   "source": [
    "plt.pie(x=countries['date_of_order'],autopct=\"%1.1f%%\",shadow=True,labels=[\"Germany\",\"Ireland\",\"France\",\"UK\"])\n",
    "plt.show()"
   ]
  },
  {
   "cell_type": "markdown",
   "id": "d0eef58e",
   "metadata": {},
   "source": [
    "Most number of orders are placing from UK."
   ]
  },
  {
   "cell_type": "markdown",
   "id": "2e5f2ba6",
   "metadata": {},
   "source": [
    "Average time for food preparation time based on cities"
   ]
  },
  {
   "cell_type": "code",
   "execution_count": 35,
   "id": "5a063e0c",
   "metadata": {},
   "outputs": [
    {
     "data": {
      "text/html": [
       "<div>\n",
       "<style scoped>\n",
       "    .dataframe tbody tr th:only-of-type {\n",
       "        vertical-align: middle;\n",
       "    }\n",
       "\n",
       "    .dataframe tbody tr th {\n",
       "        vertical-align: top;\n",
       "    }\n",
       "\n",
       "    .dataframe thead th {\n",
       "        text-align: right;\n",
       "    }\n",
       "</style>\n",
       "<table border=\"1\" class=\"dataframe\">\n",
       "  <thead>\n",
       "    <tr style=\"text-align: right;\">\n",
       "      <th></th>\n",
       "      <th>prep_time_seconds</th>\n",
       "      <th>Time(hours)</th>\n",
       "    </tr>\n",
       "    <tr>\n",
       "      <th>city</th>\n",
       "      <th></th>\n",
       "      <th></th>\n",
       "    </tr>\n",
       "  </thead>\n",
       "  <tbody>\n",
       "    <tr>\n",
       "      <th>Cardiff</th>\n",
       "      <td>846.800000</td>\n",
       "      <td>0.235222</td>\n",
       "    </tr>\n",
       "    <tr>\n",
       "      <th>Paris</th>\n",
       "      <td>856.272638</td>\n",
       "      <td>0.237854</td>\n",
       "    </tr>\n",
       "    <tr>\n",
       "      <th>Berlin</th>\n",
       "      <td>927.016892</td>\n",
       "      <td>0.257505</td>\n",
       "    </tr>\n",
       "    <tr>\n",
       "      <th>Reading</th>\n",
       "      <td>1246.503937</td>\n",
       "      <td>0.346251</td>\n",
       "    </tr>\n",
       "    <tr>\n",
       "      <th>London</th>\n",
       "      <td>1289.325419</td>\n",
       "      <td>0.358146</td>\n",
       "    </tr>\n",
       "  </tbody>\n",
       "</table>\n",
       "</div>"
      ],
      "text/plain": [
       "         prep_time_seconds  Time(hours)\n",
       "city                                   \n",
       "Cardiff         846.800000     0.235222\n",
       "Paris           856.272638     0.237854\n",
       "Berlin          927.016892     0.257505\n",
       "Reading        1246.503937     0.346251\n",
       "London         1289.325419     0.358146"
      ]
     },
     "execution_count": 35,
     "metadata": {},
     "output_type": "execute_result"
    }
   ],
   "source": [
    "city=pd.DataFrame(df.groupby('city').mean()['prep_time_seconds']).sort_values(by='prep_time_seconds')\n",
    "city['Time(hours)']=city['prep_time_seconds']/3600\n",
    "\n",
    "city.head()"
   ]
  },
  {
   "cell_type": "code",
   "execution_count": 36,
   "id": "78fd65ae",
   "metadata": {},
   "outputs": [
    {
     "data": {
      "image/png": "[encoded data removed]",
      "text/plain": [
       "<Figure size 1800x720 with 1 Axes>"
      ]
     },
     "metadata": {
      "needs_background": "light"
     },
     "output_type": "display_data"
    }
   ],
   "source": [
    "plt.figure(figsize=(25,10))\n",
    "sns.barplot(x=city.index,y=city['Time(hours)'],data=city,palette='flare')\n",
    "plt.xticks(rotation=45)\n",
    "plt.show()"
   ]
  },
  {
   "cell_type": "code",
   "execution_count": 37,
   "id": "347c903e",
   "metadata": {},
   "outputs": [
    {
     "data": {
      "text/html": [
       "<div>\n",
       "<style scoped>\n",
       "    .dataframe tbody tr th:only-of-type {\n",
       "        vertical-align: middle;\n",
       "    }\n",
       "\n",
       "    .dataframe tbody tr th {\n",
       "        vertical-align: top;\n",
       "    }\n",
       "\n",
       "    .dataframe thead th {\n",
       "        text-align: right;\n",
       "    }\n",
       "</style>\n",
       "<table border=\"1\" class=\"dataframe\">\n",
       "  <thead>\n",
       "    <tr style=\"text-align: right;\">\n",
       "      <th></th>\n",
       "      <th>order_acknowledged_at</th>\n",
       "      <th>order_ready_at</th>\n",
       "      <th>order_value_gbp</th>\n",
       "      <th>restaurant_id</th>\n",
       "      <th>number_of_items</th>\n",
       "      <th>prep_time_seconds</th>\n",
       "      <th>country</th>\n",
       "      <th>city</th>\n",
       "      <th>type_of_food</th>\n",
       "      <th>date_of_order</th>\n",
       "      <th>acknow_hr</th>\n",
       "      <th>ready_hr</th>\n",
       "      <th>DAY</th>\n",
       "      <th>DAY_NUMBER</th>\n",
       "    </tr>\n",
       "  </thead>\n",
       "  <tbody>\n",
       "    <tr>\n",
       "      <th>0</th>\n",
       "      <td>2015-06-01 09:34:00.351812+00:00</td>\n",
       "      <td>2015-06-01 13:02:30.351682+00:00</td>\n",
       "      <td>15.10</td>\n",
       "      <td>2276</td>\n",
       "      <td>3</td>\n",
       "      <td>12509</td>\n",
       "      <td>UK</td>\n",
       "      <td>London</td>\n",
       "      <td>healthy</td>\n",
       "      <td>2015-06-01</td>\n",
       "      <td>9</td>\n",
       "      <td>13</td>\n",
       "      <td>Monday</td>\n",
       "      <td>0</td>\n",
       "    </tr>\n",
       "    <tr>\n",
       "      <th>1</th>\n",
       "      <td>2015-06-01 10:22:56.328104+00:00</td>\n",
       "      <td>2015-06-01 12:23:57.316309+00:00</td>\n",
       "      <td>36.00</td>\n",
       "      <td>2276</td>\n",
       "      <td>4</td>\n",
       "      <td>7260</td>\n",
       "      <td>UK</td>\n",
       "      <td>London</td>\n",
       "      <td>healthy</td>\n",
       "      <td>2015-06-01</td>\n",
       "      <td>10</td>\n",
       "      <td>12</td>\n",
       "      <td>Monday</td>\n",
       "      <td>0</td>\n",
       "    </tr>\n",
       "    <tr>\n",
       "      <th>2</th>\n",
       "      <td>2015-06-01 10:39:44.491932+00:00</td>\n",
       "      <td>2015-06-01 12:31:32.205864+00:00</td>\n",
       "      <td>48.00</td>\n",
       "      <td>604</td>\n",
       "      <td>1</td>\n",
       "      <td>6707</td>\n",
       "      <td>UK</td>\n",
       "      <td>London</td>\n",
       "      <td>american</td>\n",
       "      <td>2015-06-01</td>\n",
       "      <td>10</td>\n",
       "      <td>12</td>\n",
       "      <td>Monday</td>\n",
       "      <td>0</td>\n",
       "    </tr>\n",
       "    <tr>\n",
       "      <th>3</th>\n",
       "      <td>2015-06-01 10:50:44.072478+00:00</td>\n",
       "      <td>2015-06-01 12:24:36.777383+00:00</td>\n",
       "      <td>35.45</td>\n",
       "      <td>1518</td>\n",
       "      <td>4</td>\n",
       "      <td>5632</td>\n",
       "      <td>UK</td>\n",
       "      <td>London</td>\n",
       "      <td>healthy</td>\n",
       "      <td>2015-06-01</td>\n",
       "      <td>10</td>\n",
       "      <td>12</td>\n",
       "      <td>Monday</td>\n",
       "      <td>0</td>\n",
       "    </tr>\n",
       "    <tr>\n",
       "      <th>4</th>\n",
       "      <td>2015-06-01 11:02:23.080222+00:00</td>\n",
       "      <td>2015-06-01 12:48:49.660816+00:00</td>\n",
       "      <td>17.35</td>\n",
       "      <td>666</td>\n",
       "      <td>4</td>\n",
       "      <td>6386</td>\n",
       "      <td>UK</td>\n",
       "      <td>London</td>\n",
       "      <td>dessert</td>\n",
       "      <td>2015-06-01</td>\n",
       "      <td>11</td>\n",
       "      <td>12</td>\n",
       "      <td>Monday</td>\n",
       "      <td>0</td>\n",
       "    </tr>\n",
       "  </tbody>\n",
       "</table>\n",
       "</div>"
      ],
      "text/plain": [
       "             order_acknowledged_at                   order_ready_at  \\\n",
       "0 2015-06-01 09:34:00.351812+00:00 2015-06-01 13:02:30.351682+00:00   \n",
       "1 2015-06-01 10:22:56.328104+00:00 2015-06-01 12:23:57.316309+00:00   \n",
       "2 2015-06-01 10:39:44.491932+00:00 2015-06-01 12:31:32.205864+00:00   \n",
       "3 2015-06-01 10:50:44.072478+00:00 2015-06-01 12:24:36.777383+00:00   \n",
       "4 2015-06-01 11:02:23.080222+00:00 2015-06-01 12:48:49.660816+00:00   \n",
       "\n",
       "   order_value_gbp  restaurant_id  number_of_items  prep_time_seconds country  \\\n",
       "0            15.10           2276                3              12509      UK   \n",
       "1            36.00           2276                4               7260      UK   \n",
       "2            48.00            604                1               6707      UK   \n",
       "3            35.45           1518                4               5632      UK   \n",
       "4            17.35            666                4               6386      UK   \n",
       "\n",
       "     city type_of_food date_of_order  acknow_hr  ready_hr     DAY  DAY_NUMBER  \n",
       "0  London      healthy    2015-06-01          9        13  Monday           0  \n",
       "1  London      healthy    2015-06-01         10        12  Monday           0  \n",
       "2  London     american    2015-06-01         10        12  Monday           0  \n",
       "3  London      healthy    2015-06-01         10        12  Monday           0  \n",
       "4  London      dessert    2015-06-01         11        12  Monday           0  "
      ]
     },
     "execution_count": 37,
     "metadata": {},
     "output_type": "execute_result"
    }
   ],
   "source": [
    "df.reset_index(drop=True, inplace=True)\n",
    "df.head()"
   ]
  },
  {
   "cell_type": "markdown",
   "id": "934277b2",
   "metadata": {},
   "source": [
    "## Feature Engineering"
   ]
  },
  {
   "cell_type": "markdown",
   "id": "1e721ba2",
   "metadata": {},
   "source": [
    "Now, We have to convert categorical values to numerical values by employing one-hot encoding or label encoding techniques"
   ]
  },
  {
   "cell_type": "markdown",
   "id": "1a95478e",
   "metadata": {},
   "source": [
    "We have to map the countries with values, as there are only 4 unique countries present in the entire dataset"
   ]
  },
  {
   "cell_type": "code",
   "execution_count": 38,
   "id": "6b66f17b",
   "metadata": {},
   "outputs": [],
   "source": [
    "mapper={'UK':1,\"France\":2,\"Ireland\":3,\"Germany\":4}"
   ]
  },
  {
   "cell_type": "code",
   "execution_count": 39,
   "id": "07f1eb9b",
   "metadata": {},
   "outputs": [
    {
     "data": {
      "text/html": [
       "<div>\n",
       "<style scoped>\n",
       "    .dataframe tbody tr th:only-of-type {\n",
       "        vertical-align: middle;\n",
       "    }\n",
       "\n",
       "    .dataframe tbody tr th {\n",
       "        vertical-align: top;\n",
       "    }\n",
       "\n",
       "    .dataframe thead th {\n",
       "        text-align: right;\n",
       "    }\n",
       "</style>\n",
       "<table border=\"1\" class=\"dataframe\">\n",
       "  <thead>\n",
       "    <tr style=\"text-align: right;\">\n",
       "      <th></th>\n",
       "      <th>order_acknowledged_at</th>\n",
       "      <th>order_ready_at</th>\n",
       "      <th>order_value_gbp</th>\n",
       "      <th>restaurant_id</th>\n",
       "      <th>number_of_items</th>\n",
       "      <th>prep_time_seconds</th>\n",
       "      <th>country</th>\n",
       "      <th>city</th>\n",
       "      <th>type_of_food</th>\n",
       "      <th>date_of_order</th>\n",
       "      <th>acknow_hr</th>\n",
       "      <th>ready_hr</th>\n",
       "      <th>DAY</th>\n",
       "      <th>DAY_NUMBER</th>\n",
       "    </tr>\n",
       "  </thead>\n",
       "  <tbody>\n",
       "    <tr>\n",
       "      <th>0</th>\n",
       "      <td>2015-06-01 09:34:00.351812+00:00</td>\n",
       "      <td>2015-06-01 13:02:30.351682+00:00</td>\n",
       "      <td>15.10</td>\n",
       "      <td>2276</td>\n",
       "      <td>3</td>\n",
       "      <td>12509</td>\n",
       "      <td>1</td>\n",
       "      <td>London</td>\n",
       "      <td>healthy</td>\n",
       "      <td>2015-06-01</td>\n",
       "      <td>9</td>\n",
       "      <td>13</td>\n",
       "      <td>Monday</td>\n",
       "      <td>0</td>\n",
       "    </tr>\n",
       "    <tr>\n",
       "      <th>1</th>\n",
       "      <td>2015-06-01 10:22:56.328104+00:00</td>\n",
       "      <td>2015-06-01 12:23:57.316309+00:00</td>\n",
       "      <td>36.00</td>\n",
       "      <td>2276</td>\n",
       "      <td>4</td>\n",
       "      <td>7260</td>\n",
       "      <td>1</td>\n",
       "      <td>London</td>\n",
       "      <td>healthy</td>\n",
       "      <td>2015-06-01</td>\n",
       "      <td>10</td>\n",
       "      <td>12</td>\n",
       "      <td>Monday</td>\n",
       "      <td>0</td>\n",
       "    </tr>\n",
       "    <tr>\n",
       "      <th>2</th>\n",
       "      <td>2015-06-01 10:39:44.491932+00:00</td>\n",
       "      <td>2015-06-01 12:31:32.205864+00:00</td>\n",
       "      <td>48.00</td>\n",
       "      <td>604</td>\n",
       "      <td>1</td>\n",
       "      <td>6707</td>\n",
       "      <td>1</td>\n",
       "      <td>London</td>\n",
       "      <td>american</td>\n",
       "      <td>2015-06-01</td>\n",
       "      <td>10</td>\n",
       "      <td>12</td>\n",
       "      <td>Monday</td>\n",
       "      <td>0</td>\n",
       "    </tr>\n",
       "    <tr>\n",
       "      <th>3</th>\n",
       "      <td>2015-06-01 10:50:44.072478+00:00</td>\n",
       "      <td>2015-06-01 12:24:36.777383+00:00</td>\n",
       "      <td>35.45</td>\n",
       "      <td>1518</td>\n",
       "      <td>4</td>\n",
       "      <td>5632</td>\n",
       "      <td>1</td>\n",
       "      <td>London</td>\n",
       "      <td>healthy</td>\n",
       "      <td>2015-06-01</td>\n",
       "      <td>10</td>\n",
       "      <td>12</td>\n",
       "      <td>Monday</td>\n",
       "      <td>0</td>\n",
       "    </tr>\n",
       "    <tr>\n",
       "      <th>4</th>\n",
       "      <td>2015-06-01 11:02:23.080222+00:00</td>\n",
       "      <td>2015-06-01 12:48:49.660816+00:00</td>\n",
       "      <td>17.35</td>\n",
       "      <td>666</td>\n",
       "      <td>4</td>\n",
       "      <td>6386</td>\n",
       "      <td>1</td>\n",
       "      <td>London</td>\n",
       "      <td>dessert</td>\n",
       "      <td>2015-06-01</td>\n",
       "      <td>11</td>\n",
       "      <td>12</td>\n",
       "      <td>Monday</td>\n",
       "      <td>0</td>\n",
       "    </tr>\n",
       "  </tbody>\n",
       "</table>\n",
       "</div>"
      ],
      "text/plain": [
       "             order_acknowledged_at                   order_ready_at  \\\n",
       "0 2015-06-01 09:34:00.351812+00:00 2015-06-01 13:02:30.351682+00:00   \n",
       "1 2015-06-01 10:22:56.328104+00:00 2015-06-01 12:23:57.316309+00:00   \n",
       "2 2015-06-01 10:39:44.491932+00:00 2015-06-01 12:31:32.205864+00:00   \n",
       "3 2015-06-01 10:50:44.072478+00:00 2015-06-01 12:24:36.777383+00:00   \n",
       "4 2015-06-01 11:02:23.080222+00:00 2015-06-01 12:48:49.660816+00:00   \n",
       "\n",
       "   order_value_gbp  restaurant_id  number_of_items  prep_time_seconds  \\\n",
       "0            15.10           2276                3              12509   \n",
       "1            36.00           2276                4               7260   \n",
       "2            48.00            604                1               6707   \n",
       "3            35.45           1518                4               5632   \n",
       "4            17.35            666                4               6386   \n",
       "\n",
       "   country    city type_of_food date_of_order  acknow_hr  ready_hr     DAY  \\\n",
       "0        1  London      healthy    2015-06-01          9        13  Monday   \n",
       "1        1  London      healthy    2015-06-01         10        12  Monday   \n",
       "2        1  London     american    2015-06-01         10        12  Monday   \n",
       "3        1  London      healthy    2015-06-01         10        12  Monday   \n",
       "4        1  London      dessert    2015-06-01         11        12  Monday   \n",
       "\n",
       "   DAY_NUMBER  \n",
       "0           0  \n",
       "1           0  \n",
       "2           0  \n",
       "3           0  \n",
       "4           0  "
      ]
     },
     "execution_count": 39,
     "metadata": {},
     "output_type": "execute_result"
    }
   ],
   "source": [
    "df.replace({\"country\":mapper},inplace=True)\n",
    "df.head()\n"
   ]
  },
  {
   "cell_type": "code",
   "execution_count": 40,
   "id": "e9600937",
   "metadata": {},
   "outputs": [
    {
     "data": {
      "text/html": [
       "<div>\n",
       "<style scoped>\n",
       "    .dataframe tbody tr th:only-of-type {\n",
       "        vertical-align: middle;\n",
       "    }\n",
       "\n",
       "    .dataframe tbody tr th {\n",
       "        vertical-align: top;\n",
       "    }\n",
       "\n",
       "    .dataframe thead th {\n",
       "        text-align: right;\n",
       "    }\n",
       "</style>\n",
       "<table border=\"1\" class=\"dataframe\">\n",
       "  <thead>\n",
       "    <tr style=\"text-align: right;\">\n",
       "      <th></th>\n",
       "      <th>order_acknowledged_at</th>\n",
       "      <th>order_ready_at</th>\n",
       "      <th>order_value_gbp</th>\n",
       "      <th>restaurant_id</th>\n",
       "      <th>number_of_items</th>\n",
       "      <th>prep_time_seconds</th>\n",
       "      <th>country</th>\n",
       "      <th>city</th>\n",
       "      <th>type_of_food</th>\n",
       "      <th>date_of_order</th>\n",
       "      <th>acknow_hr</th>\n",
       "      <th>ready_hr</th>\n",
       "      <th>DAY</th>\n",
       "      <th>DAY_NUMBER</th>\n",
       "    </tr>\n",
       "  </thead>\n",
       "  <tbody>\n",
       "    <tr>\n",
       "      <th>0</th>\n",
       "      <td>2015-06-01 09:34:00.351812+00:00</td>\n",
       "      <td>2015-06-01 13:02:30.351682+00:00</td>\n",
       "      <td>15.10</td>\n",
       "      <td>2276</td>\n",
       "      <td>3</td>\n",
       "      <td>12509</td>\n",
       "      <td>1</td>\n",
       "      <td>London</td>\n",
       "      <td>healthy</td>\n",
       "      <td>2015-06-01</td>\n",
       "      <td>9</td>\n",
       "      <td>13</td>\n",
       "      <td>Monday</td>\n",
       "      <td>0</td>\n",
       "    </tr>\n",
       "    <tr>\n",
       "      <th>1</th>\n",
       "      <td>2015-06-01 10:22:56.328104+00:00</td>\n",
       "      <td>2015-06-01 12:23:57.316309+00:00</td>\n",
       "      <td>36.00</td>\n",
       "      <td>2276</td>\n",
       "      <td>4</td>\n",
       "      <td>7260</td>\n",
       "      <td>1</td>\n",
       "      <td>London</td>\n",
       "      <td>healthy</td>\n",
       "      <td>2015-06-01</td>\n",
       "      <td>10</td>\n",
       "      <td>12</td>\n",
       "      <td>Monday</td>\n",
       "      <td>0</td>\n",
       "    </tr>\n",
       "    <tr>\n",
       "      <th>2</th>\n",
       "      <td>2015-06-01 10:39:44.491932+00:00</td>\n",
       "      <td>2015-06-01 12:31:32.205864+00:00</td>\n",
       "      <td>48.00</td>\n",
       "      <td>604</td>\n",
       "      <td>1</td>\n",
       "      <td>6707</td>\n",
       "      <td>1</td>\n",
       "      <td>London</td>\n",
       "      <td>american</td>\n",
       "      <td>2015-06-01</td>\n",
       "      <td>10</td>\n",
       "      <td>12</td>\n",
       "      <td>Monday</td>\n",
       "      <td>0</td>\n",
       "    </tr>\n",
       "    <tr>\n",
       "      <th>3</th>\n",
       "      <td>2015-06-01 10:50:44.072478+00:00</td>\n",
       "      <td>2015-06-01 12:24:36.777383+00:00</td>\n",
       "      <td>35.45</td>\n",
       "      <td>1518</td>\n",
       "      <td>4</td>\n",
       "      <td>5632</td>\n",
       "      <td>1</td>\n",
       "      <td>London</td>\n",
       "      <td>healthy</td>\n",
       "      <td>2015-06-01</td>\n",
       "      <td>10</td>\n",
       "      <td>12</td>\n",
       "      <td>Monday</td>\n",
       "      <td>0</td>\n",
       "    </tr>\n",
       "    <tr>\n",
       "      <th>4</th>\n",
       "      <td>2015-06-01 11:02:23.080222+00:00</td>\n",
       "      <td>2015-06-01 12:48:49.660816+00:00</td>\n",
       "      <td>17.35</td>\n",
       "      <td>666</td>\n",
       "      <td>4</td>\n",
       "      <td>6386</td>\n",
       "      <td>1</td>\n",
       "      <td>London</td>\n",
       "      <td>dessert</td>\n",
       "      <td>2015-06-01</td>\n",
       "      <td>11</td>\n",
       "      <td>12</td>\n",
       "      <td>Monday</td>\n",
       "      <td>0</td>\n",
       "    </tr>\n",
       "  </tbody>\n",
       "</table>\n",
       "</div>"
      ],
      "text/plain": [
       "             order_acknowledged_at                   order_ready_at  \\\n",
       "0 2015-06-01 09:34:00.351812+00:00 2015-06-01 13:02:30.351682+00:00   \n",
       "1 2015-06-01 10:22:56.328104+00:00 2015-06-01 12:23:57.316309+00:00   \n",
       "2 2015-06-01 10:39:44.491932+00:00 2015-06-01 12:31:32.205864+00:00   \n",
       "3 2015-06-01 10:50:44.072478+00:00 2015-06-01 12:24:36.777383+00:00   \n",
       "4 2015-06-01 11:02:23.080222+00:00 2015-06-01 12:48:49.660816+00:00   \n",
       "\n",
       "   order_value_gbp  restaurant_id  number_of_items  prep_time_seconds  \\\n",
       "0            15.10           2276                3              12509   \n",
       "1            36.00           2276                4               7260   \n",
       "2            48.00            604                1               6707   \n",
       "3            35.45           1518                4               5632   \n",
       "4            17.35            666                4               6386   \n",
       "\n",
       "   country    city type_of_food date_of_order  acknow_hr  ready_hr     DAY  \\\n",
       "0        1  London      healthy    2015-06-01          9        13  Monday   \n",
       "1        1  London      healthy    2015-06-01         10        12  Monday   \n",
       "2        1  London     american    2015-06-01         10        12  Monday   \n",
       "3        1  London      healthy    2015-06-01         10        12  Monday   \n",
       "4        1  London      dessert    2015-06-01         11        12  Monday   \n",
       "\n",
       "   DAY_NUMBER  \n",
       "0           0  \n",
       "1           0  \n",
       "2           0  \n",
       "3           0  \n",
       "4           0  "
      ]
     },
     "execution_count": 40,
     "metadata": {},
     "output_type": "execute_result"
    }
   ],
   "source": [
    "df.head()"
   ]
  },
  {
   "cell_type": "code",
   "execution_count": 41,
   "id": "88d7566a",
   "metadata": {},
   "outputs": [],
   "source": [
    "from sklearn.preprocessing import LabelEncoder"
   ]
  },
  {
   "cell_type": "code",
   "execution_count": 42,
   "id": "db350053",
   "metadata": {},
   "outputs": [],
   "source": [
    "le=LabelEncoder()"
   ]
  },
  {
   "cell_type": "code",
   "execution_count": 43,
   "id": "cefd9d32",
   "metadata": {},
   "outputs": [],
   "source": [
    "df['city']=le.fit_transform(df['city'])"
   ]
  },
  {
   "cell_type": "code",
   "execution_count": 44,
   "id": "ae88b310",
   "metadata": {},
   "outputs": [],
   "source": [
    "df['type_of_food']=le.fit_transform(df['type_of_food'])"
   ]
  },
  {
   "cell_type": "code",
   "execution_count": 45,
   "id": "e24696f6",
   "metadata": {},
   "outputs": [
    {
     "data": {
      "text/html": [
       "<div>\n",
       "<style scoped>\n",
       "    .dataframe tbody tr th:only-of-type {\n",
       "        vertical-align: middle;\n",
       "    }\n",
       "\n",
       "    .dataframe tbody tr th {\n",
       "        vertical-align: top;\n",
       "    }\n",
       "\n",
       "    .dataframe thead th {\n",
       "        text-align: right;\n",
       "    }\n",
       "</style>\n",
       "<table border=\"1\" class=\"dataframe\">\n",
       "  <thead>\n",
       "    <tr style=\"text-align: right;\">\n",
       "      <th></th>\n",
       "      <th>order_acknowledged_at</th>\n",
       "      <th>order_ready_at</th>\n",
       "      <th>order_value_gbp</th>\n",
       "      <th>restaurant_id</th>\n",
       "      <th>number_of_items</th>\n",
       "      <th>prep_time_seconds</th>\n",
       "      <th>country</th>\n",
       "      <th>city</th>\n",
       "      <th>type_of_food</th>\n",
       "      <th>date_of_order</th>\n",
       "      <th>acknow_hr</th>\n",
       "      <th>ready_hr</th>\n",
       "      <th>DAY</th>\n",
       "      <th>DAY_NUMBER</th>\n",
       "    </tr>\n",
       "  </thead>\n",
       "  <tbody>\n",
       "    <tr>\n",
       "      <th>0</th>\n",
       "      <td>2015-06-01 09:34:00.351812+00:00</td>\n",
       "      <td>2015-06-01 13:02:30.351682+00:00</td>\n",
       "      <td>15.10</td>\n",
       "      <td>2276</td>\n",
       "      <td>3</td>\n",
       "      <td>12509</td>\n",
       "      <td>1</td>\n",
       "      <td>14</td>\n",
       "      <td>32</td>\n",
       "      <td>2015-06-01</td>\n",
       "      <td>9</td>\n",
       "      <td>13</td>\n",
       "      <td>Monday</td>\n",
       "      <td>0</td>\n",
       "    </tr>\n",
       "    <tr>\n",
       "      <th>1</th>\n",
       "      <td>2015-06-01 10:22:56.328104+00:00</td>\n",
       "      <td>2015-06-01 12:23:57.316309+00:00</td>\n",
       "      <td>36.00</td>\n",
       "      <td>2276</td>\n",
       "      <td>4</td>\n",
       "      <td>7260</td>\n",
       "      <td>1</td>\n",
       "      <td>14</td>\n",
       "      <td>32</td>\n",
       "      <td>2015-06-01</td>\n",
       "      <td>10</td>\n",
       "      <td>12</td>\n",
       "      <td>Monday</td>\n",
       "      <td>0</td>\n",
       "    </tr>\n",
       "    <tr>\n",
       "      <th>2</th>\n",
       "      <td>2015-06-01 10:39:44.491932+00:00</td>\n",
       "      <td>2015-06-01 12:31:32.205864+00:00</td>\n",
       "      <td>48.00</td>\n",
       "      <td>604</td>\n",
       "      <td>1</td>\n",
       "      <td>6707</td>\n",
       "      <td>1</td>\n",
       "      <td>14</td>\n",
       "      <td>0</td>\n",
       "      <td>2015-06-01</td>\n",
       "      <td>10</td>\n",
       "      <td>12</td>\n",
       "      <td>Monday</td>\n",
       "      <td>0</td>\n",
       "    </tr>\n",
       "    <tr>\n",
       "      <th>3</th>\n",
       "      <td>2015-06-01 10:50:44.072478+00:00</td>\n",
       "      <td>2015-06-01 12:24:36.777383+00:00</td>\n",
       "      <td>35.45</td>\n",
       "      <td>1518</td>\n",
       "      <td>4</td>\n",
       "      <td>5632</td>\n",
       "      <td>1</td>\n",
       "      <td>14</td>\n",
       "      <td>32</td>\n",
       "      <td>2015-06-01</td>\n",
       "      <td>10</td>\n",
       "      <td>12</td>\n",
       "      <td>Monday</td>\n",
       "      <td>0</td>\n",
       "    </tr>\n",
       "    <tr>\n",
       "      <th>4</th>\n",
       "      <td>2015-06-01 11:02:23.080222+00:00</td>\n",
       "      <td>2015-06-01 12:48:49.660816+00:00</td>\n",
       "      <td>17.35</td>\n",
       "      <td>666</td>\n",
       "      <td>4</td>\n",
       "      <td>6386</td>\n",
       "      <td>1</td>\n",
       "      <td>14</td>\n",
       "      <td>21</td>\n",
       "      <td>2015-06-01</td>\n",
       "      <td>11</td>\n",
       "      <td>12</td>\n",
       "      <td>Monday</td>\n",
       "      <td>0</td>\n",
       "    </tr>\n",
       "  </tbody>\n",
       "</table>\n",
       "</div>"
      ],
      "text/plain": [
       "             order_acknowledged_at                   order_ready_at  \\\n",
       "0 2015-06-01 09:34:00.351812+00:00 2015-06-01 13:02:30.351682+00:00   \n",
       "1 2015-06-01 10:22:56.328104+00:00 2015-06-01 12:23:57.316309+00:00   \n",
       "2 2015-06-01 10:39:44.491932+00:00 2015-06-01 12:31:32.205864+00:00   \n",
       "3 2015-06-01 10:50:44.072478+00:00 2015-06-01 12:24:36.777383+00:00   \n",
       "4 2015-06-01 11:02:23.080222+00:00 2015-06-01 12:48:49.660816+00:00   \n",
       "\n",
       "   order_value_gbp  restaurant_id  number_of_items  prep_time_seconds  \\\n",
       "0            15.10           2276                3              12509   \n",
       "1            36.00           2276                4               7260   \n",
       "2            48.00            604                1               6707   \n",
       "3            35.45           1518                4               5632   \n",
       "4            17.35            666                4               6386   \n",
       "\n",
       "   country  city  type_of_food date_of_order  acknow_hr  ready_hr     DAY  \\\n",
       "0        1    14            32    2015-06-01          9        13  Monday   \n",
       "1        1    14            32    2015-06-01         10        12  Monday   \n",
       "2        1    14             0    2015-06-01         10        12  Monday   \n",
       "3        1    14            32    2015-06-01         10        12  Monday   \n",
       "4        1    14            21    2015-06-01         11        12  Monday   \n",
       "\n",
       "   DAY_NUMBER  \n",
       "0           0  \n",
       "1           0  \n",
       "2           0  \n",
       "3           0  \n",
       "4           0  "
      ]
     },
     "execution_count": 45,
     "metadata": {},
     "output_type": "execute_result"
    }
   ],
   "source": [
    "df.head()"
   ]
  },
  {
   "cell_type": "markdown",
   "id": "3cd7aafe",
   "metadata": {},
   "source": [
    "All the required features are converted to numerical values.\n",
    "\n",
    "Now, We need to drop some columns, that are DAY,order_acknowledged_at and order_ready_at."
   ]
  },
  {
   "cell_type": "code",
   "execution_count": 46,
   "id": "fed695ed",
   "metadata": {},
   "outputs": [],
   "source": [
    "df.drop(columns={'DAY','order_acknowledged_at','order_ready_at'},inplace=True)"
   ]
  },
  {
   "cell_type": "code",
   "execution_count": 47,
   "id": "be478ddc",
   "metadata": {},
   "outputs": [
    {
     "data": {
      "text/html": [
       "<div>\n",
       "<style scoped>\n",
       "    .dataframe tbody tr th:only-of-type {\n",
       "        vertical-align: middle;\n",
       "    }\n",
       "\n",
       "    .dataframe tbody tr th {\n",
       "        vertical-align: top;\n",
       "    }\n",
       "\n",
       "    .dataframe thead th {\n",
       "        text-align: right;\n",
       "    }\n",
       "</style>\n",
       "<table border=\"1\" class=\"dataframe\">\n",
       "  <thead>\n",
       "    <tr style=\"text-align: right;\">\n",
       "      <th></th>\n",
       "      <th>order_value_gbp</th>\n",
       "      <th>restaurant_id</th>\n",
       "      <th>number_of_items</th>\n",
       "      <th>prep_time_seconds</th>\n",
       "      <th>country</th>\n",
       "      <th>city</th>\n",
       "      <th>type_of_food</th>\n",
       "      <th>date_of_order</th>\n",
       "      <th>acknow_hr</th>\n",
       "      <th>ready_hr</th>\n",
       "      <th>DAY_NUMBER</th>\n",
       "    </tr>\n",
       "  </thead>\n",
       "  <tbody>\n",
       "    <tr>\n",
       "      <th>0</th>\n",
       "      <td>15.10</td>\n",
       "      <td>2276</td>\n",
       "      <td>3</td>\n",
       "      <td>12509</td>\n",
       "      <td>1</td>\n",
       "      <td>14</td>\n",
       "      <td>32</td>\n",
       "      <td>2015-06-01</td>\n",
       "      <td>9</td>\n",
       "      <td>13</td>\n",
       "      <td>0</td>\n",
       "    </tr>\n",
       "    <tr>\n",
       "      <th>1</th>\n",
       "      <td>36.00</td>\n",
       "      <td>2276</td>\n",
       "      <td>4</td>\n",
       "      <td>7260</td>\n",
       "      <td>1</td>\n",
       "      <td>14</td>\n",
       "      <td>32</td>\n",
       "      <td>2015-06-01</td>\n",
       "      <td>10</td>\n",
       "      <td>12</td>\n",
       "      <td>0</td>\n",
       "    </tr>\n",
       "    <tr>\n",
       "      <th>2</th>\n",
       "      <td>48.00</td>\n",
       "      <td>604</td>\n",
       "      <td>1</td>\n",
       "      <td>6707</td>\n",
       "      <td>1</td>\n",
       "      <td>14</td>\n",
       "      <td>0</td>\n",
       "      <td>2015-06-01</td>\n",
       "      <td>10</td>\n",
       "      <td>12</td>\n",
       "      <td>0</td>\n",
       "    </tr>\n",
       "    <tr>\n",
       "      <th>3</th>\n",
       "      <td>35.45</td>\n",
       "      <td>1518</td>\n",
       "      <td>4</td>\n",
       "      <td>5632</td>\n",
       "      <td>1</td>\n",
       "      <td>14</td>\n",
       "      <td>32</td>\n",
       "      <td>2015-06-01</td>\n",
       "      <td>10</td>\n",
       "      <td>12</td>\n",
       "      <td>0</td>\n",
       "    </tr>\n",
       "    <tr>\n",
       "      <th>4</th>\n",
       "      <td>17.35</td>\n",
       "      <td>666</td>\n",
       "      <td>4</td>\n",
       "      <td>6386</td>\n",
       "      <td>1</td>\n",
       "      <td>14</td>\n",
       "      <td>21</td>\n",
       "      <td>2015-06-01</td>\n",
       "      <td>11</td>\n",
       "      <td>12</td>\n",
       "      <td>0</td>\n",
       "    </tr>\n",
       "  </tbody>\n",
       "</table>\n",
       "</div>"
      ],
      "text/plain": [
       "   order_value_gbp  restaurant_id  number_of_items  prep_time_seconds  \\\n",
       "0            15.10           2276                3              12509   \n",
       "1            36.00           2276                4               7260   \n",
       "2            48.00            604                1               6707   \n",
       "3            35.45           1518                4               5632   \n",
       "4            17.35            666                4               6386   \n",
       "\n",
       "   country  city  type_of_food date_of_order  acknow_hr  ready_hr  DAY_NUMBER  \n",
       "0        1    14            32    2015-06-01          9        13           0  \n",
       "1        1    14            32    2015-06-01         10        12           0  \n",
       "2        1    14             0    2015-06-01         10        12           0  \n",
       "3        1    14            32    2015-06-01         10        12           0  \n",
       "4        1    14            21    2015-06-01         11        12           0  "
      ]
     },
     "execution_count": 47,
     "metadata": {},
     "output_type": "execute_result"
    }
   ],
   "source": [
    "df.head()"
   ]
  },
  {
   "cell_type": "code",
   "execution_count": 48,
   "id": "9fe78e1b",
   "metadata": {},
   "outputs": [
    {
     "name": "stdout",
     "output_type": "stream",
     "text": [
      "<class 'pandas.core.frame.DataFrame'>\n",
      "RangeIndex: 32394 entries, 0 to 32393\n",
      "Data columns (total 11 columns):\n",
      " #   Column             Non-Null Count  Dtype         \n",
      "---  ------             --------------  -----         \n",
      " 0   order_value_gbp    32394 non-null  float64       \n",
      " 1   restaurant_id      32394 non-null  int64         \n",
      " 2   number_of_items    32394 non-null  int64         \n",
      " 3   prep_time_seconds  32394 non-null  int64         \n",
      " 4   country            32394 non-null  int64         \n",
      " 5   city               32394 non-null  int32         \n",
      " 6   type_of_food       32394 non-null  int32         \n",
      " 7   date_of_order      32394 non-null  datetime64[ns]\n",
      " 8   acknow_hr          32394 non-null  int64         \n",
      " 9   ready_hr           32394 non-null  int64         \n",
      " 10  DAY_NUMBER         32394 non-null  int64         \n",
      "dtypes: datetime64[ns](1), float64(1), int32(2), int64(7)\n",
      "memory usage: 2.5 MB\n"
     ]
    }
   ],
   "source": [
    "df.info()"
   ]
  },
  {
   "cell_type": "markdown",
   "id": "05dc2c93",
   "metadata": {},
   "source": [
    "No feature has the type as object"
   ]
  },
  {
   "cell_type": "code",
   "execution_count": 49,
   "id": "a61f4b7c",
   "metadata": {},
   "outputs": [],
   "source": [
    "from sklearn import metrics\n",
    "from sklearn.model_selection import train_test_split\n",
    "from sklearn.linear_model import LogisticRegression\n",
    "from sklearn.ensemble import RandomForestRegressor\n",
    "from sklearn.svm import SVR\n",
    "import xgboost as xbg\n",
    "from sklearn.pipeline import Pipeline\n",
    "from sklearn.metrics import accuracy_score\n",
    "from sklearn.metrics import classification_report"
   ]
  },
  {
   "cell_type": "markdown",
   "id": "e05fefe1",
   "metadata": {},
   "source": [
    "Splitting the dataset into training and testing.\n",
    "\n",
    "Giving test size as 20% from entire data"
   ]
  },
  {
   "cell_type": "code",
   "execution_count": 50,
   "id": "c8597a68",
   "metadata": {},
   "outputs": [],
   "source": [
    "x=df.drop(columns={'prep_time_seconds',\"date_of_order\"},axis=1)\n",
    "y=df['prep_time_seconds']"
   ]
  },
  {
   "cell_type": "code",
   "execution_count": 51,
   "id": "d4a4cd26",
   "metadata": {},
   "outputs": [],
   "source": [
    "X_train, X_test, y_train, y_test=train_test_split(x,y,test_size=0.2,random_state=42) "
   ]
  },
  {
   "cell_type": "code",
   "execution_count": 52,
   "id": "d80082ac",
   "metadata": {
    "scrolled": true
   },
   "outputs": [
    {
     "data": {
      "text/html": [
       "<div>\n",
       "<style scoped>\n",
       "    .dataframe tbody tr th:only-of-type {\n",
       "        vertical-align: middle;\n",
       "    }\n",
       "\n",
       "    .dataframe tbody tr th {\n",
       "        vertical-align: top;\n",
       "    }\n",
       "\n",
       "    .dataframe thead th {\n",
       "        text-align: right;\n",
       "    }\n",
       "</style>\n",
       "<table border=\"1\" class=\"dataframe\">\n",
       "  <thead>\n",
       "    <tr style=\"text-align: right;\">\n",
       "      <th></th>\n",
       "      <th>order_value_gbp</th>\n",
       "      <th>restaurant_id</th>\n",
       "      <th>number_of_items</th>\n",
       "      <th>country</th>\n",
       "      <th>city</th>\n",
       "      <th>type_of_food</th>\n",
       "      <th>acknow_hr</th>\n",
       "      <th>ready_hr</th>\n",
       "      <th>DAY_NUMBER</th>\n",
       "    </tr>\n",
       "  </thead>\n",
       "  <tbody>\n",
       "    <tr>\n",
       "      <th>7893</th>\n",
       "      <td>27.9</td>\n",
       "      <td>2746</td>\n",
       "      <td>3</td>\n",
       "      <td>1</td>\n",
       "      <td>14</td>\n",
       "      <td>39</td>\n",
       "      <td>19</td>\n",
       "      <td>19</td>\n",
       "      <td>0</td>\n",
       "    </tr>\n",
       "    <tr>\n",
       "      <th>22635</th>\n",
       "      <td>16.0</td>\n",
       "      <td>1274</td>\n",
       "      <td>3</td>\n",
       "      <td>1</td>\n",
       "      <td>14</td>\n",
       "      <td>82</td>\n",
       "      <td>14</td>\n",
       "      <td>14</td>\n",
       "      <td>0</td>\n",
       "    </tr>\n",
       "    <tr>\n",
       "      <th>25161</th>\n",
       "      <td>19.9</td>\n",
       "      <td>979</td>\n",
       "      <td>3</td>\n",
       "      <td>1</td>\n",
       "      <td>14</td>\n",
       "      <td>70</td>\n",
       "      <td>20</td>\n",
       "      <td>20</td>\n",
       "      <td>2</td>\n",
       "    </tr>\n",
       "    <tr>\n",
       "      <th>19514</th>\n",
       "      <td>26.0</td>\n",
       "      <td>1112</td>\n",
       "      <td>4</td>\n",
       "      <td>1</td>\n",
       "      <td>14</td>\n",
       "      <td>16</td>\n",
       "      <td>21</td>\n",
       "      <td>21</td>\n",
       "      <td>4</td>\n",
       "    </tr>\n",
       "    <tr>\n",
       "      <th>547</th>\n",
       "      <td>15.5</td>\n",
       "      <td>2729</td>\n",
       "      <td>4</td>\n",
       "      <td>1</td>\n",
       "      <td>14</td>\n",
       "      <td>82</td>\n",
       "      <td>19</td>\n",
       "      <td>19</td>\n",
       "      <td>0</td>\n",
       "    </tr>\n",
       "  </tbody>\n",
       "</table>\n",
       "</div>"
      ],
      "text/plain": [
       "       order_value_gbp  restaurant_id  number_of_items  country  city  \\\n",
       "7893              27.9           2746                3        1    14   \n",
       "22635             16.0           1274                3        1    14   \n",
       "25161             19.9            979                3        1    14   \n",
       "19514             26.0           1112                4        1    14   \n",
       "547               15.5           2729                4        1    14   \n",
       "\n",
       "       type_of_food  acknow_hr  ready_hr  DAY_NUMBER  \n",
       "7893             39         19        19           0  \n",
       "22635            82         14        14           0  \n",
       "25161            70         20        20           2  \n",
       "19514            16         21        21           4  \n",
       "547              82         19        19           0  "
      ]
     },
     "execution_count": 52,
     "metadata": {},
     "output_type": "execute_result"
    }
   ],
   "source": [
    "X_train.head()"
   ]
  },
  {
   "cell_type": "markdown",
   "id": "6c22cb4b",
   "metadata": {},
   "source": [
    "Now, using pipeline, we are going to fit the taining data to the models and make the predictions.\n"
   ]
  },
  {
   "cell_type": "code",
   "execution_count": 53,
   "id": "82e6ad86",
   "metadata": {},
   "outputs": [
    {
     "data": {
      "application/javascript": [
       "\n",
       "        if (window._pyforest_update_imports_cell) { window._pyforest_update_imports_cell('import xgboost as xgb'); }\n",
       "    "
      ],
      "text/plain": [
       "<IPython.core.display.Javascript object>"
      ]
     },
     "metadata": {},
     "output_type": "display_data"
    }
   ],
   "source": [
    "lister=[LogisticRegression(max_iter=300),RandomForestRegressor(n_estimators=600),SVR(),xgb.XGBRFRegressor(n_estimators=500)]"
   ]
  },
  {
   "cell_type": "code",
   "execution_count": 57,
   "id": "33f2d93c",
   "metadata": {},
   "outputs": [
    {
     "name": "stdout",
     "output_type": "stream",
     "text": [
      "LogisticRegression(max_iter=300) :\n",
      "MAE: 1152.6826670782527\n",
      "MSE: 24875390.046457786\n",
      "RMSE: 4987.523438186309\n",
      "RandomForestRegressor(n_estimators=600) :\n",
      "MAE: 661.4477751696363\n",
      "MSE: 8842884.116620263\n",
      "RMSE: 2973.698726606356\n",
      "SVR() :\n",
      "MAE: 792.3680108005667\n",
      "MSE: 15587137.853073113\n",
      "RMSE: 3948.054945548898\n",
      "XGBRFRegressor(base_score=0.5, booster='gbtree', colsample_bylevel=1,\n",
      "               colsample_bytree=1, enable_categorical=False, gamma=0, gpu_id=-1,\n",
      "               importance_type=None, interaction_constraints='',\n",
      "               max_delta_step=0, max_depth=6, min_child_weight=1, missing=nan,\n",
      "               monotone_constraints='()', n_estimators=500, n_jobs=8,\n",
      "               num_parallel_tree=500, objective='reg:squarederror',\n",
      "               predictor='auto', random_state=0, reg_alpha=0,\n",
      "               scale_pos_weight=1, tree_method='exact', validate_parameters=1,\n",
      "               verbosity=None) :\n",
      "MAE: 730.1688909658699\n",
      "MSE: 8682150.624820078\n",
      "RMSE: 2946.5489347404496\n"
     ]
    }
   ],
   "source": [
    "for i in lister:\n",
    "    pipe=Pipeline([('model',i)])\n",
    "    pipe.fit(X_train,y_train)\n",
    "    pipe_pred=pipe.predict(X_test)\n",
    "    print(i,\":\")\n",
    "    print('MAE:', metrics.mean_absolute_error(y_test, pipe_pred))\n",
    "    print('MSE:', metrics.mean_squared_error(y_test, pipe_pred))\n",
    "    print('RMSE:', np.sqrt(metrics.mean_squared_error(y_test, pipe_pred)))"
   ]
  },
  {
   "cell_type": "markdown",
   "id": "5b3ed16a",
   "metadata": {},
   "source": [
    "Comparing the results of metrics for all algorithms, Xgboost algorithm gives best results."
   ]
  },
  {
   "cell_type": "markdown",
   "id": "9c50e216",
   "metadata": {},
   "source": [
    "We also observe that, the dataset is imbalanced."
   ]
  },
  {
   "cell_type": "code",
   "execution_count": null,
   "id": "642e7455",
   "metadata": {},
   "outputs": [],
   "source": []
  },
  {
   "cell_type": "code",
   "execution_count": null,
   "id": "7df06aef",
   "metadata": {},
   "outputs": [],
   "source": []
  }
 ],
 "metadata": {
  "kernelspec": {
   "display_name": "Python 3",
   "language": "python",
   "name": "python3"
  }
 },
 "nbformat": 4,
 "nbformat_minor": 5
}

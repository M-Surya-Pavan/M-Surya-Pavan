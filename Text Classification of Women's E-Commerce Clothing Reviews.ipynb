{
 "cells": [
  {
   "cell_type": "markdown",
   "id": "b5e2624e",
   "metadata": {},
   "source": [
    "Importing necessary Libraries"
   ]
  },
  {
   "cell_type": "code",
   "execution_count": 1,
   "id": "03640e37",
   "metadata": {},
   "outputs": [],
   "source": [
    "import pandas as pd\n",
    "import numpy as np\n",
    "import matplotlib.pyplot as plt\n",
    "%matplotlib inline\n",
    "import seaborn as sns"
   ]
  },
  {
   "cell_type": "code",
   "execution_count": 2,
   "id": "bd5e2562",
   "metadata": {},
   "outputs": [],
   "source": [
    "import warnings\n",
    "warnings.filterwarnings(action='ignore')"
   ]
  },
  {
   "cell_type": "markdown",
   "id": "bb144657",
   "metadata": {},
   "source": [
    "Reading the dataset"
   ]
  },
  {
   "cell_type": "code",
   "execution_count": 3,
   "id": "418dd264",
   "metadata": {},
   "outputs": [],
   "source": [
    "df=pd.read_csv(r\"C:\\Users\\surya pavan\\Downloads\\Women's E-commerce Clothing Reviews\\Womens Clothing E-Commerce Reviews.csv\")"
   ]
  },
  {
   "cell_type": "markdown",
   "id": "10e40fd0",
   "metadata": {},
   "source": [
    "Displaying first 5 rows of data"
   ]
  },
  {
   "cell_type": "code",
   "execution_count": 4,
   "id": "2696e4a1",
   "metadata": {
    "scrolled": false
   },
   "outputs": [
    {
     "data": {
      "text/html": [
       "<div>\n",
       "<style scoped>\n",
       "    .dataframe tbody tr th:only-of-type {\n",
       "        vertical-align: middle;\n",
       "    }\n",
       "\n",
       "    .dataframe tbody tr th {\n",
       "        vertical-align: top;\n",
       "    }\n",
       "\n",
       "    .dataframe thead th {\n",
       "        text-align: right;\n",
       "    }\n",
       "</style>\n",
       "<table border=\"1\" class=\"dataframe\">\n",
       "  <thead>\n",
       "    <tr style=\"text-align: right;\">\n",
       "      <th></th>\n",
       "      <th>Unnamed: 0</th>\n",
       "      <th>Clothing ID</th>\n",
       "      <th>Age</th>\n",
       "      <th>Title</th>\n",
       "      <th>Review Text</th>\n",
       "      <th>Rating</th>\n",
       "      <th>Recommended IND</th>\n",
       "      <th>Positive Feedback Count</th>\n",
       "      <th>Division Name</th>\n",
       "      <th>Department Name</th>\n",
       "      <th>Class Name</th>\n",
       "    </tr>\n",
       "  </thead>\n",
       "  <tbody>\n",
       "    <tr>\n",
       "      <th>0</th>\n",
       "      <td>0</td>\n",
       "      <td>767</td>\n",
       "      <td>33</td>\n",
       "      <td>NaN</td>\n",
       "      <td>Absolutely wonderful - silky and sexy and comf...</td>\n",
       "      <td>4</td>\n",
       "      <td>1</td>\n",
       "      <td>0</td>\n",
       "      <td>Initmates</td>\n",
       "      <td>Intimate</td>\n",
       "      <td>Intimates</td>\n",
       "    </tr>\n",
       "    <tr>\n",
       "      <th>1</th>\n",
       "      <td>1</td>\n",
       "      <td>1080</td>\n",
       "      <td>34</td>\n",
       "      <td>NaN</td>\n",
       "      <td>Love this dress!  it's sooo pretty.  i happene...</td>\n",
       "      <td>5</td>\n",
       "      <td>1</td>\n",
       "      <td>4</td>\n",
       "      <td>General</td>\n",
       "      <td>Dresses</td>\n",
       "      <td>Dresses</td>\n",
       "    </tr>\n",
       "    <tr>\n",
       "      <th>2</th>\n",
       "      <td>2</td>\n",
       "      <td>1077</td>\n",
       "      <td>60</td>\n",
       "      <td>Some major design flaws</td>\n",
       "      <td>I had such high hopes for this dress and reall...</td>\n",
       "      <td>3</td>\n",
       "      <td>0</td>\n",
       "      <td>0</td>\n",
       "      <td>General</td>\n",
       "      <td>Dresses</td>\n",
       "      <td>Dresses</td>\n",
       "    </tr>\n",
       "    <tr>\n",
       "      <th>3</th>\n",
       "      <td>3</td>\n",
       "      <td>1049</td>\n",
       "      <td>50</td>\n",
       "      <td>My favorite buy!</td>\n",
       "      <td>I love, love, love this jumpsuit. it's fun, fl...</td>\n",
       "      <td>5</td>\n",
       "      <td>1</td>\n",
       "      <td>0</td>\n",
       "      <td>General Petite</td>\n",
       "      <td>Bottoms</td>\n",
       "      <td>Pants</td>\n",
       "    </tr>\n",
       "    <tr>\n",
       "      <th>4</th>\n",
       "      <td>4</td>\n",
       "      <td>847</td>\n",
       "      <td>47</td>\n",
       "      <td>Flattering shirt</td>\n",
       "      <td>This shirt is very flattering to all due to th...</td>\n",
       "      <td>5</td>\n",
       "      <td>1</td>\n",
       "      <td>6</td>\n",
       "      <td>General</td>\n",
       "      <td>Tops</td>\n",
       "      <td>Blouses</td>\n",
       "    </tr>\n",
       "  </tbody>\n",
       "</table>\n",
       "</div>"
      ],
      "text/plain": [
       "   Unnamed: 0  Clothing ID  Age                    Title  \\\n",
       "0           0          767   33                      NaN   \n",
       "1           1         1080   34                      NaN   \n",
       "2           2         1077   60  Some major design flaws   \n",
       "3           3         1049   50         My favorite buy!   \n",
       "4           4          847   47         Flattering shirt   \n",
       "\n",
       "                                         Review Text  Rating  Recommended IND  \\\n",
       "0  Absolutely wonderful - silky and sexy and comf...       4                1   \n",
       "1  Love this dress!  it's sooo pretty.  i happene...       5                1   \n",
       "2  I had such high hopes for this dress and reall...       3                0   \n",
       "3  I love, love, love this jumpsuit. it's fun, fl...       5                1   \n",
       "4  This shirt is very flattering to all due to th...       5                1   \n",
       "\n",
       "   Positive Feedback Count   Division Name Department Name Class Name  \n",
       "0                        0       Initmates        Intimate  Intimates  \n",
       "1                        4         General         Dresses    Dresses  \n",
       "2                        0         General         Dresses    Dresses  \n",
       "3                        0  General Petite         Bottoms      Pants  \n",
       "4                        6         General            Tops    Blouses  "
      ]
     },
     "execution_count": 4,
     "metadata": {},
     "output_type": "execute_result"
    }
   ],
   "source": [
    "df.head()"
   ]
  },
  {
   "cell_type": "markdown",
   "id": "4c3fdea8",
   "metadata": {},
   "source": [
    "Displaying the shape of dataset"
   ]
  },
  {
   "cell_type": "code",
   "execution_count": 5,
   "id": "2d49e6a8",
   "metadata": {},
   "outputs": [
    {
     "data": {
      "text/plain": [
       "(23486, 11)"
      ]
     },
     "execution_count": 5,
     "metadata": {},
     "output_type": "execute_result"
    }
   ],
   "source": [
    "df.shape"
   ]
  },
  {
   "cell_type": "markdown",
   "id": "4bc62513",
   "metadata": {},
   "source": [
    "Information of Dataset"
   ]
  },
  {
   "cell_type": "code",
   "execution_count": 6,
   "id": "47c546c7",
   "metadata": {},
   "outputs": [
    {
     "name": "stdout",
     "output_type": "stream",
     "text": [
      "<class 'pandas.core.frame.DataFrame'>\n",
      "RangeIndex: 23486 entries, 0 to 23485\n",
      "Data columns (total 11 columns):\n",
      " #   Column                   Non-Null Count  Dtype \n",
      "---  ------                   --------------  ----- \n",
      " 0   Unnamed: 0               23486 non-null  int64 \n",
      " 1   Clothing ID              23486 non-null  int64 \n",
      " 2   Age                      23486 non-null  int64 \n",
      " 3   Title                    19676 non-null  object\n",
      " 4   Review Text              22641 non-null  object\n",
      " 5   Rating                   23486 non-null  int64 \n",
      " 6   Recommended IND          23486 non-null  int64 \n",
      " 7   Positive Feedback Count  23486 non-null  int64 \n",
      " 8   Division Name            23472 non-null  object\n",
      " 9   Department Name          23472 non-null  object\n",
      " 10  Class Name               23472 non-null  object\n",
      "dtypes: int64(6), object(5)\n",
      "memory usage: 2.0+ MB\n"
     ]
    }
   ],
   "source": [
    "df.info()"
   ]
  },
  {
   "cell_type": "markdown",
   "id": "9346f9fe",
   "metadata": {},
   "source": [
    "We can see that, column with column name \"Unnamed\" is not necessary, Dropping that column."
   ]
  },
  {
   "cell_type": "code",
   "execution_count": 7,
   "id": "b2667845",
   "metadata": {},
   "outputs": [],
   "source": [
    "df.drop(columns=['Unnamed: 0'],axis=0,inplace=True)"
   ]
  },
  {
   "cell_type": "code",
   "execution_count": 8,
   "id": "8155a5ba",
   "metadata": {
    "scrolled": false
   },
   "outputs": [
    {
     "data": {
      "text/html": [
       "<div>\n",
       "<style scoped>\n",
       "    .dataframe tbody tr th:only-of-type {\n",
       "        vertical-align: middle;\n",
       "    }\n",
       "\n",
       "    .dataframe tbody tr th {\n",
       "        vertical-align: top;\n",
       "    }\n",
       "\n",
       "    .dataframe thead th {\n",
       "        text-align: right;\n",
       "    }\n",
       "</style>\n",
       "<table border=\"1\" class=\"dataframe\">\n",
       "  <thead>\n",
       "    <tr style=\"text-align: right;\">\n",
       "      <th></th>\n",
       "      <th>Clothing ID</th>\n",
       "      <th>Age</th>\n",
       "      <th>Title</th>\n",
       "      <th>Review Text</th>\n",
       "      <th>Rating</th>\n",
       "      <th>Recommended IND</th>\n",
       "      <th>Positive Feedback Count</th>\n",
       "      <th>Division Name</th>\n",
       "      <th>Department Name</th>\n",
       "      <th>Class Name</th>\n",
       "    </tr>\n",
       "  </thead>\n",
       "  <tbody>\n",
       "    <tr>\n",
       "      <th>0</th>\n",
       "      <td>767</td>\n",
       "      <td>33</td>\n",
       "      <td>NaN</td>\n",
       "      <td>Absolutely wonderful - silky and sexy and comf...</td>\n",
       "      <td>4</td>\n",
       "      <td>1</td>\n",
       "      <td>0</td>\n",
       "      <td>Initmates</td>\n",
       "      <td>Intimate</td>\n",
       "      <td>Intimates</td>\n",
       "    </tr>\n",
       "    <tr>\n",
       "      <th>1</th>\n",
       "      <td>1080</td>\n",
       "      <td>34</td>\n",
       "      <td>NaN</td>\n",
       "      <td>Love this dress!  it's sooo pretty.  i happene...</td>\n",
       "      <td>5</td>\n",
       "      <td>1</td>\n",
       "      <td>4</td>\n",
       "      <td>General</td>\n",
       "      <td>Dresses</td>\n",
       "      <td>Dresses</td>\n",
       "    </tr>\n",
       "    <tr>\n",
       "      <th>2</th>\n",
       "      <td>1077</td>\n",
       "      <td>60</td>\n",
       "      <td>Some major design flaws</td>\n",
       "      <td>I had such high hopes for this dress and reall...</td>\n",
       "      <td>3</td>\n",
       "      <td>0</td>\n",
       "      <td>0</td>\n",
       "      <td>General</td>\n",
       "      <td>Dresses</td>\n",
       "      <td>Dresses</td>\n",
       "    </tr>\n",
       "    <tr>\n",
       "      <th>3</th>\n",
       "      <td>1049</td>\n",
       "      <td>50</td>\n",
       "      <td>My favorite buy!</td>\n",
       "      <td>I love, love, love this jumpsuit. it's fun, fl...</td>\n",
       "      <td>5</td>\n",
       "      <td>1</td>\n",
       "      <td>0</td>\n",
       "      <td>General Petite</td>\n",
       "      <td>Bottoms</td>\n",
       "      <td>Pants</td>\n",
       "    </tr>\n",
       "    <tr>\n",
       "      <th>4</th>\n",
       "      <td>847</td>\n",
       "      <td>47</td>\n",
       "      <td>Flattering shirt</td>\n",
       "      <td>This shirt is very flattering to all due to th...</td>\n",
       "      <td>5</td>\n",
       "      <td>1</td>\n",
       "      <td>6</td>\n",
       "      <td>General</td>\n",
       "      <td>Tops</td>\n",
       "      <td>Blouses</td>\n",
       "    </tr>\n",
       "  </tbody>\n",
       "</table>\n",
       "</div>"
      ],
      "text/plain": [
       "   Clothing ID  Age                    Title  \\\n",
       "0          767   33                      NaN   \n",
       "1         1080   34                      NaN   \n",
       "2         1077   60  Some major design flaws   \n",
       "3         1049   50         My favorite buy!   \n",
       "4          847   47         Flattering shirt   \n",
       "\n",
       "                                         Review Text  Rating  Recommended IND  \\\n",
       "0  Absolutely wonderful - silky and sexy and comf...       4                1   \n",
       "1  Love this dress!  it's sooo pretty.  i happene...       5                1   \n",
       "2  I had such high hopes for this dress and reall...       3                0   \n",
       "3  I love, love, love this jumpsuit. it's fun, fl...       5                1   \n",
       "4  This shirt is very flattering to all due to th...       5                1   \n",
       "\n",
       "   Positive Feedback Count   Division Name Department Name Class Name  \n",
       "0                        0       Initmates        Intimate  Intimates  \n",
       "1                        4         General         Dresses    Dresses  \n",
       "2                        0         General         Dresses    Dresses  \n",
       "3                        0  General Petite         Bottoms      Pants  \n",
       "4                        6         General            Tops    Blouses  "
      ]
     },
     "execution_count": 8,
     "metadata": {},
     "output_type": "execute_result"
    }
   ],
   "source": [
    "df.head()"
   ]
  },
  {
   "cell_type": "markdown",
   "id": "9cc6d24b",
   "metadata": {},
   "source": [
    "#####  Checking Duplicates in the dataset"
   ]
  },
  {
   "cell_type": "code",
   "execution_count": 9,
   "id": "0cbe8da8",
   "metadata": {
    "scrolled": false
   },
   "outputs": [
    {
     "data": {
      "text/plain": [
       "21"
      ]
     },
     "execution_count": 9,
     "metadata": {},
     "output_type": "execute_result"
    }
   ],
   "source": [
    "df.duplicated().sum()\n"
   ]
  },
  {
   "cell_type": "code",
   "execution_count": 10,
   "id": "b167f3b1",
   "metadata": {},
   "outputs": [
    {
     "name": "stdout",
     "output_type": "stream",
     "text": [
      "(23486, 10)\n"
     ]
    }
   ],
   "source": [
    "print(df.shape)"
   ]
  },
  {
   "cell_type": "markdown",
   "id": "7e1f2ec7",
   "metadata": {},
   "source": [
    "There are 21 duplicates. now, we are dropping the duplicates "
   ]
  },
  {
   "cell_type": "code",
   "execution_count": 11,
   "id": "d32d6f6b",
   "metadata": {},
   "outputs": [],
   "source": [
    "df.drop_duplicates(inplace=True)\n"
   ]
  },
  {
   "cell_type": "code",
   "execution_count": 12,
   "id": "1ad97b06",
   "metadata": {},
   "outputs": [
    {
     "data": {
      "text/plain": [
       "(23465, 10)"
      ]
     },
     "execution_count": 12,
     "metadata": {},
     "output_type": "execute_result"
    }
   ],
   "source": [
    "df.shape"
   ]
  },
  {
   "cell_type": "markdown",
   "id": "18eb0bf1",
   "metadata": {},
   "source": [
    "Describing the continuous features with mean, std and etc., properties"
   ]
  },
  {
   "cell_type": "code",
   "execution_count": 13,
   "id": "be5bf511",
   "metadata": {
    "scrolled": true
   },
   "outputs": [
    {
     "data": {
      "text/html": [
       "<div>\n",
       "<style scoped>\n",
       "    .dataframe tbody tr th:only-of-type {\n",
       "        vertical-align: middle;\n",
       "    }\n",
       "\n",
       "    .dataframe tbody tr th {\n",
       "        vertical-align: top;\n",
       "    }\n",
       "\n",
       "    .dataframe thead th {\n",
       "        text-align: right;\n",
       "    }\n",
       "</style>\n",
       "<table border=\"1\" class=\"dataframe\">\n",
       "  <thead>\n",
       "    <tr style=\"text-align: right;\">\n",
       "      <th></th>\n",
       "      <th>Clothing ID</th>\n",
       "      <th>Age</th>\n",
       "      <th>Rating</th>\n",
       "      <th>Recommended IND</th>\n",
       "      <th>Positive Feedback Count</th>\n",
       "    </tr>\n",
       "  </thead>\n",
       "  <tbody>\n",
       "    <tr>\n",
       "      <th>count</th>\n",
       "      <td>23465.000000</td>\n",
       "      <td>23465.000000</td>\n",
       "      <td>23465.000000</td>\n",
       "      <td>23465.000000</td>\n",
       "      <td>23465.000000</td>\n",
       "    </tr>\n",
       "    <tr>\n",
       "      <th>mean</th>\n",
       "      <td>918.096825</td>\n",
       "      <td>43.200128</td>\n",
       "      <td>4.195355</td>\n",
       "      <td>0.822203</td>\n",
       "      <td>2.538206</td>\n",
       "    </tr>\n",
       "    <tr>\n",
       "      <th>std</th>\n",
       "      <td>203.362035</td>\n",
       "      <td>12.280712</td>\n",
       "      <td>1.110278</td>\n",
       "      <td>0.382350</td>\n",
       "      <td>5.704248</td>\n",
       "    </tr>\n",
       "    <tr>\n",
       "      <th>min</th>\n",
       "      <td>0.000000</td>\n",
       "      <td>18.000000</td>\n",
       "      <td>1.000000</td>\n",
       "      <td>0.000000</td>\n",
       "      <td>0.000000</td>\n",
       "    </tr>\n",
       "    <tr>\n",
       "      <th>25%</th>\n",
       "      <td>861.000000</td>\n",
       "      <td>34.000000</td>\n",
       "      <td>4.000000</td>\n",
       "      <td>1.000000</td>\n",
       "      <td>0.000000</td>\n",
       "    </tr>\n",
       "    <tr>\n",
       "      <th>50%</th>\n",
       "      <td>936.000000</td>\n",
       "      <td>41.000000</td>\n",
       "      <td>5.000000</td>\n",
       "      <td>1.000000</td>\n",
       "      <td>1.000000</td>\n",
       "    </tr>\n",
       "    <tr>\n",
       "      <th>75%</th>\n",
       "      <td>1078.000000</td>\n",
       "      <td>52.000000</td>\n",
       "      <td>5.000000</td>\n",
       "      <td>1.000000</td>\n",
       "      <td>3.000000</td>\n",
       "    </tr>\n",
       "    <tr>\n",
       "      <th>max</th>\n",
       "      <td>1205.000000</td>\n",
       "      <td>99.000000</td>\n",
       "      <td>5.000000</td>\n",
       "      <td>1.000000</td>\n",
       "      <td>122.000000</td>\n",
       "    </tr>\n",
       "  </tbody>\n",
       "</table>\n",
       "</div>"
      ],
      "text/plain": [
       "        Clothing ID           Age        Rating  Recommended IND  \\\n",
       "count  23465.000000  23465.000000  23465.000000     23465.000000   \n",
       "mean     918.096825     43.200128      4.195355         0.822203   \n",
       "std      203.362035     12.280712      1.110278         0.382350   \n",
       "min        0.000000     18.000000      1.000000         0.000000   \n",
       "25%      861.000000     34.000000      4.000000         1.000000   \n",
       "50%      936.000000     41.000000      5.000000         1.000000   \n",
       "75%     1078.000000     52.000000      5.000000         1.000000   \n",
       "max     1205.000000     99.000000      5.000000         1.000000   \n",
       "\n",
       "       Positive Feedback Count  \n",
       "count             23465.000000  \n",
       "mean                  2.538206  \n",
       "std                   5.704248  \n",
       "min                   0.000000  \n",
       "25%                   0.000000  \n",
       "50%                   1.000000  \n",
       "75%                   3.000000  \n",
       "max                 122.000000  "
      ]
     },
     "execution_count": 13,
     "metadata": {},
     "output_type": "execute_result"
    }
   ],
   "source": [
    "df.describe()"
   ]
  },
  {
   "cell_type": "markdown",
   "id": "af54ec37",
   "metadata": {},
   "source": [
    "Checking the null values in dataset"
   ]
  },
  {
   "cell_type": "code",
   "execution_count": 14,
   "id": "6cf4e1a4",
   "metadata": {},
   "outputs": [
    {
     "data": {
      "text/plain": [
       "Clothing ID                   0\n",
       "Age                           0\n",
       "Title                      3789\n",
       "Review Text                 825\n",
       "Rating                        0\n",
       "Recommended IND               0\n",
       "Positive Feedback Count       0\n",
       "Division Name                14\n",
       "Department Name              14\n",
       "Class Name                   14\n",
       "dtype: int64"
      ]
     },
     "execution_count": 14,
     "metadata": {},
     "output_type": "execute_result"
    }
   ],
   "source": [
    "df.isnull().sum()"
   ]
  },
  {
   "cell_type": "markdown",
   "id": "5e1ec724",
   "metadata": {},
   "source": [
    "There are 3789 null values present in \"Title\", and 825 null values in Review Text features. \n",
    "\n",
    "These 2 features has the most null values."
   ]
  },
  {
   "cell_type": "markdown",
   "id": "30738ca4",
   "metadata": {},
   "source": [
    "I would like to go with dropping the null values present in the review text,as that is the feature we used to get the prediction of recommendation. \n",
    "\n",
    "The NaN values present in \"Review Text\" consistes of only 3% of no.of rows in the entire dataset.\n",
    "\n",
    "After that, will fill the NaN values for all the other features."
   ]
  },
  {
   "cell_type": "code",
   "execution_count": null,
   "id": "b64acc17",
   "metadata": {},
   "outputs": [],
   "source": []
  },
  {
   "cell_type": "markdown",
   "id": "4f69c1b3",
   "metadata": {},
   "source": [
    "Dropping the rows, which has NaN values in Review Text column"
   ]
  },
  {
   "cell_type": "code",
   "execution_count": 15,
   "id": "522f549d",
   "metadata": {},
   "outputs": [],
   "source": [
    "df.dropna(axis=0,how='any',subset=['Review Text'],inplace=True)"
   ]
  },
  {
   "cell_type": "markdown",
   "id": "281b62c8",
   "metadata": {},
   "source": [
    "825 rows with NaN values in Review Text feature has been removed from the dataset, Now rows count is 22640"
   ]
  },
  {
   "cell_type": "code",
   "execution_count": 16,
   "id": "2506370f",
   "metadata": {},
   "outputs": [
    {
     "data": {
      "text/plain": [
       "(22640, 10)"
      ]
     },
     "execution_count": 16,
     "metadata": {},
     "output_type": "execute_result"
    }
   ],
   "source": [
    "df.shape"
   ]
  },
  {
   "cell_type": "code",
   "execution_count": 17,
   "id": "9d32607d",
   "metadata": {
    "scrolled": true
   },
   "outputs": [
    {
     "data": {
      "text/html": [
       "<div>\n",
       "<style scoped>\n",
       "    .dataframe tbody tr th:only-of-type {\n",
       "        vertical-align: middle;\n",
       "    }\n",
       "\n",
       "    .dataframe tbody tr th {\n",
       "        vertical-align: top;\n",
       "    }\n",
       "\n",
       "    .dataframe thead th {\n",
       "        text-align: right;\n",
       "    }\n",
       "</style>\n",
       "<table border=\"1\" class=\"dataframe\">\n",
       "  <thead>\n",
       "    <tr style=\"text-align: right;\">\n",
       "      <th></th>\n",
       "      <th>Clothing ID</th>\n",
       "      <th>Age</th>\n",
       "      <th>Title</th>\n",
       "      <th>Review Text</th>\n",
       "      <th>Rating</th>\n",
       "      <th>Recommended IND</th>\n",
       "      <th>Positive Feedback Count</th>\n",
       "      <th>Division Name</th>\n",
       "      <th>Department Name</th>\n",
       "      <th>Class Name</th>\n",
       "    </tr>\n",
       "  </thead>\n",
       "  <tbody>\n",
       "    <tr>\n",
       "      <th>23481</th>\n",
       "      <td>1104</td>\n",
       "      <td>34</td>\n",
       "      <td>Great dress for many occasions</td>\n",
       "      <td>I was very happy to snag this dress at such a ...</td>\n",
       "      <td>5</td>\n",
       "      <td>1</td>\n",
       "      <td>0</td>\n",
       "      <td>General Petite</td>\n",
       "      <td>Dresses</td>\n",
       "      <td>Dresses</td>\n",
       "    </tr>\n",
       "    <tr>\n",
       "      <th>23482</th>\n",
       "      <td>862</td>\n",
       "      <td>48</td>\n",
       "      <td>Wish it was made of cotton</td>\n",
       "      <td>It reminds me of maternity clothes. soft, stre...</td>\n",
       "      <td>3</td>\n",
       "      <td>1</td>\n",
       "      <td>0</td>\n",
       "      <td>General Petite</td>\n",
       "      <td>Tops</td>\n",
       "      <td>Knits</td>\n",
       "    </tr>\n",
       "    <tr>\n",
       "      <th>23483</th>\n",
       "      <td>1104</td>\n",
       "      <td>31</td>\n",
       "      <td>Cute, but see through</td>\n",
       "      <td>This fit well, but the top was very see throug...</td>\n",
       "      <td>3</td>\n",
       "      <td>0</td>\n",
       "      <td>1</td>\n",
       "      <td>General Petite</td>\n",
       "      <td>Dresses</td>\n",
       "      <td>Dresses</td>\n",
       "    </tr>\n",
       "    <tr>\n",
       "      <th>23484</th>\n",
       "      <td>1084</td>\n",
       "      <td>28</td>\n",
       "      <td>Very cute dress, perfect for summer parties an...</td>\n",
       "      <td>I bought this dress for a wedding i have this ...</td>\n",
       "      <td>3</td>\n",
       "      <td>1</td>\n",
       "      <td>2</td>\n",
       "      <td>General</td>\n",
       "      <td>Dresses</td>\n",
       "      <td>Dresses</td>\n",
       "    </tr>\n",
       "    <tr>\n",
       "      <th>23485</th>\n",
       "      <td>1104</td>\n",
       "      <td>52</td>\n",
       "      <td>Please make more like this one!</td>\n",
       "      <td>This dress in a lovely platinum is feminine an...</td>\n",
       "      <td>5</td>\n",
       "      <td>1</td>\n",
       "      <td>22</td>\n",
       "      <td>General Petite</td>\n",
       "      <td>Dresses</td>\n",
       "      <td>Dresses</td>\n",
       "    </tr>\n",
       "  </tbody>\n",
       "</table>\n",
       "</div>"
      ],
      "text/plain": [
       "       Clothing ID  Age                                              Title  \\\n",
       "23481         1104   34                     Great dress for many occasions   \n",
       "23482          862   48                         Wish it was made of cotton   \n",
       "23483         1104   31                              Cute, but see through   \n",
       "23484         1084   28  Very cute dress, perfect for summer parties an...   \n",
       "23485         1104   52                    Please make more like this one!   \n",
       "\n",
       "                                             Review Text  Rating  \\\n",
       "23481  I was very happy to snag this dress at such a ...       5   \n",
       "23482  It reminds me of maternity clothes. soft, stre...       3   \n",
       "23483  This fit well, but the top was very see throug...       3   \n",
       "23484  I bought this dress for a wedding i have this ...       3   \n",
       "23485  This dress in a lovely platinum is feminine an...       5   \n",
       "\n",
       "       Recommended IND  Positive Feedback Count   Division Name  \\\n",
       "23481                1                        0  General Petite   \n",
       "23482                1                        0  General Petite   \n",
       "23483                0                        1  General Petite   \n",
       "23484                1                        2         General   \n",
       "23485                1                       22  General Petite   \n",
       "\n",
       "      Department Name Class Name  \n",
       "23481         Dresses    Dresses  \n",
       "23482            Tops      Knits  \n",
       "23483         Dresses    Dresses  \n",
       "23484         Dresses    Dresses  \n",
       "23485         Dresses    Dresses  "
      ]
     },
     "execution_count": 17,
     "metadata": {},
     "output_type": "execute_result"
    }
   ],
   "source": [
    "df.tail()"
   ]
  },
  {
   "cell_type": "code",
   "execution_count": 18,
   "id": "10c8d669",
   "metadata": {
    "scrolled": true
   },
   "outputs": [
    {
     "data": {
      "text/plain": [
       "Clothing ID                   0\n",
       "Age                           0\n",
       "Title                      2965\n",
       "Review Text                   0\n",
       "Rating                        0\n",
       "Recommended IND               0\n",
       "Positive Feedback Count       0\n",
       "Division Name                13\n",
       "Department Name              13\n",
       "Class Name                   13\n",
       "dtype: int64"
      ]
     },
     "execution_count": 18,
     "metadata": {},
     "output_type": "execute_result"
    }
   ],
   "source": [
    "df.isnull().sum()"
   ]
  },
  {
   "cell_type": "markdown",
   "id": "d578592b",
   "metadata": {},
   "source": [
    "Filling all the null values with Back Fill method in pandas, and these features are used for analysis.\n",
    "Features of Division Name,Department Name, Class Name having very less number of null values, which doesn't even constitute of 0.001%, so we are filling with consecutive row text."
   ]
  },
  {
   "cell_type": "code",
   "execution_count": 19,
   "id": "3acecb77",
   "metadata": {},
   "outputs": [],
   "source": [
    "df.bfill(axis=0,inplace=True)"
   ]
  },
  {
   "cell_type": "code",
   "execution_count": 20,
   "id": "dec25330",
   "metadata": {},
   "outputs": [
    {
     "data": {
      "text/plain": [
       "Clothing ID                0\n",
       "Age                        0\n",
       "Title                      0\n",
       "Review Text                0\n",
       "Rating                     0\n",
       "Recommended IND            0\n",
       "Positive Feedback Count    0\n",
       "Division Name              0\n",
       "Department Name            0\n",
       "Class Name                 0\n",
       "dtype: int64"
      ]
     },
     "execution_count": 20,
     "metadata": {},
     "output_type": "execute_result"
    }
   ],
   "source": [
    "df.isnull().sum()"
   ]
  },
  {
   "cell_type": "markdown",
   "id": "4c5810d2",
   "metadata": {},
   "source": [
    "We can see that, no null values present in the dataset."
   ]
  },
  {
   "cell_type": "markdown",
   "id": "2c7b3bbf",
   "metadata": {},
   "source": [
    "## Exploratory Data Analysis"
   ]
  },
  {
   "cell_type": "code",
   "execution_count": 21,
   "id": "d2603370",
   "metadata": {
    "scrolled": false
   },
   "outputs": [
    {
     "data": {
      "text/html": [
       "<div>\n",
       "<style scoped>\n",
       "    .dataframe tbody tr th:only-of-type {\n",
       "        vertical-align: middle;\n",
       "    }\n",
       "\n",
       "    .dataframe tbody tr th {\n",
       "        vertical-align: top;\n",
       "    }\n",
       "\n",
       "    .dataframe thead th {\n",
       "        text-align: right;\n",
       "    }\n",
       "</style>\n",
       "<table border=\"1\" class=\"dataframe\">\n",
       "  <thead>\n",
       "    <tr style=\"text-align: right;\">\n",
       "      <th></th>\n",
       "      <th>Clothing ID</th>\n",
       "      <th>Age</th>\n",
       "      <th>Title</th>\n",
       "      <th>Review Text</th>\n",
       "      <th>Rating</th>\n",
       "      <th>Recommended IND</th>\n",
       "      <th>Positive Feedback Count</th>\n",
       "      <th>Division Name</th>\n",
       "      <th>Department Name</th>\n",
       "      <th>Class Name</th>\n",
       "    </tr>\n",
       "  </thead>\n",
       "  <tbody>\n",
       "    <tr>\n",
       "      <th>0</th>\n",
       "      <td>767</td>\n",
       "      <td>33</td>\n",
       "      <td>Some major design flaws</td>\n",
       "      <td>Absolutely wonderful - silky and sexy and comf...</td>\n",
       "      <td>4</td>\n",
       "      <td>1</td>\n",
       "      <td>0</td>\n",
       "      <td>Initmates</td>\n",
       "      <td>Intimate</td>\n",
       "      <td>Intimates</td>\n",
       "    </tr>\n",
       "    <tr>\n",
       "      <th>1</th>\n",
       "      <td>1080</td>\n",
       "      <td>34</td>\n",
       "      <td>Some major design flaws</td>\n",
       "      <td>Love this dress!  it's sooo pretty.  i happene...</td>\n",
       "      <td>5</td>\n",
       "      <td>1</td>\n",
       "      <td>4</td>\n",
       "      <td>General</td>\n",
       "      <td>Dresses</td>\n",
       "      <td>Dresses</td>\n",
       "    </tr>\n",
       "    <tr>\n",
       "      <th>2</th>\n",
       "      <td>1077</td>\n",
       "      <td>60</td>\n",
       "      <td>Some major design flaws</td>\n",
       "      <td>I had such high hopes for this dress and reall...</td>\n",
       "      <td>3</td>\n",
       "      <td>0</td>\n",
       "      <td>0</td>\n",
       "      <td>General</td>\n",
       "      <td>Dresses</td>\n",
       "      <td>Dresses</td>\n",
       "    </tr>\n",
       "    <tr>\n",
       "      <th>3</th>\n",
       "      <td>1049</td>\n",
       "      <td>50</td>\n",
       "      <td>My favorite buy!</td>\n",
       "      <td>I love, love, love this jumpsuit. it's fun, fl...</td>\n",
       "      <td>5</td>\n",
       "      <td>1</td>\n",
       "      <td>0</td>\n",
       "      <td>General Petite</td>\n",
       "      <td>Bottoms</td>\n",
       "      <td>Pants</td>\n",
       "    </tr>\n",
       "    <tr>\n",
       "      <th>4</th>\n",
       "      <td>847</td>\n",
       "      <td>47</td>\n",
       "      <td>Flattering shirt</td>\n",
       "      <td>This shirt is very flattering to all due to th...</td>\n",
       "      <td>5</td>\n",
       "      <td>1</td>\n",
       "      <td>6</td>\n",
       "      <td>General</td>\n",
       "      <td>Tops</td>\n",
       "      <td>Blouses</td>\n",
       "    </tr>\n",
       "  </tbody>\n",
       "</table>\n",
       "</div>"
      ],
      "text/plain": [
       "   Clothing ID  Age                    Title  \\\n",
       "0          767   33  Some major design flaws   \n",
       "1         1080   34  Some major design flaws   \n",
       "2         1077   60  Some major design flaws   \n",
       "3         1049   50         My favorite buy!   \n",
       "4          847   47         Flattering shirt   \n",
       "\n",
       "                                         Review Text  Rating  Recommended IND  \\\n",
       "0  Absolutely wonderful - silky and sexy and comf...       4                1   \n",
       "1  Love this dress!  it's sooo pretty.  i happene...       5                1   \n",
       "2  I had such high hopes for this dress and reall...       3                0   \n",
       "3  I love, love, love this jumpsuit. it's fun, fl...       5                1   \n",
       "4  This shirt is very flattering to all due to th...       5                1   \n",
       "\n",
       "   Positive Feedback Count   Division Name Department Name Class Name  \n",
       "0                        0       Initmates        Intimate  Intimates  \n",
       "1                        4         General         Dresses    Dresses  \n",
       "2                        0         General         Dresses    Dresses  \n",
       "3                        0  General Petite         Bottoms      Pants  \n",
       "4                        6         General            Tops    Blouses  "
      ]
     },
     "execution_count": 21,
     "metadata": {},
     "output_type": "execute_result"
    }
   ],
   "source": [
    "df.head()"
   ]
  },
  {
   "cell_type": "code",
   "execution_count": 22,
   "id": "0bc33e62",
   "metadata": {},
   "outputs": [
    {
     "data": {
      "text/plain": [
       "1179"
      ]
     },
     "execution_count": 22,
     "metadata": {},
     "output_type": "execute_result"
    }
   ],
   "source": [
    "df['Clothing ID'].nunique()"
   ]
  },
  {
   "cell_type": "markdown",
   "id": "bce67daf",
   "metadata": {},
   "source": [
    "For 1179 unique Clothing ID's, Which means for 1179 clothing products. we have 22640 reviews."
   ]
  },
  {
   "cell_type": "markdown",
   "id": "6e118cf6",
   "metadata": {},
   "source": [
    "###### What are the Clothing ID's, that are purchased most."
   ]
  },
  {
   "cell_type": "code",
   "execution_count": 23,
   "id": "ecb0a642",
   "metadata": {},
   "outputs": [],
   "source": [
    "num_of_cloth=df.groupby('Clothing ID').size().sort_values(ascending=False).reset_index().head(50)\n",
    "num_of_cloth.rename(columns={0:\"Count\"},inplace=True)"
   ]
  },
  {
   "cell_type": "code",
   "execution_count": 24,
   "id": "ddac5618",
   "metadata": {},
   "outputs": [
    {
     "data": {
      "text/plain": [
       "<AxesSubplot:xlabel='Clothing ID', ylabel='Count'>"
      ]
     },
     "execution_count": 24,
     "metadata": {},
     "output_type": "execute_result"
    },
    {
     "data": {
      "image/png": "[encoded data removed]",
      "text/plain": [
       "<Figure size 1152x576 with 1 Axes>"
      ]
     },
     "metadata": {
      "needs_background": "light"
     },
     "output_type": "display_data"
    }
   ],
   "source": [
    "plt.rcParams['figure.figsize']=(16,8)\n",
    "plt.xticks(rotation=45)\n",
    "sns.barplot(x=num_of_cloth['Clothing ID'],y=num_of_cloth['Count'],data=num_of_cloth)"
   ]
  },
  {
   "cell_type": "markdown",
   "id": "1a6c5565",
   "metadata": {},
   "source": [
    "Clothing ID of 1078,1094,862,1081,829,1110 are purchased most.Approx 1000 products of Clothing ID - 1078 has been purchased."
   ]
  },
  {
   "cell_type": "markdown",
   "id": "dc638b1c",
   "metadata": {},
   "source": [
    "In the Age Feature, We are trying to know the maximum and minimum age."
   ]
  },
  {
   "cell_type": "code",
   "execution_count": 25,
   "id": "efc373f1",
   "metadata": {},
   "outputs": [
    {
     "name": "stdout",
     "output_type": "stream",
     "text": [
      "Maximum Age : 99 Minimum Age : 18\n"
     ]
    }
   ],
   "source": [
    "print('Maximum Age :',df['Age'].max() ,\n",
    "      'Minimum Age :',df['Age'].min())"
   ]
  },
  {
   "cell_type": "markdown",
   "id": "8680c803",
   "metadata": {},
   "source": [
    "99 is the maximum age and 18 is the minimum age, According to this, we can make some portions, so that, we can try to find,\n",
    "\n",
    "\n"
   ]
  },
  {
   "cell_type": "markdown",
   "id": "96c61a4b",
   "metadata": {
    "scrolled": true
   },
   "source": [
    "##### Women with categorizing age groups, reviewing the most"
   ]
  },
  {
   "cell_type": "code",
   "execution_count": 26,
   "id": "3f154ea4",
   "metadata": {
    "scrolled": true
   },
   "outputs": [],
   "source": [
    "age_range = [10*i for i in range(1,10)]\n",
    "new_df=pd.DataFrame(columns=['AGE_RANGE'])\n",
    "def age_cat(x):\n",
    "    for enu, ran in enumerate(age_range):\n",
    "        if x>=ran and x<=ran+9:\n",
    "            return(str(ran)+\" to \"+str(ran+9))"
   ]
  },
  {
   "cell_type": "code",
   "execution_count": 27,
   "id": "7520ac9b",
   "metadata": {
    "scrolled": true
   },
   "outputs": [
    {
     "data": {
      "text/html": [
       "<div>\n",
       "<style scoped>\n",
       "    .dataframe tbody tr th:only-of-type {\n",
       "        vertical-align: middle;\n",
       "    }\n",
       "\n",
       "    .dataframe tbody tr th {\n",
       "        vertical-align: top;\n",
       "    }\n",
       "\n",
       "    .dataframe thead th {\n",
       "        text-align: right;\n",
       "    }\n",
       "</style>\n",
       "<table border=\"1\" class=\"dataframe\">\n",
       "  <thead>\n",
       "    <tr style=\"text-align: right;\">\n",
       "      <th></th>\n",
       "      <th>Clothing ID</th>\n",
       "      <th>Age</th>\n",
       "      <th>Title</th>\n",
       "      <th>Review Text</th>\n",
       "      <th>Rating</th>\n",
       "      <th>Recommended IND</th>\n",
       "      <th>Positive Feedback Count</th>\n",
       "      <th>Division Name</th>\n",
       "      <th>Department Name</th>\n",
       "      <th>Class Name</th>\n",
       "      <th>AGE_RANGE</th>\n",
       "    </tr>\n",
       "  </thead>\n",
       "  <tbody>\n",
       "    <tr>\n",
       "      <th>0</th>\n",
       "      <td>767</td>\n",
       "      <td>33</td>\n",
       "      <td>Some major design flaws</td>\n",
       "      <td>Absolutely wonderful - silky and sexy and comf...</td>\n",
       "      <td>4</td>\n",
       "      <td>1</td>\n",
       "      <td>0</td>\n",
       "      <td>Initmates</td>\n",
       "      <td>Intimate</td>\n",
       "      <td>Intimates</td>\n",
       "      <td>30 to 39</td>\n",
       "    </tr>\n",
       "    <tr>\n",
       "      <th>1</th>\n",
       "      <td>1080</td>\n",
       "      <td>34</td>\n",
       "      <td>Some major design flaws</td>\n",
       "      <td>Love this dress!  it's sooo pretty.  i happene...</td>\n",
       "      <td>5</td>\n",
       "      <td>1</td>\n",
       "      <td>4</td>\n",
       "      <td>General</td>\n",
       "      <td>Dresses</td>\n",
       "      <td>Dresses</td>\n",
       "      <td>30 to 39</td>\n",
       "    </tr>\n",
       "    <tr>\n",
       "      <th>2</th>\n",
       "      <td>1077</td>\n",
       "      <td>60</td>\n",
       "      <td>Some major design flaws</td>\n",
       "      <td>I had such high hopes for this dress and reall...</td>\n",
       "      <td>3</td>\n",
       "      <td>0</td>\n",
       "      <td>0</td>\n",
       "      <td>General</td>\n",
       "      <td>Dresses</td>\n",
       "      <td>Dresses</td>\n",
       "      <td>60 to 69</td>\n",
       "    </tr>\n",
       "    <tr>\n",
       "      <th>3</th>\n",
       "      <td>1049</td>\n",
       "      <td>50</td>\n",
       "      <td>My favorite buy!</td>\n",
       "      <td>I love, love, love this jumpsuit. it's fun, fl...</td>\n",
       "      <td>5</td>\n",
       "      <td>1</td>\n",
       "      <td>0</td>\n",
       "      <td>General Petite</td>\n",
       "      <td>Bottoms</td>\n",
       "      <td>Pants</td>\n",
       "      <td>50 to 59</td>\n",
       "    </tr>\n",
       "    <tr>\n",
       "      <th>4</th>\n",
       "      <td>847</td>\n",
       "      <td>47</td>\n",
       "      <td>Flattering shirt</td>\n",
       "      <td>This shirt is very flattering to all due to th...</td>\n",
       "      <td>5</td>\n",
       "      <td>1</td>\n",
       "      <td>6</td>\n",
       "      <td>General</td>\n",
       "      <td>Tops</td>\n",
       "      <td>Blouses</td>\n",
       "      <td>40 to 49</td>\n",
       "    </tr>\n",
       "  </tbody>\n",
       "</table>\n",
       "</div>"
      ],
      "text/plain": [
       "   Clothing ID  Age                    Title  \\\n",
       "0          767   33  Some major design flaws   \n",
       "1         1080   34  Some major design flaws   \n",
       "2         1077   60  Some major design flaws   \n",
       "3         1049   50         My favorite buy!   \n",
       "4          847   47         Flattering shirt   \n",
       "\n",
       "                                         Review Text  Rating  Recommended IND  \\\n",
       "0  Absolutely wonderful - silky and sexy and comf...       4                1   \n",
       "1  Love this dress!  it's sooo pretty.  i happene...       5                1   \n",
       "2  I had such high hopes for this dress and reall...       3                0   \n",
       "3  I love, love, love this jumpsuit. it's fun, fl...       5                1   \n",
       "4  This shirt is very flattering to all due to th...       5                1   \n",
       "\n",
       "   Positive Feedback Count   Division Name Department Name Class Name  \\\n",
       "0                        0       Initmates        Intimate  Intimates   \n",
       "1                        4         General         Dresses    Dresses   \n",
       "2                        0         General         Dresses    Dresses   \n",
       "3                        0  General Petite         Bottoms      Pants   \n",
       "4                        6         General            Tops    Blouses   \n",
       "\n",
       "  AGE_RANGE  \n",
       "0  30 to 39  \n",
       "1  30 to 39  \n",
       "2  60 to 69  \n",
       "3  50 to 59  \n",
       "4  40 to 49  "
      ]
     },
     "execution_count": 27,
     "metadata": {},
     "output_type": "execute_result"
    }
   ],
   "source": [
    "df['AGE_RANGE']=df['Age'].apply(lambda x: age_cat(x))\n",
    "df.head()"
   ]
  },
  {
   "cell_type": "code",
   "execution_count": 28,
   "id": "35e62146",
   "metadata": {},
   "outputs": [
    {
     "data": {
      "text/html": [
       "<div>\n",
       "<style scoped>\n",
       "    .dataframe tbody tr th:only-of-type {\n",
       "        vertical-align: middle;\n",
       "    }\n",
       "\n",
       "    .dataframe tbody tr th {\n",
       "        vertical-align: top;\n",
       "    }\n",
       "\n",
       "    .dataframe thead th {\n",
       "        text-align: right;\n",
       "    }\n",
       "</style>\n",
       "<table border=\"1\" class=\"dataframe\">\n",
       "  <thead>\n",
       "    <tr style=\"text-align: right;\">\n",
       "      <th></th>\n",
       "      <th>index</th>\n",
       "      <th>AGE_RANGE</th>\n",
       "    </tr>\n",
       "  </thead>\n",
       "  <tbody>\n",
       "    <tr>\n",
       "      <th>0</th>\n",
       "      <td>30 to 39</td>\n",
       "      <td>7345</td>\n",
       "    </tr>\n",
       "    <tr>\n",
       "      <th>1</th>\n",
       "      <td>40 to 49</td>\n",
       "      <td>5903</td>\n",
       "    </tr>\n",
       "    <tr>\n",
       "      <th>2</th>\n",
       "      <td>50 to 59</td>\n",
       "      <td>3834</td>\n",
       "    </tr>\n",
       "    <tr>\n",
       "      <th>3</th>\n",
       "      <td>20 to 29</td>\n",
       "      <td>2795</td>\n",
       "    </tr>\n",
       "    <tr>\n",
       "      <th>4</th>\n",
       "      <td>60 to 69</td>\n",
       "      <td>2256</td>\n",
       "    </tr>\n",
       "    <tr>\n",
       "      <th>5</th>\n",
       "      <td>70 to 79</td>\n",
       "      <td>355</td>\n",
       "    </tr>\n",
       "    <tr>\n",
       "      <th>6</th>\n",
       "      <td>80 to 89</td>\n",
       "      <td>94</td>\n",
       "    </tr>\n",
       "    <tr>\n",
       "      <th>7</th>\n",
       "      <td>10 to 19</td>\n",
       "      <td>44</td>\n",
       "    </tr>\n",
       "    <tr>\n",
       "      <th>8</th>\n",
       "      <td>90 to 99</td>\n",
       "      <td>14</td>\n",
       "    </tr>\n",
       "  </tbody>\n",
       "</table>\n",
       "</div>"
      ],
      "text/plain": [
       "      index  AGE_RANGE\n",
       "0  30 to 39       7345\n",
       "1  40 to 49       5903\n",
       "2  50 to 59       3834\n",
       "3  20 to 29       2795\n",
       "4  60 to 69       2256\n",
       "5  70 to 79        355\n",
       "6  80 to 89         94\n",
       "7  10 to 19         44\n",
       "8  90 to 99         14"
      ]
     },
     "execution_count": 28,
     "metadata": {},
     "output_type": "execute_result"
    }
   ],
   "source": [
    "Ag=df['AGE_RANGE'].value_counts().reset_index()\n",
    "Ag"
   ]
  },
  {
   "cell_type": "code",
   "execution_count": 29,
   "id": "420bdceb",
   "metadata": {},
   "outputs": [
    {
     "data": {
      "text/plain": [
       "<AxesSubplot:xlabel='index', ylabel='AGE_RANGE'>"
      ]
     },
     "execution_count": 29,
     "metadata": {},
     "output_type": "execute_result"
    },
    {
     "data": {
      "image/png": "[encoded data removed]",
      "text/plain": [
       "<Figure size 1152x576 with 1 Axes>"
      ]
     },
     "metadata": {
      "needs_background": "light"
     },
     "output_type": "display_data"
    }
   ],
   "source": [
    "plt.rcParams['figure.figsize']=(16,8)\n",
    "plt.xticks(rotation=45)\n",
    "sns.barplot(x=Ag['index'],y=Ag['AGE_RANGE'],data=Ag,)"
   ]
  },
  {
   "cell_type": "markdown",
   "id": "e4b3de5d",
   "metadata": {},
   "source": [
    "Women with Age Group \"30-39\" reviews the most.We can also say that, this age group women bought the most"
   ]
  },
  {
   "cell_type": "code",
   "execution_count": null,
   "id": "ce88b29d",
   "metadata": {
    "scrolled": true
   },
   "outputs": [],
   "source": []
  },
  {
   "cell_type": "markdown",
   "id": "4c033e02",
   "metadata": {},
   "source": [
    "##### Women with age group recommending the cloths"
   ]
  },
  {
   "cell_type": "code",
   "execution_count": 30,
   "id": "274d6ade",
   "metadata": {},
   "outputs": [],
   "source": [
    "age_rec=df.groupby(['AGE_RANGE','Recommended IND']).size().reset_index()\n",
    "age_rec.rename(columns={0:'Count'},inplace=True)"
   ]
  },
  {
   "cell_type": "code",
   "execution_count": 31,
   "id": "cdeb9938",
   "metadata": {},
   "outputs": [
    {
     "data": {
      "text/plain": [
       "<AxesSubplot:xlabel='AGE_RANGE', ylabel='Count'>"
      ]
     },
     "execution_count": 31,
     "metadata": {},
     "output_type": "execute_result"
    },
    {
     "data": {
      "image/png": "[encoded data removed]",
      "text/plain": [
       "<Figure size 1152x576 with 1 Axes>"
      ]
     },
     "metadata": {
      "needs_background": "light"
     },
     "output_type": "display_data"
    }
   ],
   "source": [
    "sns.barplot(x=age_rec['AGE_RANGE'],y=age_rec['Count'],data=age_rec,hue=age_rec['Recommended IND'])"
   ]
  },
  {
   "cell_type": "markdown",
   "id": "bdc4daf8",
   "metadata": {},
   "source": [
    "previously, We observe that, Women with age-group 30-39 reviews the most and here the same scenario, most of the reviewing women are recommending the cloths.\n",
    "\n",
    "With refernce to the above graph, we say that, each age group women are Recommending the E-Commerce site to purchase, No such particular age is not recommending the site. It means, the Website is liked and suitable to all age groups of women."
   ]
  },
  {
   "cell_type": "code",
   "execution_count": 32,
   "id": "30e4dfcf",
   "metadata": {},
   "outputs": [],
   "source": [
    "recomm=df.groupby(['AGE_RANGE','Rating']).size().reset_index()\n",
    "recomm.rename(columns={0:'Count'},inplace=True)"
   ]
  },
  {
   "cell_type": "code",
   "execution_count": 33,
   "id": "f894d3a4",
   "metadata": {},
   "outputs": [
    {
     "data": {
      "text/plain": [
       "<AxesSubplot:xlabel='AGE_RANGE', ylabel='Count'>"
      ]
     },
     "execution_count": 33,
     "metadata": {},
     "output_type": "execute_result"
    },
    {
     "data": {
      "image/png": "[encoded data removed]",
      "text/plain": [
       "<Figure size 1152x576 with 1 Axes>"
      ]
     },
     "metadata": {
      "needs_background": "light"
     },
     "output_type": "display_data"
    }
   ],
   "source": [
    "sns.barplot(x=recomm['AGE_RANGE'],y=recomm['Count'],data=recomm,hue=recomm['Rating'],palette=\"Paired\")"
   ]
  },
  {
   "cell_type": "markdown",
   "id": "1577cc72",
   "metadata": {},
   "source": [
    " women in the age-group of 20-70 have given 5 rating in big count, as seen above in the bar chart."
   ]
  },
  {
   "cell_type": "markdown",
   "id": "d2a56c61",
   "metadata": {},
   "source": [
    "##### Distribution of rating of reviews "
   ]
  },
  {
   "cell_type": "code",
   "execution_count": 34,
   "id": "0fd30b58",
   "metadata": {
    "scrolled": true
   },
   "outputs": [
    {
     "data": {
      "text/html": [
       "<div>\n",
       "<style scoped>\n",
       "    .dataframe tbody tr th:only-of-type {\n",
       "        vertical-align: middle;\n",
       "    }\n",
       "\n",
       "    .dataframe tbody tr th {\n",
       "        vertical-align: top;\n",
       "    }\n",
       "\n",
       "    .dataframe thead th {\n",
       "        text-align: right;\n",
       "    }\n",
       "</style>\n",
       "<table border=\"1\" class=\"dataframe\">\n",
       "  <thead>\n",
       "    <tr style=\"text-align: right;\">\n",
       "      <th></th>\n",
       "      <th>index</th>\n",
       "      <th>Rating</th>\n",
       "    </tr>\n",
       "  </thead>\n",
       "  <tbody>\n",
       "    <tr>\n",
       "      <th>0</th>\n",
       "      <td>5</td>\n",
       "      <td>12539</td>\n",
       "    </tr>\n",
       "    <tr>\n",
       "      <th>1</th>\n",
       "      <td>4</td>\n",
       "      <td>4908</td>\n",
       "    </tr>\n",
       "    <tr>\n",
       "      <th>2</th>\n",
       "      <td>3</td>\n",
       "      <td>2823</td>\n",
       "    </tr>\n",
       "    <tr>\n",
       "      <th>3</th>\n",
       "      <td>2</td>\n",
       "      <td>1549</td>\n",
       "    </tr>\n",
       "    <tr>\n",
       "      <th>4</th>\n",
       "      <td>1</td>\n",
       "      <td>821</td>\n",
       "    </tr>\n",
       "  </tbody>\n",
       "</table>\n",
       "</div>"
      ],
      "text/plain": [
       "   index  Rating\n",
       "0      5   12539\n",
       "1      4    4908\n",
       "2      3    2823\n",
       "3      2    1549\n",
       "4      1     821"
      ]
     },
     "execution_count": 34,
     "metadata": {},
     "output_type": "execute_result"
    }
   ],
   "source": [
    "Rat=df['Rating'].value_counts().reset_index()\n",
    "Rat"
   ]
  },
  {
   "cell_type": "code",
   "execution_count": 35,
   "id": "bdd5dbe9",
   "metadata": {},
   "outputs": [
    {
     "data": {
      "image/png": "[encoded data removed]",
      "text/plain": [
       "<Figure size 1152x576 with 1 Axes>"
      ]
     },
     "metadata": {},
     "output_type": "display_data"
    }
   ],
   "source": [
    "fig1, ax1 = plt.subplots()\n",
    "ax1.pie(Rat['Rating'], explode=(0, 0, 0, 0,0.1), labels=Rat['index'], autopct='%1.1f%%',\n",
    "        shadow=True)\n",
    "ax1.axis('equal')\n",
    "plt.show()"
   ]
  },
  {
   "cell_type": "markdown",
   "id": "81dad4bb",
   "metadata": {},
   "source": [
    "We have 22640 rows in the dataset, in that 55.4% of the women, gave 5 rating to the clothes.\n",
    "\n",
    "We can clearly observe the pie chart with Rating percentages.\n",
    "\n",
    "If we relate these ratings to age group, as previously bar graphed, most women in 30-40 range, gives 5 rating and they are reviewing the most, which indicates, most of the E-Commerce customers are of that age group only."
   ]
  },
  {
   "cell_type": "code",
   "execution_count": 36,
   "id": "b000e1c8",
   "metadata": {
    "scrolled": true
   },
   "outputs": [
    {
     "data": {
      "text/html": [
       "<div>\n",
       "<style scoped>\n",
       "    .dataframe tbody tr th:only-of-type {\n",
       "        vertical-align: middle;\n",
       "    }\n",
       "\n",
       "    .dataframe tbody tr th {\n",
       "        vertical-align: top;\n",
       "    }\n",
       "\n",
       "    .dataframe thead th {\n",
       "        text-align: right;\n",
       "    }\n",
       "</style>\n",
       "<table border=\"1\" class=\"dataframe\">\n",
       "  <thead>\n",
       "    <tr style=\"text-align: right;\">\n",
       "      <th></th>\n",
       "      <th>Clothing ID</th>\n",
       "      <th>Age</th>\n",
       "      <th>Title</th>\n",
       "      <th>Review Text</th>\n",
       "      <th>Rating</th>\n",
       "      <th>Recommended IND</th>\n",
       "      <th>Positive Feedback Count</th>\n",
       "      <th>Division Name</th>\n",
       "      <th>Department Name</th>\n",
       "      <th>Class Name</th>\n",
       "      <th>AGE_RANGE</th>\n",
       "    </tr>\n",
       "  </thead>\n",
       "  <tbody>\n",
       "    <tr>\n",
       "      <th>0</th>\n",
       "      <td>767</td>\n",
       "      <td>33</td>\n",
       "      <td>Some major design flaws</td>\n",
       "      <td>Absolutely wonderful - silky and sexy and comf...</td>\n",
       "      <td>4</td>\n",
       "      <td>1</td>\n",
       "      <td>0</td>\n",
       "      <td>Initmates</td>\n",
       "      <td>Intimate</td>\n",
       "      <td>Intimates</td>\n",
       "      <td>30 to 39</td>\n",
       "    </tr>\n",
       "    <tr>\n",
       "      <th>1</th>\n",
       "      <td>1080</td>\n",
       "      <td>34</td>\n",
       "      <td>Some major design flaws</td>\n",
       "      <td>Love this dress!  it's sooo pretty.  i happene...</td>\n",
       "      <td>5</td>\n",
       "      <td>1</td>\n",
       "      <td>4</td>\n",
       "      <td>General</td>\n",
       "      <td>Dresses</td>\n",
       "      <td>Dresses</td>\n",
       "      <td>30 to 39</td>\n",
       "    </tr>\n",
       "    <tr>\n",
       "      <th>2</th>\n",
       "      <td>1077</td>\n",
       "      <td>60</td>\n",
       "      <td>Some major design flaws</td>\n",
       "      <td>I had such high hopes for this dress and reall...</td>\n",
       "      <td>3</td>\n",
       "      <td>0</td>\n",
       "      <td>0</td>\n",
       "      <td>General</td>\n",
       "      <td>Dresses</td>\n",
       "      <td>Dresses</td>\n",
       "      <td>60 to 69</td>\n",
       "    </tr>\n",
       "    <tr>\n",
       "      <th>3</th>\n",
       "      <td>1049</td>\n",
       "      <td>50</td>\n",
       "      <td>My favorite buy!</td>\n",
       "      <td>I love, love, love this jumpsuit. it's fun, fl...</td>\n",
       "      <td>5</td>\n",
       "      <td>1</td>\n",
       "      <td>0</td>\n",
       "      <td>General Petite</td>\n",
       "      <td>Bottoms</td>\n",
       "      <td>Pants</td>\n",
       "      <td>50 to 59</td>\n",
       "    </tr>\n",
       "    <tr>\n",
       "      <th>4</th>\n",
       "      <td>847</td>\n",
       "      <td>47</td>\n",
       "      <td>Flattering shirt</td>\n",
       "      <td>This shirt is very flattering to all due to th...</td>\n",
       "      <td>5</td>\n",
       "      <td>1</td>\n",
       "      <td>6</td>\n",
       "      <td>General</td>\n",
       "      <td>Tops</td>\n",
       "      <td>Blouses</td>\n",
       "      <td>40 to 49</td>\n",
       "    </tr>\n",
       "  </tbody>\n",
       "</table>\n",
       "</div>"
      ],
      "text/plain": [
       "   Clothing ID  Age                    Title  \\\n",
       "0          767   33  Some major design flaws   \n",
       "1         1080   34  Some major design flaws   \n",
       "2         1077   60  Some major design flaws   \n",
       "3         1049   50         My favorite buy!   \n",
       "4          847   47         Flattering shirt   \n",
       "\n",
       "                                         Review Text  Rating  Recommended IND  \\\n",
       "0  Absolutely wonderful - silky and sexy and comf...       4                1   \n",
       "1  Love this dress!  it's sooo pretty.  i happene...       5                1   \n",
       "2  I had such high hopes for this dress and reall...       3                0   \n",
       "3  I love, love, love this jumpsuit. it's fun, fl...       5                1   \n",
       "4  This shirt is very flattering to all due to th...       5                1   \n",
       "\n",
       "   Positive Feedback Count   Division Name Department Name Class Name  \\\n",
       "0                        0       Initmates        Intimate  Intimates   \n",
       "1                        4         General         Dresses    Dresses   \n",
       "2                        0         General         Dresses    Dresses   \n",
       "3                        0  General Petite         Bottoms      Pants   \n",
       "4                        6         General            Tops    Blouses   \n",
       "\n",
       "  AGE_RANGE  \n",
       "0  30 to 39  \n",
       "1  30 to 39  \n",
       "2  60 to 69  \n",
       "3  50 to 59  \n",
       "4  40 to 49  "
      ]
     },
     "execution_count": 36,
     "metadata": {},
     "output_type": "execute_result"
    }
   ],
   "source": [
    "df.head()"
   ]
  },
  {
   "cell_type": "markdown",
   "id": "993506e0",
   "metadata": {},
   "source": [
    "Let's know,reviews of women are recommending the cloths, if they have given less than or equal to 3 rating."
   ]
  },
  {
   "cell_type": "code",
   "execution_count": 37,
   "id": "50cb4cfe",
   "metadata": {},
   "outputs": [
    {
     "data": {
      "text/html": [
       "<div>\n",
       "<style scoped>\n",
       "    .dataframe tbody tr th:only-of-type {\n",
       "        vertical-align: middle;\n",
       "    }\n",
       "\n",
       "    .dataframe tbody tr th {\n",
       "        vertical-align: top;\n",
       "    }\n",
       "\n",
       "    .dataframe thead th {\n",
       "        text-align: right;\n",
       "    }\n",
       "</style>\n",
       "<table border=\"1\" class=\"dataframe\">\n",
       "  <thead>\n",
       "    <tr style=\"text-align: right;\">\n",
       "      <th></th>\n",
       "      <th>Rating</th>\n",
       "      <th>Recommended IND</th>\n",
       "      <th>Count</th>\n",
       "    </tr>\n",
       "  </thead>\n",
       "  <tbody>\n",
       "    <tr>\n",
       "      <th>0</th>\n",
       "      <td>1</td>\n",
       "      <td>0</td>\n",
       "      <td>806</td>\n",
       "    </tr>\n",
       "    <tr>\n",
       "      <th>1</th>\n",
       "      <td>1</td>\n",
       "      <td>1</td>\n",
       "      <td>15</td>\n",
       "    </tr>\n",
       "    <tr>\n",
       "      <th>2</th>\n",
       "      <td>2</td>\n",
       "      <td>0</td>\n",
       "      <td>1455</td>\n",
       "    </tr>\n",
       "    <tr>\n",
       "      <th>3</th>\n",
       "      <td>2</td>\n",
       "      <td>1</td>\n",
       "      <td>94</td>\n",
       "    </tr>\n",
       "    <tr>\n",
       "      <th>4</th>\n",
       "      <td>3</td>\n",
       "      <td>0</td>\n",
       "      <td>1653</td>\n",
       "    </tr>\n",
       "    <tr>\n",
       "      <th>5</th>\n",
       "      <td>3</td>\n",
       "      <td>1</td>\n",
       "      <td>1170</td>\n",
       "    </tr>\n",
       "    <tr>\n",
       "      <th>6</th>\n",
       "      <td>4</td>\n",
       "      <td>0</td>\n",
       "      <td>164</td>\n",
       "    </tr>\n",
       "    <tr>\n",
       "      <th>7</th>\n",
       "      <td>4</td>\n",
       "      <td>1</td>\n",
       "      <td>4744</td>\n",
       "    </tr>\n",
       "    <tr>\n",
       "      <th>8</th>\n",
       "      <td>5</td>\n",
       "      <td>0</td>\n",
       "      <td>23</td>\n",
       "    </tr>\n",
       "    <tr>\n",
       "      <th>9</th>\n",
       "      <td>5</td>\n",
       "      <td>1</td>\n",
       "      <td>12516</td>\n",
       "    </tr>\n",
       "  </tbody>\n",
       "</table>\n",
       "</div>"
      ],
      "text/plain": [
       "   Rating  Recommended IND  Count\n",
       "0       1                0    806\n",
       "1       1                1     15\n",
       "2       2                0   1455\n",
       "3       2                1     94\n",
       "4       3                0   1653\n",
       "5       3                1   1170\n",
       "6       4                0    164\n",
       "7       4                1   4744\n",
       "8       5                0     23\n",
       "9       5                1  12516"
      ]
     },
     "execution_count": 37,
     "metadata": {},
     "output_type": "execute_result"
    }
   ],
   "source": [
    "recrat=df.groupby(['Rating','Recommended IND']).size().reset_index()\n",
    "recrat.rename(columns={0:'Count'},inplace=True)\n",
    "recrat"
   ]
  },
  {
   "cell_type": "code",
   "execution_count": 38,
   "id": "2a8bf354",
   "metadata": {},
   "outputs": [
    {
     "data": {
      "text/plain": [
       "<AxesSubplot:xlabel='Rating', ylabel='Count'>"
      ]
     },
     "execution_count": 38,
     "metadata": {},
     "output_type": "execute_result"
    },
    {
     "data": {
      "image/png": "[encoded data removed]",
      "text/plain": [
       "<Figure size 1152x576 with 1 Axes>"
      ]
     },
     "metadata": {
      "needs_background": "light"
     },
     "output_type": "display_data"
    }
   ],
   "source": [
    "sns.barplot(x=recrat['Rating'],y=recrat['Count'],hue=recrat['Recommended IND'],data=recrat,palette='cubehelix')"
   ]
  },
  {
   "cell_type": "markdown",
   "id": "f4ce1449",
   "metadata": {},
   "source": [
    "From the above barplot, we can get some useful insights,\n",
    "\n",
    "1.As the rating increases, the recommendations are increasing copiously, and inversely reviews of not recommending are decreasing.\n",
    "\n",
    "2.At rating 3, reviews that are recommending the cloths are \"1170\" and not recommending the clothes are \"1653\". The difference between both is 500.\n",
    "Which indicates, most reviews are not recommending.\n",
    "\n",
    "3.We can literally say that, 90-99% of reviews of women, who has given rating as 4 or 5, are definitely recommending the E-Commerce Clothing site to purchase clothes.\n",
    "\n",
    "4.The total number of people who are not recommending at the rating level of 1 and 2 and 3 are approx 4000 out of 22465 reviews."
   ]
  },
  {
   "cell_type": "markdown",
   "id": "cb42fac5",
   "metadata": {},
   "source": [
    "##### Distribution of Recommending and Not Recommending."
   ]
  },
  {
   "cell_type": "code",
   "execution_count": 39,
   "id": "1bf3bea3",
   "metadata": {},
   "outputs": [
    {
     "data": {
      "text/plain": [
       "1    18539\n",
       "0     4101\n",
       "Name: Recommended IND, dtype: int64"
      ]
     },
     "execution_count": 39,
     "metadata": {},
     "output_type": "execute_result"
    }
   ],
   "source": [
    "df['Recommended IND'].value_counts()"
   ]
  },
  {
   "cell_type": "code",
   "execution_count": 40,
   "id": "08df2039",
   "metadata": {},
   "outputs": [
    {
     "data": {
      "image/png": "[encoded data removed]",
      "text/plain": [
       "<Figure size 1152x576 with 1 Axes>"
      ]
     },
     "metadata": {},
     "output_type": "display_data"
    }
   ],
   "source": [
    "plt.pie(df['Recommended IND'].value_counts(),labels=[\"Recommending : 1\",\"Not Recommending : 0\"],autopct=\"%1.1f%%\",shadow=True)\n",
    "plt.show()"
   ]
  },
  {
   "cell_type": "markdown",
   "id": "9c789bcd",
   "metadata": {},
   "source": [
    "Only 18.1% of reviews of women, are not recommending the E-Commerce Clothing Website.\n",
    "\n",
    "This percentage of Not Recommending is not that of high, to say the website is Not fit"
   ]
  },
  {
   "cell_type": "code",
   "execution_count": null,
   "id": "f293748e",
   "metadata": {
    "scrolled": true
   },
   "outputs": [],
   "source": []
  },
  {
   "cell_type": "markdown",
   "id": "52b46de0",
   "metadata": {},
   "source": [
    "##### Division Name Category Distribution"
   ]
  },
  {
   "cell_type": "code",
   "execution_count": 41,
   "id": "77bd56e8",
   "metadata": {},
   "outputs": [
    {
     "data": {
      "text/plain": [
       "General           13370\n",
       "General Petite     7842\n",
       "Initmates          1428\n",
       "Name: Division Name, dtype: int64"
      ]
     },
     "execution_count": 41,
     "metadata": {},
     "output_type": "execute_result"
    }
   ],
   "source": [
    "df['Division Name'].value_counts()"
   ]
  },
  {
   "cell_type": "code",
   "execution_count": 42,
   "id": "36dc2eec",
   "metadata": {},
   "outputs": [
    {
     "data": {
      "image/png": "[encoded data removed]",
      "text/plain": [
       "<Figure size 1152x576 with 1 Axes>"
      ]
     },
     "metadata": {},
     "output_type": "display_data"
    }
   ],
   "source": [
    "plt.pie(df['Division Name'].value_counts(),labels=[\"General\",\"General Petite\",'Initmates'],autopct=\"%1.1f%%\",shadow=True)\n",
    "plt.show()"
   ]
  },
  {
   "cell_type": "markdown",
   "id": "d204bac2",
   "metadata": {},
   "source": [
    "Most of the reviews are regarding to General Division.\n",
    "\n",
    "Which we can say, women had done more purchases in General Division and the least purchased division is Intimates."
   ]
  },
  {
   "cell_type": "markdown",
   "id": "7d1d0fd8",
   "metadata": {},
   "source": [
    "##### Let's visualize, for each category in division, what are recommendation s and Ratings"
   ]
  },
  {
   "cell_type": "code",
   "execution_count": 43,
   "id": "07edc145",
   "metadata": {},
   "outputs": [],
   "source": [
    "gr1=df.groupby(['Division Name','Recommended IND']).size().reset_index()"
   ]
  },
  {
   "cell_type": "code",
   "execution_count": 44,
   "id": "286c8095",
   "metadata": {},
   "outputs": [],
   "source": [
    "gr1.rename(columns={0:\"Count\"},inplace=True)"
   ]
  },
  {
   "cell_type": "code",
   "execution_count": 45,
   "id": "f5a71d72",
   "metadata": {},
   "outputs": [
    {
     "data": {
      "text/plain": [
       "<AxesSubplot:xlabel='Division Name', ylabel='Count'>"
      ]
     },
     "execution_count": 45,
     "metadata": {},
     "output_type": "execute_result"
    },
    {
     "data": {
      "image/png": "[encoded data removed]",
      "text/plain": [
       "<Figure size 1152x576 with 1 Axes>"
      ]
     },
     "metadata": {
      "needs_background": "light"
     },
     "output_type": "display_data"
    }
   ],
   "source": [
    "sns.barplot(x=gr1['Division Name'],y=gr1['Count'],hue=gr1['Recommended IND'],palette=\"icefire\")"
   ]
  },
  {
   "cell_type": "markdown",
   "id": "435f86e2",
   "metadata": {},
   "source": [
    "Reviews of women in each category of division,Count of not Recommending are smaller in ratio compared to Recommending.\n"
   ]
  },
  {
   "cell_type": "code",
   "execution_count": 46,
   "id": "3c30e03d",
   "metadata": {},
   "outputs": [],
   "source": [
    "gr2=df.groupby([\"Division Name\",'Rating']).size().reset_index()\n",
    "gr2.rename(columns={0:\"Count\"},inplace=True)"
   ]
  },
  {
   "cell_type": "code",
   "execution_count": 47,
   "id": "4b8feaeb",
   "metadata": {},
   "outputs": [
    {
     "data": {
      "text/html": [
       "<div>\n",
       "<style scoped>\n",
       "    .dataframe tbody tr th:only-of-type {\n",
       "        vertical-align: middle;\n",
       "    }\n",
       "\n",
       "    .dataframe tbody tr th {\n",
       "        vertical-align: top;\n",
       "    }\n",
       "\n",
       "    .dataframe thead th {\n",
       "        text-align: right;\n",
       "    }\n",
       "</style>\n",
       "<table border=\"1\" class=\"dataframe\">\n",
       "  <thead>\n",
       "    <tr style=\"text-align: right;\">\n",
       "      <th></th>\n",
       "      <th>Division Name</th>\n",
       "      <th>Rating</th>\n",
       "      <th>Count</th>\n",
       "    </tr>\n",
       "  </thead>\n",
       "  <tbody>\n",
       "    <tr>\n",
       "      <th>0</th>\n",
       "      <td>General</td>\n",
       "      <td>1</td>\n",
       "      <td>479</td>\n",
       "    </tr>\n",
       "    <tr>\n",
       "      <th>1</th>\n",
       "      <td>General</td>\n",
       "      <td>2</td>\n",
       "      <td>950</td>\n",
       "    </tr>\n",
       "    <tr>\n",
       "      <th>2</th>\n",
       "      <td>General</td>\n",
       "      <td>3</td>\n",
       "      <td>1740</td>\n",
       "    </tr>\n",
       "    <tr>\n",
       "      <th>3</th>\n",
       "      <td>General</td>\n",
       "      <td>4</td>\n",
       "      <td>2910</td>\n",
       "    </tr>\n",
       "    <tr>\n",
       "      <th>4</th>\n",
       "      <td>General</td>\n",
       "      <td>5</td>\n",
       "      <td>7291</td>\n",
       "    </tr>\n",
       "    <tr>\n",
       "      <th>5</th>\n",
       "      <td>General Petite</td>\n",
       "      <td>1</td>\n",
       "      <td>291</td>\n",
       "    </tr>\n",
       "    <tr>\n",
       "      <th>6</th>\n",
       "      <td>General Petite</td>\n",
       "      <td>2</td>\n",
       "      <td>524</td>\n",
       "    </tr>\n",
       "    <tr>\n",
       "      <th>7</th>\n",
       "      <td>General Petite</td>\n",
       "      <td>3</td>\n",
       "      <td>929</td>\n",
       "    </tr>\n",
       "    <tr>\n",
       "      <th>8</th>\n",
       "      <td>General Petite</td>\n",
       "      <td>4</td>\n",
       "      <td>1702</td>\n",
       "    </tr>\n",
       "    <tr>\n",
       "      <th>9</th>\n",
       "      <td>General Petite</td>\n",
       "      <td>5</td>\n",
       "      <td>4396</td>\n",
       "    </tr>\n",
       "    <tr>\n",
       "      <th>10</th>\n",
       "      <td>Initmates</td>\n",
       "      <td>1</td>\n",
       "      <td>51</td>\n",
       "    </tr>\n",
       "    <tr>\n",
       "      <th>11</th>\n",
       "      <td>Initmates</td>\n",
       "      <td>2</td>\n",
       "      <td>75</td>\n",
       "    </tr>\n",
       "    <tr>\n",
       "      <th>12</th>\n",
       "      <td>Initmates</td>\n",
       "      <td>3</td>\n",
       "      <td>154</td>\n",
       "    </tr>\n",
       "    <tr>\n",
       "      <th>13</th>\n",
       "      <td>Initmates</td>\n",
       "      <td>4</td>\n",
       "      <td>296</td>\n",
       "    </tr>\n",
       "    <tr>\n",
       "      <th>14</th>\n",
       "      <td>Initmates</td>\n",
       "      <td>5</td>\n",
       "      <td>852</td>\n",
       "    </tr>\n",
       "  </tbody>\n",
       "</table>\n",
       "</div>"
      ],
      "text/plain": [
       "     Division Name  Rating  Count\n",
       "0          General       1    479\n",
       "1          General       2    950\n",
       "2          General       3   1740\n",
       "3          General       4   2910\n",
       "4          General       5   7291\n",
       "5   General Petite       1    291\n",
       "6   General Petite       2    524\n",
       "7   General Petite       3    929\n",
       "8   General Petite       4   1702\n",
       "9   General Petite       5   4396\n",
       "10       Initmates       1     51\n",
       "11       Initmates       2     75\n",
       "12       Initmates       3    154\n",
       "13       Initmates       4    296\n",
       "14       Initmates       5    852"
      ]
     },
     "execution_count": 47,
     "metadata": {},
     "output_type": "execute_result"
    }
   ],
   "source": [
    "gr2"
   ]
  },
  {
   "cell_type": "code",
   "execution_count": 48,
   "id": "b1f2b48e",
   "metadata": {},
   "outputs": [
    {
     "data": {
      "text/plain": [
       "<AxesSubplot:xlabel='Division Name', ylabel='Count'>"
      ]
     },
     "execution_count": 48,
     "metadata": {},
     "output_type": "execute_result"
    },
    {
     "data": {
      "image/png": "[encoded data removed]",
      "text/plain": [
       "<Figure size 1152x576 with 1 Axes>"
      ]
     },
     "metadata": {
      "needs_background": "light"
     },
     "output_type": "display_data"
    }
   ],
   "source": [
    "sns.barplot(x=gr2['Division Name'],y=gr2['Count'],hue=gr2['Rating'],palette=\"icefire\")"
   ]
  },
  {
   "cell_type": "markdown",
   "id": "822adeac",
   "metadata": {},
   "source": [
    "The Ratings in each division are shown above, We see max reviews in General divison.In general division, most reviews are rated 5 and same as in other divisions too.\n"
   ]
  },
  {
   "cell_type": "code",
   "execution_count": 49,
   "id": "ab8b5770",
   "metadata": {},
   "outputs": [
    {
     "data": {
      "text/html": [
       "<div>\n",
       "<style scoped>\n",
       "    .dataframe tbody tr th:only-of-type {\n",
       "        vertical-align: middle;\n",
       "    }\n",
       "\n",
       "    .dataframe tbody tr th {\n",
       "        vertical-align: top;\n",
       "    }\n",
       "\n",
       "    .dataframe thead th {\n",
       "        text-align: right;\n",
       "    }\n",
       "</style>\n",
       "<table border=\"1\" class=\"dataframe\">\n",
       "  <thead>\n",
       "    <tr style=\"text-align: right;\">\n",
       "      <th></th>\n",
       "      <th>Clothing ID</th>\n",
       "      <th>Age</th>\n",
       "      <th>Title</th>\n",
       "      <th>Review Text</th>\n",
       "      <th>Rating</th>\n",
       "      <th>Recommended IND</th>\n",
       "      <th>Positive Feedback Count</th>\n",
       "      <th>Division Name</th>\n",
       "      <th>Department Name</th>\n",
       "      <th>Class Name</th>\n",
       "      <th>AGE_RANGE</th>\n",
       "    </tr>\n",
       "  </thead>\n",
       "  <tbody>\n",
       "    <tr>\n",
       "      <th>0</th>\n",
       "      <td>767</td>\n",
       "      <td>33</td>\n",
       "      <td>Some major design flaws</td>\n",
       "      <td>Absolutely wonderful - silky and sexy and comf...</td>\n",
       "      <td>4</td>\n",
       "      <td>1</td>\n",
       "      <td>0</td>\n",
       "      <td>Initmates</td>\n",
       "      <td>Intimate</td>\n",
       "      <td>Intimates</td>\n",
       "      <td>30 to 39</td>\n",
       "    </tr>\n",
       "    <tr>\n",
       "      <th>1</th>\n",
       "      <td>1080</td>\n",
       "      <td>34</td>\n",
       "      <td>Some major design flaws</td>\n",
       "      <td>Love this dress!  it's sooo pretty.  i happene...</td>\n",
       "      <td>5</td>\n",
       "      <td>1</td>\n",
       "      <td>4</td>\n",
       "      <td>General</td>\n",
       "      <td>Dresses</td>\n",
       "      <td>Dresses</td>\n",
       "      <td>30 to 39</td>\n",
       "    </tr>\n",
       "    <tr>\n",
       "      <th>2</th>\n",
       "      <td>1077</td>\n",
       "      <td>60</td>\n",
       "      <td>Some major design flaws</td>\n",
       "      <td>I had such high hopes for this dress and reall...</td>\n",
       "      <td>3</td>\n",
       "      <td>0</td>\n",
       "      <td>0</td>\n",
       "      <td>General</td>\n",
       "      <td>Dresses</td>\n",
       "      <td>Dresses</td>\n",
       "      <td>60 to 69</td>\n",
       "    </tr>\n",
       "    <tr>\n",
       "      <th>3</th>\n",
       "      <td>1049</td>\n",
       "      <td>50</td>\n",
       "      <td>My favorite buy!</td>\n",
       "      <td>I love, love, love this jumpsuit. it's fun, fl...</td>\n",
       "      <td>5</td>\n",
       "      <td>1</td>\n",
       "      <td>0</td>\n",
       "      <td>General Petite</td>\n",
       "      <td>Bottoms</td>\n",
       "      <td>Pants</td>\n",
       "      <td>50 to 59</td>\n",
       "    </tr>\n",
       "    <tr>\n",
       "      <th>4</th>\n",
       "      <td>847</td>\n",
       "      <td>47</td>\n",
       "      <td>Flattering shirt</td>\n",
       "      <td>This shirt is very flattering to all due to th...</td>\n",
       "      <td>5</td>\n",
       "      <td>1</td>\n",
       "      <td>6</td>\n",
       "      <td>General</td>\n",
       "      <td>Tops</td>\n",
       "      <td>Blouses</td>\n",
       "      <td>40 to 49</td>\n",
       "    </tr>\n",
       "  </tbody>\n",
       "</table>\n",
       "</div>"
      ],
      "text/plain": [
       "   Clothing ID  Age                    Title  \\\n",
       "0          767   33  Some major design flaws   \n",
       "1         1080   34  Some major design flaws   \n",
       "2         1077   60  Some major design flaws   \n",
       "3         1049   50         My favorite buy!   \n",
       "4          847   47         Flattering shirt   \n",
       "\n",
       "                                         Review Text  Rating  Recommended IND  \\\n",
       "0  Absolutely wonderful - silky and sexy and comf...       4                1   \n",
       "1  Love this dress!  it's sooo pretty.  i happene...       5                1   \n",
       "2  I had such high hopes for this dress and reall...       3                0   \n",
       "3  I love, love, love this jumpsuit. it's fun, fl...       5                1   \n",
       "4  This shirt is very flattering to all due to th...       5                1   \n",
       "\n",
       "   Positive Feedback Count   Division Name Department Name Class Name  \\\n",
       "0                        0       Initmates        Intimate  Intimates   \n",
       "1                        4         General         Dresses    Dresses   \n",
       "2                        0         General         Dresses    Dresses   \n",
       "3                        0  General Petite         Bottoms      Pants   \n",
       "4                        6         General            Tops    Blouses   \n",
       "\n",
       "  AGE_RANGE  \n",
       "0  30 to 39  \n",
       "1  30 to 39  \n",
       "2  60 to 69  \n",
       "3  50 to 59  \n",
       "4  40 to 49  "
      ]
     },
     "execution_count": 49,
     "metadata": {},
     "output_type": "execute_result"
    }
   ],
   "source": [
    "df.head()"
   ]
  },
  {
   "cell_type": "markdown",
   "id": "55133be2",
   "metadata": {},
   "source": [
    "##### Visualizing Department name feature"
   ]
  },
  {
   "cell_type": "code",
   "execution_count": 50,
   "id": "f2429c6f",
   "metadata": {},
   "outputs": [
    {
     "data": {
      "text/plain": [
       "Tops        10048\n",
       "Dresses      6151\n",
       "Bottoms      3664\n",
       "Intimate     1656\n",
       "Jackets      1003\n",
       "Trend         118\n",
       "Name: Department Name, dtype: int64"
      ]
     },
     "execution_count": 50,
     "metadata": {},
     "output_type": "execute_result"
    }
   ],
   "source": [
    "df['Department Name'].value_counts()"
   ]
  },
  {
   "cell_type": "code",
   "execution_count": 51,
   "id": "720c703b",
   "metadata": {},
   "outputs": [
    {
     "data": {
      "image/png": "[encoded data removed]",
      "text/plain": [
       "<Figure size 1152x576 with 1 Axes>"
      ]
     },
     "metadata": {},
     "output_type": "display_data"
    }
   ],
   "source": [
    "plt.pie(df['Department Name'].value_counts(),labels=['Tops','Dresses','Bottoms','Intimate','Jackets','Trend'],shadow=True,autopct=\"%1.1f%%\")\n",
    "plt.show() "
   ]
  },
  {
   "cell_type": "markdown",
   "id": "8b9cb23f",
   "metadata": {},
   "source": [
    "44.4% of the reviews of women are realted to the Department of \"Tops\" of women, and next is \"Dresses\".\n",
    "\n",
    "They are purchasing most in Tops and Dresses Department.\n"
   ]
  },
  {
   "cell_type": "raw",
   "id": "ac7eb622",
   "metadata": {},
   "source": []
  },
  {
   "cell_type": "markdown",
   "id": "8bded38f",
   "metadata": {},
   "source": [
    "Let's see the rating with respective to Department name."
   ]
  },
  {
   "cell_type": "code",
   "execution_count": 52,
   "id": "902c861e",
   "metadata": {},
   "outputs": [],
   "source": [
    "gr=df.groupby(['Department Name','Rating']).size().reset_index()"
   ]
  },
  {
   "cell_type": "code",
   "execution_count": 53,
   "id": "c2099b94",
   "metadata": {},
   "outputs": [],
   "source": [
    "gr.rename(columns={0:\"Count\"},inplace=True)\n"
   ]
  },
  {
   "cell_type": "code",
   "execution_count": 54,
   "id": "3e4de4b2",
   "metadata": {},
   "outputs": [
    {
     "data": {
      "text/plain": [
       "<AxesSubplot:xlabel='Department Name', ylabel='Count'>"
      ]
     },
     "execution_count": 54,
     "metadata": {},
     "output_type": "execute_result"
    },
    {
     "data": {
      "image/png": "[encoded data removed]",
      "text/plain": [
       "<Figure size 1152x576 with 1 Axes>"
      ]
     },
     "metadata": {
      "needs_background": "light"
     },
     "output_type": "display_data"
    }
   ],
   "source": [
    "sns.barplot(x=gr['Department Name'],y=gr['Count'],hue=gr['Rating'],palette=\"Blues\")"
   ]
  },
  {
   "cell_type": "markdown",
   "id": "00f6b771",
   "metadata": {},
   "source": [
    "The ratings count of reviews in each department are significantly iincreasing from 1.\n",
    "\n",
    "Each department with respective to ratings are good."
   ]
  },
  {
   "cell_type": "markdown",
   "id": "998be284",
   "metadata": {},
   "source": [
    "#####  Reviews that recommend based on Department Name"
   ]
  },
  {
   "cell_type": "code",
   "execution_count": 55,
   "id": "e994fa39",
   "metadata": {},
   "outputs": [],
   "source": [
    "xr=df.groupby(['Department Name','Recommended IND']).size().reset_index().rename(columns={0:\"Count\"})"
   ]
  },
  {
   "cell_type": "code",
   "execution_count": 56,
   "id": "29d3041b",
   "metadata": {},
   "outputs": [
    {
     "data": {
      "text/html": [
       "<div>\n",
       "<style scoped>\n",
       "    .dataframe tbody tr th:only-of-type {\n",
       "        vertical-align: middle;\n",
       "    }\n",
       "\n",
       "    .dataframe tbody tr th {\n",
       "        vertical-align: top;\n",
       "    }\n",
       "\n",
       "    .dataframe thead th {\n",
       "        text-align: right;\n",
       "    }\n",
       "</style>\n",
       "<table border=\"1\" class=\"dataframe\">\n",
       "  <thead>\n",
       "    <tr style=\"text-align: right;\">\n",
       "      <th></th>\n",
       "      <th>Department Name</th>\n",
       "      <th>Recommended IND</th>\n",
       "      <th>Count</th>\n",
       "    </tr>\n",
       "  </thead>\n",
       "  <tbody>\n",
       "    <tr>\n",
       "      <th>0</th>\n",
       "      <td>Bottoms</td>\n",
       "      <td>0</td>\n",
       "      <td>551</td>\n",
       "    </tr>\n",
       "    <tr>\n",
       "      <th>1</th>\n",
       "      <td>Bottoms</td>\n",
       "      <td>1</td>\n",
       "      <td>3113</td>\n",
       "    </tr>\n",
       "    <tr>\n",
       "      <th>2</th>\n",
       "      <td>Dresses</td>\n",
       "      <td>0</td>\n",
       "      <td>1197</td>\n",
       "    </tr>\n",
       "    <tr>\n",
       "      <th>3</th>\n",
       "      <td>Dresses</td>\n",
       "      <td>1</td>\n",
       "      <td>4954</td>\n",
       "    </tr>\n",
       "    <tr>\n",
       "      <th>4</th>\n",
       "      <td>Intimate</td>\n",
       "      <td>0</td>\n",
       "      <td>254</td>\n",
       "    </tr>\n",
       "    <tr>\n",
       "      <th>5</th>\n",
       "      <td>Intimate</td>\n",
       "      <td>1</td>\n",
       "      <td>1402</td>\n",
       "    </tr>\n",
       "    <tr>\n",
       "      <th>6</th>\n",
       "      <td>Jackets</td>\n",
       "      <td>0</td>\n",
       "      <td>167</td>\n",
       "    </tr>\n",
       "    <tr>\n",
       "      <th>7</th>\n",
       "      <td>Jackets</td>\n",
       "      <td>1</td>\n",
       "      <td>836</td>\n",
       "    </tr>\n",
       "    <tr>\n",
       "      <th>8</th>\n",
       "      <td>Tops</td>\n",
       "      <td>0</td>\n",
       "      <td>1902</td>\n",
       "    </tr>\n",
       "    <tr>\n",
       "      <th>9</th>\n",
       "      <td>Tops</td>\n",
       "      <td>1</td>\n",
       "      <td>8146</td>\n",
       "    </tr>\n",
       "    <tr>\n",
       "      <th>10</th>\n",
       "      <td>Trend</td>\n",
       "      <td>0</td>\n",
       "      <td>30</td>\n",
       "    </tr>\n",
       "    <tr>\n",
       "      <th>11</th>\n",
       "      <td>Trend</td>\n",
       "      <td>1</td>\n",
       "      <td>88</td>\n",
       "    </tr>\n",
       "  </tbody>\n",
       "</table>\n",
       "</div>"
      ],
      "text/plain": [
       "   Department Name  Recommended IND  Count\n",
       "0          Bottoms                0    551\n",
       "1          Bottoms                1   3113\n",
       "2          Dresses                0   1197\n",
       "3          Dresses                1   4954\n",
       "4         Intimate                0    254\n",
       "5         Intimate                1   1402\n",
       "6          Jackets                0    167\n",
       "7          Jackets                1    836\n",
       "8             Tops                0   1902\n",
       "9             Tops                1   8146\n",
       "10           Trend                0     30\n",
       "11           Trend                1     88"
      ]
     },
     "execution_count": 56,
     "metadata": {},
     "output_type": "execute_result"
    }
   ],
   "source": [
    "xr"
   ]
  },
  {
   "cell_type": "code",
   "execution_count": 57,
   "id": "4c8144aa",
   "metadata": {},
   "outputs": [
    {
     "data": {
      "text/plain": [
       "<AxesSubplot:xlabel='Department Name', ylabel='Count'>"
      ]
     },
     "execution_count": 57,
     "metadata": {},
     "output_type": "execute_result"
    },
    {
     "data": {
      "image/png": "[encoded data removed]",
      "text/plain": [
       "<Figure size 1152x576 with 1 Axes>"
      ]
     },
     "metadata": {
      "needs_background": "light"
     },
     "output_type": "display_data"
    }
   ],
   "source": [
    "sns.barplot(x=xr['Department Name'],y=xr['Count'],hue=xr['Recommended IND'],palette=\"magma\")"
   ]
  },
  {
   "cell_type": "markdown",
   "id": "08d7fe83",
   "metadata": {},
   "source": [
    "Tops, Dresses, Bottoms are more recommended in high numbers and for all the departments, recommendations to that particular department is higher than count of not recommendations.\n",
    "\n",
    "This indicates that all the departments have good demand and value too. No department has negative analytics.\n",
    "\n",
    "Trend department has less reviews and means, the sales are low to this type. This department has only 118 reviews out of 22640. "
   ]
  },
  {
   "cell_type": "code",
   "execution_count": 58,
   "id": "3d3e6d12",
   "metadata": {},
   "outputs": [],
   "source": [
    "group=df.groupby('Class Name').size().sort_values(ascending=False).reset_index().rename(columns={0:'Count'})"
   ]
  },
  {
   "cell_type": "code",
   "execution_count": 59,
   "id": "d2dc725f",
   "metadata": {},
   "outputs": [
    {
     "data": {
      "text/html": [
       "<div>\n",
       "<style scoped>\n",
       "    .dataframe tbody tr th:only-of-type {\n",
       "        vertical-align: middle;\n",
       "    }\n",
       "\n",
       "    .dataframe tbody tr th {\n",
       "        vertical-align: top;\n",
       "    }\n",
       "\n",
       "    .dataframe thead th {\n",
       "        text-align: right;\n",
       "    }\n",
       "</style>\n",
       "<table border=\"1\" class=\"dataframe\">\n",
       "  <thead>\n",
       "    <tr style=\"text-align: right;\">\n",
       "      <th></th>\n",
       "      <th>Class Name</th>\n",
       "      <th>Count</th>\n",
       "    </tr>\n",
       "  </thead>\n",
       "  <tbody>\n",
       "    <tr>\n",
       "      <th>15</th>\n",
       "      <td>Intimates</td>\n",
       "      <td>148</td>\n",
       "    </tr>\n",
       "    <tr>\n",
       "      <th>16</th>\n",
       "      <td>Layering</td>\n",
       "      <td>132</td>\n",
       "    </tr>\n",
       "    <tr>\n",
       "      <th>17</th>\n",
       "      <td>Trend</td>\n",
       "      <td>118</td>\n",
       "    </tr>\n",
       "    <tr>\n",
       "      <th>18</th>\n",
       "      <td>Casual bottoms</td>\n",
       "      <td>1</td>\n",
       "    </tr>\n",
       "    <tr>\n",
       "      <th>19</th>\n",
       "      <td>Chemises</td>\n",
       "      <td>1</td>\n",
       "    </tr>\n",
       "  </tbody>\n",
       "</table>\n",
       "</div>"
      ],
      "text/plain": [
       "        Class Name  Count\n",
       "15       Intimates    148\n",
       "16        Layering    132\n",
       "17           Trend    118\n",
       "18  Casual bottoms      1\n",
       "19        Chemises      1"
      ]
     },
     "execution_count": 59,
     "metadata": {},
     "output_type": "execute_result"
    }
   ],
   "source": [
    "group.tail()"
   ]
  },
  {
   "cell_type": "code",
   "execution_count": 60,
   "id": "9e6631af",
   "metadata": {},
   "outputs": [
    {
     "data": {
      "text/plain": [
       "<AxesSubplot:xlabel='Class Name', ylabel='Count'>"
      ]
     },
     "execution_count": 60,
     "metadata": {},
     "output_type": "execute_result"
    },
    {
     "data": {
      "image/png": "[encoded data removed]",
      "text/plain": [
       "<Figure size 1656x720 with 1 Axes>"
      ]
     },
     "metadata": {
      "needs_background": "light"
     },
     "output_type": "display_data"
    }
   ],
   "source": [
    "plt.rcParams['figure.figsize']=(23,10)\n",
    "sns.barplot(x=group['Class Name'],y=group['Count'])"
   ]
  },
  {
   "cell_type": "markdown",
   "id": "dc8cca01",
   "metadata": {},
   "source": [
    "From the above bar graph, we observe that, reviews for the Class Name of Dresses are more than all the other class names.\n",
    "\n",
    "Class Names of Casual and Chemises have only one review each. It says that, this products are bought very less and have very minimal demand in E-Commerce Womens Clothing Site.\n",
    "\n"
   ]
  },
  {
   "cell_type": "code",
   "execution_count": 61,
   "id": "46111bc0",
   "metadata": {},
   "outputs": [
    {
     "data": {
      "text/html": [
       "<div>\n",
       "<style scoped>\n",
       "    .dataframe tbody tr th:only-of-type {\n",
       "        vertical-align: middle;\n",
       "    }\n",
       "\n",
       "    .dataframe tbody tr th {\n",
       "        vertical-align: top;\n",
       "    }\n",
       "\n",
       "    .dataframe thead th {\n",
       "        text-align: right;\n",
       "    }\n",
       "</style>\n",
       "<table border=\"1\" class=\"dataframe\">\n",
       "  <thead>\n",
       "    <tr style=\"text-align: right;\">\n",
       "      <th></th>\n",
       "      <th>Clothing ID</th>\n",
       "      <th>Age</th>\n",
       "      <th>Title</th>\n",
       "      <th>Review Text</th>\n",
       "      <th>Rating</th>\n",
       "      <th>Recommended IND</th>\n",
       "      <th>Positive Feedback Count</th>\n",
       "      <th>Division Name</th>\n",
       "      <th>Department Name</th>\n",
       "      <th>Class Name</th>\n",
       "      <th>AGE_RANGE</th>\n",
       "    </tr>\n",
       "  </thead>\n",
       "  <tbody>\n",
       "    <tr>\n",
       "      <th>0</th>\n",
       "      <td>767</td>\n",
       "      <td>33</td>\n",
       "      <td>Some major design flaws</td>\n",
       "      <td>Absolutely wonderful - silky and sexy and comf...</td>\n",
       "      <td>4</td>\n",
       "      <td>1</td>\n",
       "      <td>0</td>\n",
       "      <td>Initmates</td>\n",
       "      <td>Intimate</td>\n",
       "      <td>Intimates</td>\n",
       "      <td>30 to 39</td>\n",
       "    </tr>\n",
       "    <tr>\n",
       "      <th>1</th>\n",
       "      <td>1080</td>\n",
       "      <td>34</td>\n",
       "      <td>Some major design flaws</td>\n",
       "      <td>Love this dress!  it's sooo pretty.  i happene...</td>\n",
       "      <td>5</td>\n",
       "      <td>1</td>\n",
       "      <td>4</td>\n",
       "      <td>General</td>\n",
       "      <td>Dresses</td>\n",
       "      <td>Dresses</td>\n",
       "      <td>30 to 39</td>\n",
       "    </tr>\n",
       "    <tr>\n",
       "      <th>2</th>\n",
       "      <td>1077</td>\n",
       "      <td>60</td>\n",
       "      <td>Some major design flaws</td>\n",
       "      <td>I had such high hopes for this dress and reall...</td>\n",
       "      <td>3</td>\n",
       "      <td>0</td>\n",
       "      <td>0</td>\n",
       "      <td>General</td>\n",
       "      <td>Dresses</td>\n",
       "      <td>Dresses</td>\n",
       "      <td>60 to 69</td>\n",
       "    </tr>\n",
       "    <tr>\n",
       "      <th>3</th>\n",
       "      <td>1049</td>\n",
       "      <td>50</td>\n",
       "      <td>My favorite buy!</td>\n",
       "      <td>I love, love, love this jumpsuit. it's fun, fl...</td>\n",
       "      <td>5</td>\n",
       "      <td>1</td>\n",
       "      <td>0</td>\n",
       "      <td>General Petite</td>\n",
       "      <td>Bottoms</td>\n",
       "      <td>Pants</td>\n",
       "      <td>50 to 59</td>\n",
       "    </tr>\n",
       "    <tr>\n",
       "      <th>4</th>\n",
       "      <td>847</td>\n",
       "      <td>47</td>\n",
       "      <td>Flattering shirt</td>\n",
       "      <td>This shirt is very flattering to all due to th...</td>\n",
       "      <td>5</td>\n",
       "      <td>1</td>\n",
       "      <td>6</td>\n",
       "      <td>General</td>\n",
       "      <td>Tops</td>\n",
       "      <td>Blouses</td>\n",
       "      <td>40 to 49</td>\n",
       "    </tr>\n",
       "  </tbody>\n",
       "</table>\n",
       "</div>"
      ],
      "text/plain": [
       "   Clothing ID  Age                    Title  \\\n",
       "0          767   33  Some major design flaws   \n",
       "1         1080   34  Some major design flaws   \n",
       "2         1077   60  Some major design flaws   \n",
       "3         1049   50         My favorite buy!   \n",
       "4          847   47         Flattering shirt   \n",
       "\n",
       "                                         Review Text  Rating  Recommended IND  \\\n",
       "0  Absolutely wonderful - silky and sexy and comf...       4                1   \n",
       "1  Love this dress!  it's sooo pretty.  i happene...       5                1   \n",
       "2  I had such high hopes for this dress and reall...       3                0   \n",
       "3  I love, love, love this jumpsuit. it's fun, fl...       5                1   \n",
       "4  This shirt is very flattering to all due to th...       5                1   \n",
       "\n",
       "   Positive Feedback Count   Division Name Department Name Class Name  \\\n",
       "0                        0       Initmates        Intimate  Intimates   \n",
       "1                        4         General         Dresses    Dresses   \n",
       "2                        0         General         Dresses    Dresses   \n",
       "3                        0  General Petite         Bottoms      Pants   \n",
       "4                        6         General            Tops    Blouses   \n",
       "\n",
       "  AGE_RANGE  \n",
       "0  30 to 39  \n",
       "1  30 to 39  \n",
       "2  60 to 69  \n",
       "3  50 to 59  \n",
       "4  40 to 49  "
      ]
     },
     "execution_count": 61,
     "metadata": {},
     "output_type": "execute_result"
    }
   ],
   "source": [
    "df.head()"
   ]
  },
  {
   "cell_type": "markdown",
   "id": "c0b7237f",
   "metadata": {},
   "source": [
    "#####  Visualising Age Range with Department Name and Class Name"
   ]
  },
  {
   "cell_type": "code",
   "execution_count": 62,
   "id": "fce5e1f8",
   "metadata": {},
   "outputs": [],
   "source": [
    "dep_cl=df.groupby(['Department Name','AGE_RANGE']).size().reset_index().rename(columns={0:'Count'})"
   ]
  },
  {
   "cell_type": "code",
   "execution_count": 63,
   "id": "0cc959fd",
   "metadata": {},
   "outputs": [
    {
     "data": {
      "text/plain": [
       "<AxesSubplot:xlabel='Department Name', ylabel='Count'>"
      ]
     },
     "execution_count": 63,
     "metadata": {},
     "output_type": "execute_result"
    },
    {
     "data": {
      "image/png": "[encoded data removed]",
      "text/plain": [
       "<Figure size 1296x720 with 1 Axes>"
      ]
     },
     "metadata": {
      "needs_background": "light"
     },
     "output_type": "display_data"
    }
   ],
   "source": [
    "plt.rcParams['figure.figsize']=(18,10)\n",
    "sns.barplot(x=dep_cl['Department Name'],y=dep_cl['Count'],hue=dep_cl['AGE_RANGE'],palette='plasma')"
   ]
  },
  {
   "cell_type": "markdown",
   "id": "540c45dc",
   "metadata": {},
   "source": [
    "In each Department name, the reviews are more or high at the age group of 30-39.\n",
    "\n",
    "This 30-39 age group womens, bought the most than all other age groups."
   ]
  },
  {
   "cell_type": "code",
   "execution_count": 64,
   "id": "f53dc747",
   "metadata": {},
   "outputs": [],
   "source": [
    "cl_ag=df.groupby(['Class Name','AGE_RANGE']).size().reset_index().rename(columns={0:'Count'})"
   ]
  },
  {
   "cell_type": "code",
   "execution_count": 65,
   "id": "cce7674c",
   "metadata": {},
   "outputs": [
    {
     "data": {
      "text/plain": [
       "<AxesSubplot:xlabel='Class Name', ylabel='Count'>"
      ]
     },
     "execution_count": 65,
     "metadata": {},
     "output_type": "execute_result"
    },
    {
     "data": {
      "image/png": "[encoded data removed]",
      "text/plain": [
       "<Figure size 1584x720 with 1 Axes>"
      ]
     },
     "metadata": {
      "needs_background": "light"
     },
     "output_type": "display_data"
    }
   ],
   "source": [
    "plt.rcParams['figure.figsize']=(22,10)\n",
    "sns.barplot(x=cl_ag['Class Name'],y=cl_ag['Count'],hue=cl_ag['AGE_RANGE'],palette='rocket')"
   ]
  },
  {
   "cell_type": "markdown",
   "id": "7eeb8e85",
   "metadata": {},
   "source": [
    "Except for Casual Bottoms and Chemises types of class names,all other class names has reviews of all age groups and in all clas names, age group of 30-39 have the most."
   ]
  },
  {
   "cell_type": "code",
   "execution_count": 66,
   "id": "10a3f70a",
   "metadata": {
    "scrolled": true
   },
   "outputs": [
    {
     "data": {
      "text/html": [
       "<div>\n",
       "<style scoped>\n",
       "    .dataframe tbody tr th:only-of-type {\n",
       "        vertical-align: middle;\n",
       "    }\n",
       "\n",
       "    .dataframe tbody tr th {\n",
       "        vertical-align: top;\n",
       "    }\n",
       "\n",
       "    .dataframe thead th {\n",
       "        text-align: right;\n",
       "    }\n",
       "</style>\n",
       "<table border=\"1\" class=\"dataframe\">\n",
       "  <thead>\n",
       "    <tr style=\"text-align: right;\">\n",
       "      <th></th>\n",
       "      <th>Clothing ID</th>\n",
       "      <th>Age</th>\n",
       "      <th>Title</th>\n",
       "      <th>Review Text</th>\n",
       "      <th>Rating</th>\n",
       "      <th>Recommended IND</th>\n",
       "      <th>Positive Feedback Count</th>\n",
       "      <th>Division Name</th>\n",
       "      <th>Department Name</th>\n",
       "      <th>Class Name</th>\n",
       "      <th>AGE_RANGE</th>\n",
       "    </tr>\n",
       "  </thead>\n",
       "  <tbody>\n",
       "    <tr>\n",
       "      <th>0</th>\n",
       "      <td>767</td>\n",
       "      <td>33</td>\n",
       "      <td>Some major design flaws</td>\n",
       "      <td>Absolutely wonderful - silky and sexy and comf...</td>\n",
       "      <td>4</td>\n",
       "      <td>1</td>\n",
       "      <td>0</td>\n",
       "      <td>Initmates</td>\n",
       "      <td>Intimate</td>\n",
       "      <td>Intimates</td>\n",
       "      <td>30 to 39</td>\n",
       "    </tr>\n",
       "    <tr>\n",
       "      <th>1</th>\n",
       "      <td>1080</td>\n",
       "      <td>34</td>\n",
       "      <td>Some major design flaws</td>\n",
       "      <td>Love this dress!  it's sooo pretty.  i happene...</td>\n",
       "      <td>5</td>\n",
       "      <td>1</td>\n",
       "      <td>4</td>\n",
       "      <td>General</td>\n",
       "      <td>Dresses</td>\n",
       "      <td>Dresses</td>\n",
       "      <td>30 to 39</td>\n",
       "    </tr>\n",
       "    <tr>\n",
       "      <th>2</th>\n",
       "      <td>1077</td>\n",
       "      <td>60</td>\n",
       "      <td>Some major design flaws</td>\n",
       "      <td>I had such high hopes for this dress and reall...</td>\n",
       "      <td>3</td>\n",
       "      <td>0</td>\n",
       "      <td>0</td>\n",
       "      <td>General</td>\n",
       "      <td>Dresses</td>\n",
       "      <td>Dresses</td>\n",
       "      <td>60 to 69</td>\n",
       "    </tr>\n",
       "    <tr>\n",
       "      <th>3</th>\n",
       "      <td>1049</td>\n",
       "      <td>50</td>\n",
       "      <td>My favorite buy!</td>\n",
       "      <td>I love, love, love this jumpsuit. it's fun, fl...</td>\n",
       "      <td>5</td>\n",
       "      <td>1</td>\n",
       "      <td>0</td>\n",
       "      <td>General Petite</td>\n",
       "      <td>Bottoms</td>\n",
       "      <td>Pants</td>\n",
       "      <td>50 to 59</td>\n",
       "    </tr>\n",
       "    <tr>\n",
       "      <th>4</th>\n",
       "      <td>847</td>\n",
       "      <td>47</td>\n",
       "      <td>Flattering shirt</td>\n",
       "      <td>This shirt is very flattering to all due to th...</td>\n",
       "      <td>5</td>\n",
       "      <td>1</td>\n",
       "      <td>6</td>\n",
       "      <td>General</td>\n",
       "      <td>Tops</td>\n",
       "      <td>Blouses</td>\n",
       "      <td>40 to 49</td>\n",
       "    </tr>\n",
       "  </tbody>\n",
       "</table>\n",
       "</div>"
      ],
      "text/plain": [
       "   Clothing ID  Age                    Title  \\\n",
       "0          767   33  Some major design flaws   \n",
       "1         1080   34  Some major design flaws   \n",
       "2         1077   60  Some major design flaws   \n",
       "3         1049   50         My favorite buy!   \n",
       "4          847   47         Flattering shirt   \n",
       "\n",
       "                                         Review Text  Rating  Recommended IND  \\\n",
       "0  Absolutely wonderful - silky and sexy and comf...       4                1   \n",
       "1  Love this dress!  it's sooo pretty.  i happene...       5                1   \n",
       "2  I had such high hopes for this dress and reall...       3                0   \n",
       "3  I love, love, love this jumpsuit. it's fun, fl...       5                1   \n",
       "4  This shirt is very flattering to all due to th...       5                1   \n",
       "\n",
       "   Positive Feedback Count   Division Name Department Name Class Name  \\\n",
       "0                        0       Initmates        Intimate  Intimates   \n",
       "1                        4         General         Dresses    Dresses   \n",
       "2                        0         General         Dresses    Dresses   \n",
       "3                        0  General Petite         Bottoms      Pants   \n",
       "4                        6         General            Tops    Blouses   \n",
       "\n",
       "  AGE_RANGE  \n",
       "0  30 to 39  \n",
       "1  30 to 39  \n",
       "2  60 to 69  \n",
       "3  50 to 59  \n",
       "4  40 to 49  "
      ]
     },
     "execution_count": 66,
     "metadata": {},
     "output_type": "execute_result"
    }
   ],
   "source": [
    "df.head()"
   ]
  },
  {
   "cell_type": "markdown",
   "id": "9edaab01",
   "metadata": {},
   "source": [
    "#####  Top 20 Titles"
   ]
  },
  {
   "cell_type": "code",
   "execution_count": 67,
   "id": "fbe67a5f",
   "metadata": {},
   "outputs": [
    {
     "data": {
      "text/plain": [
       "Love it!            149\n",
       "Beautiful           105\n",
       "Love                100\n",
       "Love!                94\n",
       "Beautiful!           76\n",
       "Love it              65\n",
       "Beautiful dress      65\n",
       "Cute top             62\n",
       "Disappointed         62\n",
       "Gorgeous             59\n",
       "Perfect              58\n",
       "Love this dress!     57\n",
       "Great dress          56\n",
       "Great top            51\n",
       "Adorable             47\n",
       "Super cute           46\n",
       "Not for me           44\n",
       "Love this dress      42\n",
       "Runs small           41\n",
       "Cute                 40\n",
       "Name: Title, dtype: int64"
      ]
     },
     "execution_count": 67,
     "metadata": {},
     "output_type": "execute_result"
    }
   ],
   "source": [
    " df['Title'].value_counts()[:20]"
   ]
  },
  {
   "cell_type": "code",
   "execution_count": null,
   "id": "420925d5",
   "metadata": {},
   "outputs": [],
   "source": []
  },
  {
   "cell_type": "code",
   "execution_count": 68,
   "id": "f7386ff3",
   "metadata": {},
   "outputs": [
    {
     "data": {
      "text/plain": [
       "<AxesSubplot:>"
      ]
     },
     "execution_count": 68,
     "metadata": {},
     "output_type": "execute_result"
    },
    {
     "data": {
      "image/png": "[encoded data removed]",
      "text/plain": [
       "<Figure size 1800x720 with 1 Axes>"
      ]
     },
     "metadata": {
      "needs_background": "light"
     },
     "output_type": "display_data"
    }
   ],
   "source": [
    "plt.rcParams['figure.figsize']=(25,10)\n",
    "sns.barplot(x=df['Title'].value_counts()[:20].index,y= df['Title'].value_counts()[:20].values)"
   ]
  },
  {
   "cell_type": "markdown",
   "id": "7858afc6",
   "metadata": {},
   "source": [
    "Out of all first top 20 value counted title, only 3 are in negative(1:\"Dissapointed\",2:\"Not For Me\",3\":\"Runs Small\"), except this all the other are positive."
   ]
  },
  {
   "cell_type": "code",
   "execution_count": null,
   "id": "63a757d3",
   "metadata": {},
   "outputs": [],
   "source": []
  },
  {
   "cell_type": "code",
   "execution_count": null,
   "id": "474eddf6",
   "metadata": {},
   "outputs": [],
   "source": []
  },
  {
   "cell_type": "markdown",
   "id": "3136df8e",
   "metadata": {},
   "source": [
    "###### As we have seen in above analysis of Recommendation IND, the data was looking unbalanced, So our first step before moving into Pre-Processing is Making the data balanced."
   ]
  },
  {
   "cell_type": "code",
   "execution_count": 69,
   "id": "1bb8186f",
   "metadata": {},
   "outputs": [],
   "source": [
    "from sklearn.utils import resample"
   ]
  },
  {
   "cell_type": "markdown",
   "id": "9c6238d0",
   "metadata": {},
   "source": [
    "##### Before sampling "
   ]
  },
  {
   "cell_type": "code",
   "execution_count": 70,
   "id": "13eff42e",
   "metadata": {
    "scrolled": false
   },
   "outputs": [
    {
     "data": {
      "text/plain": [
       "<AxesSubplot:ylabel='Recommended IND'>"
      ]
     },
     "execution_count": 70,
     "metadata": {},
     "output_type": "execute_result"
    },
    {
     "data": {
      "image/png": "[encoded data removed]",
      "text/plain": [
       "<Figure size 1080x432 with 2 Axes>"
      ]
     },
     "metadata": {
      "needs_background": "light"
     },
     "output_type": "display_data"
    }
   ],
   "source": [
    "plt.figure(figsize = (15, 6))\n",
    "plt.subplot(1, 2, 1)\n",
    "sns.countplot(x=df['Recommended IND'])\n",
    "plt.subplot(1, 2, 2)\n",
    "df['Recommended IND'].value_counts().plot.pie(y='Class',autopct=\"%1.1f%%\")"
   ]
  },
  {
   "cell_type": "code",
   "execution_count": 71,
   "id": "7ca552a1",
   "metadata": {},
   "outputs": [
    {
     "data": {
      "text/plain": [
       "1    18539\n",
       "0     4101\n",
       "Name: Recommended IND, dtype: int64"
      ]
     },
     "execution_count": 71,
     "metadata": {},
     "output_type": "execute_result"
    }
   ],
   "source": [
    "df['Recommended IND'].value_counts()"
   ]
  },
  {
   "cell_type": "markdown",
   "id": "3d6a137d",
   "metadata": {},
   "source": [
    "##### Resampling the minority data(Recommended IND=0)"
   ]
  },
  {
   "cell_type": "code",
   "execution_count": 72,
   "id": "93a238f8",
   "metadata": {},
   "outputs": [],
   "source": [
    "majority=df[df['Recommended IND']==1]\n",
    "minority=df[df['Recommended IND']==0]\n",
    "df_new=resample(minority,replace=True,n_samples=17000,random_state=42)"
   ]
  },
  {
   "cell_type": "code",
   "execution_count": 73,
   "id": "23123956",
   "metadata": {},
   "outputs": [
    {
     "data": {
      "text/plain": [
       "(17000, 11)"
      ]
     },
     "execution_count": 73,
     "metadata": {},
     "output_type": "execute_result"
    }
   ],
   "source": [
    "df_new.shape"
   ]
  },
  {
   "cell_type": "code",
   "execution_count": 74,
   "id": "1c2f3fea",
   "metadata": {},
   "outputs": [],
   "source": [
    "df_upsampled=pd.concat([df_new,majority])"
   ]
  },
  {
   "cell_type": "markdown",
   "id": "971e2f92",
   "metadata": {},
   "source": [
    "##### After Resampling"
   ]
  },
  {
   "cell_type": "code",
   "execution_count": 75,
   "id": "dbc65a2f",
   "metadata": {},
   "outputs": [
    {
     "data": {
      "text/plain": [
       "<AxesSubplot:ylabel='Recommended IND'>"
      ]
     },
     "execution_count": 75,
     "metadata": {},
     "output_type": "execute_result"
    },
    {
     "data": {
      "image/png": "[encoded data removed]",
      "text/plain": [
       "<Figure size 1080x432 with 2 Axes>"
      ]
     },
     "metadata": {
      "needs_background": "light"
     },
     "output_type": "display_data"
    }
   ],
   "source": [
    "plt.figure(figsize = (15, 6))\n",
    "ax=plt.subplot(1, 2, 1)\n",
    "sns.countplot(x=df_upsampled['Recommended IND'])\n",
    "ax.set_title('After Upsampling')\n",
    "plt.subplot(1, 2, 2)\n",
    "df_upsampled['Recommended IND'].value_counts().plot.pie(y='Class',autopct=\"%1.1f%%\")"
   ]
  },
  {
   "cell_type": "code",
   "execution_count": 76,
   "id": "7bbae90c",
   "metadata": {},
   "outputs": [
    {
     "data": {
      "text/plain": [
       "(35539, 11)"
      ]
     },
     "execution_count": 76,
     "metadata": {},
     "output_type": "execute_result"
    }
   ],
   "source": [
    "df_upsampled.shape"
   ]
  },
  {
   "cell_type": "markdown",
   "id": "9e245017",
   "metadata": {},
   "source": [
    "# Text Pre-Processing"
   ]
  },
  {
   "cell_type": "code",
   "execution_count": 77,
   "id": "69f90f33",
   "metadata": {},
   "outputs": [],
   "source": [
    "import spacy\n",
    "nlp=spacy.load(\"en_core_web_sm\")"
   ]
  },
  {
   "cell_type": "code",
   "execution_count": 78,
   "id": "88df3014",
   "metadata": {
    "scrolled": false
   },
   "outputs": [
    {
     "data": {
      "text/html": [
       "<div>\n",
       "<style scoped>\n",
       "    .dataframe tbody tr th:only-of-type {\n",
       "        vertical-align: middle;\n",
       "    }\n",
       "\n",
       "    .dataframe tbody tr th {\n",
       "        vertical-align: top;\n",
       "    }\n",
       "\n",
       "    .dataframe thead th {\n",
       "        text-align: right;\n",
       "    }\n",
       "</style>\n",
       "<table border=\"1\" class=\"dataframe\">\n",
       "  <thead>\n",
       "    <tr style=\"text-align: right;\">\n",
       "      <th></th>\n",
       "      <th>Clothing ID</th>\n",
       "      <th>Age</th>\n",
       "      <th>Title</th>\n",
       "      <th>Review Text</th>\n",
       "      <th>Rating</th>\n",
       "      <th>Recommended IND</th>\n",
       "      <th>Positive Feedback Count</th>\n",
       "      <th>Division Name</th>\n",
       "      <th>Department Name</th>\n",
       "      <th>Class Name</th>\n",
       "      <th>AGE_RANGE</th>\n",
       "    </tr>\n",
       "  </thead>\n",
       "  <tbody>\n",
       "    <tr>\n",
       "      <th>4926</th>\n",
       "      <td>1099</td>\n",
       "      <td>35</td>\n",
       "      <td>Removing the liner</td>\n",
       "      <td>I am on the fence about this dress. the fabric...</td>\n",
       "      <td>3</td>\n",
       "      <td>0</td>\n",
       "      <td>26</td>\n",
       "      <td>General</td>\n",
       "      <td>Dresses</td>\n",
       "      <td>Dresses</td>\n",
       "      <td>30 to 39</td>\n",
       "    </tr>\n",
       "    <tr>\n",
       "      <th>21598</th>\n",
       "      <td>1086</td>\n",
       "      <td>33</td>\n",
       "      <td>Not great for those with a little extra...</td>\n",
       "      <td>I love everything by cloth &amp; stone so was exci...</td>\n",
       "      <td>2</td>\n",
       "      <td>0</td>\n",
       "      <td>8</td>\n",
       "      <td>General</td>\n",
       "      <td>Dresses</td>\n",
       "      <td>Dresses</td>\n",
       "      <td>30 to 39</td>\n",
       "    </tr>\n",
       "    <tr>\n",
       "      <th>17773</th>\n",
       "      <td>819</td>\n",
       "      <td>67</td>\n",
       "      <td>Flattering all around</td>\n",
       "      <td>Loved the fit and colors, but the fabric is ve...</td>\n",
       "      <td>2</td>\n",
       "      <td>0</td>\n",
       "      <td>18</td>\n",
       "      <td>General</td>\n",
       "      <td>Tops</td>\n",
       "      <td>Blouses</td>\n",
       "      <td>60 to 69</td>\n",
       "    </tr>\n",
       "    <tr>\n",
       "      <th>2579</th>\n",
       "      <td>18</td>\n",
       "      <td>42</td>\n",
       "      <td>Disappointing quality</td>\n",
       "      <td>I ordered these leggings and loved them, for a...</td>\n",
       "      <td>1</td>\n",
       "      <td>0</td>\n",
       "      <td>0</td>\n",
       "      <td>General Petite</td>\n",
       "      <td>Bottoms</td>\n",
       "      <td>Jeans</td>\n",
       "      <td>40 to 49</td>\n",
       "    </tr>\n",
       "    <tr>\n",
       "      <th>19705</th>\n",
       "      <td>999</td>\n",
       "      <td>48</td>\n",
       "      <td>Ugh</td>\n",
       "      <td>Not sure who this is for but its not for me. s...</td>\n",
       "      <td>1</td>\n",
       "      <td>0</td>\n",
       "      <td>0</td>\n",
       "      <td>General Petite</td>\n",
       "      <td>Bottoms</td>\n",
       "      <td>Skirts</td>\n",
       "      <td>40 to 49</td>\n",
       "    </tr>\n",
       "  </tbody>\n",
       "</table>\n",
       "</div>"
      ],
      "text/plain": [
       "       Clothing ID  Age                                       Title  \\\n",
       "4926          1099   35                          Removing the liner   \n",
       "21598         1086   33  Not great for those with a little extra...   \n",
       "17773          819   67                       Flattering all around   \n",
       "2579            18   42                       Disappointing quality   \n",
       "19705          999   48                                         Ugh   \n",
       "\n",
       "                                             Review Text  Rating  \\\n",
       "4926   I am on the fence about this dress. the fabric...       3   \n",
       "21598  I love everything by cloth & stone so was exci...       2   \n",
       "17773  Loved the fit and colors, but the fabric is ve...       2   \n",
       "2579   I ordered these leggings and loved them, for a...       1   \n",
       "19705  Not sure who this is for but its not for me. s...       1   \n",
       "\n",
       "       Recommended IND  Positive Feedback Count   Division Name  \\\n",
       "4926                 0                       26         General   \n",
       "21598                0                        8         General   \n",
       "17773                0                       18         General   \n",
       "2579                 0                        0  General Petite   \n",
       "19705                0                        0  General Petite   \n",
       "\n",
       "      Department Name Class Name AGE_RANGE  \n",
       "4926          Dresses    Dresses  30 to 39  \n",
       "21598         Dresses    Dresses  30 to 39  \n",
       "17773            Tops    Blouses  60 to 69  \n",
       "2579          Bottoms      Jeans  40 to 49  \n",
       "19705         Bottoms     Skirts  40 to 49  "
      ]
     },
     "execution_count": 78,
     "metadata": {},
     "output_type": "execute_result"
    }
   ],
   "source": [
    "df_upsampled.head()"
   ]
  },
  {
   "cell_type": "markdown",
   "id": "023fe0aa",
   "metadata": {},
   "source": [
    "#####  Making the review text to lower format"
   ]
  },
  {
   "cell_type": "code",
   "execution_count": 79,
   "id": "7a40bc5c",
   "metadata": {},
   "outputs": [],
   "source": [
    "def low(x):\n",
    "    return str(x).lower()\n"
   ]
  },
  {
   "cell_type": "code",
   "execution_count": 80,
   "id": "4a9165a7",
   "metadata": {},
   "outputs": [],
   "source": [
    "df_upsampled['Review Text']=df_upsampled['Review Text'].apply(lambda x: low(x))"
   ]
  },
  {
   "cell_type": "code",
   "execution_count": 81,
   "id": "e9a4e8e8",
   "metadata": {
    "scrolled": false
   },
   "outputs": [
    {
     "data": {
      "text/html": [
       "<div>\n",
       "<style scoped>\n",
       "    .dataframe tbody tr th:only-of-type {\n",
       "        vertical-align: middle;\n",
       "    }\n",
       "\n",
       "    .dataframe tbody tr th {\n",
       "        vertical-align: top;\n",
       "    }\n",
       "\n",
       "    .dataframe thead th {\n",
       "        text-align: right;\n",
       "    }\n",
       "</style>\n",
       "<table border=\"1\" class=\"dataframe\">\n",
       "  <thead>\n",
       "    <tr style=\"text-align: right;\">\n",
       "      <th></th>\n",
       "      <th>Clothing ID</th>\n",
       "      <th>Age</th>\n",
       "      <th>Title</th>\n",
       "      <th>Review Text</th>\n",
       "      <th>Rating</th>\n",
       "      <th>Recommended IND</th>\n",
       "      <th>Positive Feedback Count</th>\n",
       "      <th>Division Name</th>\n",
       "      <th>Department Name</th>\n",
       "      <th>Class Name</th>\n",
       "      <th>AGE_RANGE</th>\n",
       "    </tr>\n",
       "  </thead>\n",
       "  <tbody>\n",
       "    <tr>\n",
       "      <th>4926</th>\n",
       "      <td>1099</td>\n",
       "      <td>35</td>\n",
       "      <td>Removing the liner</td>\n",
       "      <td>i am on the fence about this dress. the fabric...</td>\n",
       "      <td>3</td>\n",
       "      <td>0</td>\n",
       "      <td>26</td>\n",
       "      <td>General</td>\n",
       "      <td>Dresses</td>\n",
       "      <td>Dresses</td>\n",
       "      <td>30 to 39</td>\n",
       "    </tr>\n",
       "    <tr>\n",
       "      <th>21598</th>\n",
       "      <td>1086</td>\n",
       "      <td>33</td>\n",
       "      <td>Not great for those with a little extra...</td>\n",
       "      <td>i love everything by cloth &amp; stone so was exci...</td>\n",
       "      <td>2</td>\n",
       "      <td>0</td>\n",
       "      <td>8</td>\n",
       "      <td>General</td>\n",
       "      <td>Dresses</td>\n",
       "      <td>Dresses</td>\n",
       "      <td>30 to 39</td>\n",
       "    </tr>\n",
       "    <tr>\n",
       "      <th>17773</th>\n",
       "      <td>819</td>\n",
       "      <td>67</td>\n",
       "      <td>Flattering all around</td>\n",
       "      <td>loved the fit and colors, but the fabric is ve...</td>\n",
       "      <td>2</td>\n",
       "      <td>0</td>\n",
       "      <td>18</td>\n",
       "      <td>General</td>\n",
       "      <td>Tops</td>\n",
       "      <td>Blouses</td>\n",
       "      <td>60 to 69</td>\n",
       "    </tr>\n",
       "    <tr>\n",
       "      <th>2579</th>\n",
       "      <td>18</td>\n",
       "      <td>42</td>\n",
       "      <td>Disappointing quality</td>\n",
       "      <td>i ordered these leggings and loved them, for a...</td>\n",
       "      <td>1</td>\n",
       "      <td>0</td>\n",
       "      <td>0</td>\n",
       "      <td>General Petite</td>\n",
       "      <td>Bottoms</td>\n",
       "      <td>Jeans</td>\n",
       "      <td>40 to 49</td>\n",
       "    </tr>\n",
       "    <tr>\n",
       "      <th>19705</th>\n",
       "      <td>999</td>\n",
       "      <td>48</td>\n",
       "      <td>Ugh</td>\n",
       "      <td>not sure who this is for but its not for me. s...</td>\n",
       "      <td>1</td>\n",
       "      <td>0</td>\n",
       "      <td>0</td>\n",
       "      <td>General Petite</td>\n",
       "      <td>Bottoms</td>\n",
       "      <td>Skirts</td>\n",
       "      <td>40 to 49</td>\n",
       "    </tr>\n",
       "  </tbody>\n",
       "</table>\n",
       "</div>"
      ],
      "text/plain": [
       "       Clothing ID  Age                                       Title  \\\n",
       "4926          1099   35                          Removing the liner   \n",
       "21598         1086   33  Not great for those with a little extra...   \n",
       "17773          819   67                       Flattering all around   \n",
       "2579            18   42                       Disappointing quality   \n",
       "19705          999   48                                         Ugh   \n",
       "\n",
       "                                             Review Text  Rating  \\\n",
       "4926   i am on the fence about this dress. the fabric...       3   \n",
       "21598  i love everything by cloth & stone so was exci...       2   \n",
       "17773  loved the fit and colors, but the fabric is ve...       2   \n",
       "2579   i ordered these leggings and loved them, for a...       1   \n",
       "19705  not sure who this is for but its not for me. s...       1   \n",
       "\n",
       "       Recommended IND  Positive Feedback Count   Division Name  \\\n",
       "4926                 0                       26         General   \n",
       "21598                0                        8         General   \n",
       "17773                0                       18         General   \n",
       "2579                 0                        0  General Petite   \n",
       "19705                0                        0  General Petite   \n",
       "\n",
       "      Department Name Class Name AGE_RANGE  \n",
       "4926          Dresses    Dresses  30 to 39  \n",
       "21598         Dresses    Dresses  30 to 39  \n",
       "17773            Tops    Blouses  60 to 69  \n",
       "2579          Bottoms      Jeans  40 to 49  \n",
       "19705         Bottoms     Skirts  40 to 49  "
      ]
     },
     "execution_count": 81,
     "metadata": {},
     "output_type": "execute_result"
    }
   ],
   "source": [
    "df_upsampled.head()"
   ]
  },
  {
   "cell_type": "code",
   "execution_count": null,
   "id": "376d92ee",
   "metadata": {},
   "outputs": [],
   "source": []
  },
  {
   "cell_type": "markdown",
   "id": "77264a7b",
   "metadata": {},
   "source": [
    "\n",
    "##### Removing Punctuations from Reviews Text"
   ]
  },
  {
   "cell_type": "code",
   "execution_count": 82,
   "id": "2a9e5081",
   "metadata": {},
   "outputs": [],
   "source": [
    "def rem_punct(x):\n",
    "    listt=[]\n",
    "    doc=nlp(x)\n",
    "    s=\" \"\n",
    "    for token in doc:\n",
    "        if not token.is_punct:\n",
    "            listt.append(str(token))\n",
    "    \n",
    "    #listt=[token for token in doc if not token.is_punct]\n",
    "    return s.join((listt))"
   ]
  },
  {
   "cell_type": "code",
   "execution_count": 83,
   "id": "c0ad849e",
   "metadata": {},
   "outputs": [],
   "source": [
    "df_upsampled['Reviews_Cleaned']=df_upsampled['Review Text'].apply(lambda x:rem_punct(x))"
   ]
  },
  {
   "cell_type": "code",
   "execution_count": 84,
   "id": "46835dc6",
   "metadata": {},
   "outputs": [
    {
     "data": {
      "text/html": [
       "<div>\n",
       "<style scoped>\n",
       "    .dataframe tbody tr th:only-of-type {\n",
       "        vertical-align: middle;\n",
       "    }\n",
       "\n",
       "    .dataframe tbody tr th {\n",
       "        vertical-align: top;\n",
       "    }\n",
       "\n",
       "    .dataframe thead th {\n",
       "        text-align: right;\n",
       "    }\n",
       "</style>\n",
       "<table border=\"1\" class=\"dataframe\">\n",
       "  <thead>\n",
       "    <tr style=\"text-align: right;\">\n",
       "      <th></th>\n",
       "      <th>Clothing ID</th>\n",
       "      <th>Age</th>\n",
       "      <th>Title</th>\n",
       "      <th>Review Text</th>\n",
       "      <th>Rating</th>\n",
       "      <th>Recommended IND</th>\n",
       "      <th>Positive Feedback Count</th>\n",
       "      <th>Division Name</th>\n",
       "      <th>Department Name</th>\n",
       "      <th>Class Name</th>\n",
       "      <th>AGE_RANGE</th>\n",
       "      <th>Reviews_Cleaned</th>\n",
       "    </tr>\n",
       "  </thead>\n",
       "  <tbody>\n",
       "    <tr>\n",
       "      <th>4926</th>\n",
       "      <td>1099</td>\n",
       "      <td>35</td>\n",
       "      <td>Removing the liner</td>\n",
       "      <td>i am on the fence about this dress. the fabric...</td>\n",
       "      <td>3</td>\n",
       "      <td>0</td>\n",
       "      <td>26</td>\n",
       "      <td>General</td>\n",
       "      <td>Dresses</td>\n",
       "      <td>Dresses</td>\n",
       "      <td>30 to 39</td>\n",
       "      <td>i am on the fence about this dress the fabric ...</td>\n",
       "    </tr>\n",
       "    <tr>\n",
       "      <th>21598</th>\n",
       "      <td>1086</td>\n",
       "      <td>33</td>\n",
       "      <td>Not great for those with a little extra...</td>\n",
       "      <td>i love everything by cloth &amp; stone so was exci...</td>\n",
       "      <td>2</td>\n",
       "      <td>0</td>\n",
       "      <td>8</td>\n",
       "      <td>General</td>\n",
       "      <td>Dresses</td>\n",
       "      <td>Dresses</td>\n",
       "      <td>30 to 39</td>\n",
       "      <td>i love everything by cloth stone so was excite...</td>\n",
       "    </tr>\n",
       "    <tr>\n",
       "      <th>17773</th>\n",
       "      <td>819</td>\n",
       "      <td>67</td>\n",
       "      <td>Flattering all around</td>\n",
       "      <td>loved the fit and colors, but the fabric is ve...</td>\n",
       "      <td>2</td>\n",
       "      <td>0</td>\n",
       "      <td>18</td>\n",
       "      <td>General</td>\n",
       "      <td>Tops</td>\n",
       "      <td>Blouses</td>\n",
       "      <td>60 to 69</td>\n",
       "      <td>loved the fit and colors but the fabric is ver...</td>\n",
       "    </tr>\n",
       "    <tr>\n",
       "      <th>2579</th>\n",
       "      <td>18</td>\n",
       "      <td>42</td>\n",
       "      <td>Disappointing quality</td>\n",
       "      <td>i ordered these leggings and loved them, for a...</td>\n",
       "      <td>1</td>\n",
       "      <td>0</td>\n",
       "      <td>0</td>\n",
       "      <td>General Petite</td>\n",
       "      <td>Bottoms</td>\n",
       "      <td>Jeans</td>\n",
       "      <td>40 to 49</td>\n",
       "      <td>i ordered these leggings and loved them for ab...</td>\n",
       "    </tr>\n",
       "    <tr>\n",
       "      <th>19705</th>\n",
       "      <td>999</td>\n",
       "      <td>48</td>\n",
       "      <td>Ugh</td>\n",
       "      <td>not sure who this is for but its not for me. s...</td>\n",
       "      <td>1</td>\n",
       "      <td>0</td>\n",
       "      <td>0</td>\n",
       "      <td>General Petite</td>\n",
       "      <td>Bottoms</td>\n",
       "      <td>Skirts</td>\n",
       "      <td>40 to 49</td>\n",
       "      <td>not sure who this is for but its not for me sk...</td>\n",
       "    </tr>\n",
       "  </tbody>\n",
       "</table>\n",
       "</div>"
      ],
      "text/plain": [
       "       Clothing ID  Age                                       Title  \\\n",
       "4926          1099   35                          Removing the liner   \n",
       "21598         1086   33  Not great for those with a little extra...   \n",
       "17773          819   67                       Flattering all around   \n",
       "2579            18   42                       Disappointing quality   \n",
       "19705          999   48                                         Ugh   \n",
       "\n",
       "                                             Review Text  Rating  \\\n",
       "4926   i am on the fence about this dress. the fabric...       3   \n",
       "21598  i love everything by cloth & stone so was exci...       2   \n",
       "17773  loved the fit and colors, but the fabric is ve...       2   \n",
       "2579   i ordered these leggings and loved them, for a...       1   \n",
       "19705  not sure who this is for but its not for me. s...       1   \n",
       "\n",
       "       Recommended IND  Positive Feedback Count   Division Name  \\\n",
       "4926                 0                       26         General   \n",
       "21598                0                        8         General   \n",
       "17773                0                       18         General   \n",
       "2579                 0                        0  General Petite   \n",
       "19705                0                        0  General Petite   \n",
       "\n",
       "      Department Name Class Name AGE_RANGE  \\\n",
       "4926          Dresses    Dresses  30 to 39   \n",
       "21598         Dresses    Dresses  30 to 39   \n",
       "17773            Tops    Blouses  60 to 69   \n",
       "2579          Bottoms      Jeans  40 to 49   \n",
       "19705         Bottoms     Skirts  40 to 49   \n",
       "\n",
       "                                         Reviews_Cleaned  \n",
       "4926   i am on the fence about this dress the fabric ...  \n",
       "21598  i love everything by cloth stone so was excite...  \n",
       "17773  loved the fit and colors but the fabric is ver...  \n",
       "2579   i ordered these leggings and loved them for ab...  \n",
       "19705  not sure who this is for but its not for me sk...  "
      ]
     },
     "execution_count": 84,
     "metadata": {},
     "output_type": "execute_result"
    }
   ],
   "source": [
    "df_upsampled.head()"
   ]
  },
  {
   "cell_type": "markdown",
   "id": "4c435555",
   "metadata": {},
   "source": [
    "All the punctuations in the review text has been removed."
   ]
  },
  {
   "cell_type": "markdown",
   "id": "d2f08552",
   "metadata": {},
   "source": [
    "#####  Removing \"NOT\" from Stop Words and Removing stop words"
   ]
  },
  {
   "cell_type": "code",
   "execution_count": 85,
   "id": "2aeb06aa",
   "metadata": {},
   "outputs": [],
   "source": [
    "def stop(x):\n",
    "    dox=nlp(x)\n",
    "    nlp.vocab['not'].is_stop=False\n",
    "    listt=[str(token) for token in dox if not token.is_stop]\n",
    "    return \" \".join(listt)"
   ]
  },
  {
   "cell_type": "code",
   "execution_count": 86,
   "id": "cbb55440",
   "metadata": {},
   "outputs": [],
   "source": [
    "df_upsampled['Reviews_Cleaned']=df_upsampled['Reviews_Cleaned'].apply(lambda x: stop(x))"
   ]
  },
  {
   "cell_type": "code",
   "execution_count": 87,
   "id": "d20e31eb",
   "metadata": {
    "scrolled": false
   },
   "outputs": [
    {
     "data": {
      "text/html": [
       "<div>\n",
       "<style scoped>\n",
       "    .dataframe tbody tr th:only-of-type {\n",
       "        vertical-align: middle;\n",
       "    }\n",
       "\n",
       "    .dataframe tbody tr th {\n",
       "        vertical-align: top;\n",
       "    }\n",
       "\n",
       "    .dataframe thead th {\n",
       "        text-align: right;\n",
       "    }\n",
       "</style>\n",
       "<table border=\"1\" class=\"dataframe\">\n",
       "  <thead>\n",
       "    <tr style=\"text-align: right;\">\n",
       "      <th></th>\n",
       "      <th>Clothing ID</th>\n",
       "      <th>Age</th>\n",
       "      <th>Title</th>\n",
       "      <th>Review Text</th>\n",
       "      <th>Rating</th>\n",
       "      <th>Recommended IND</th>\n",
       "      <th>Positive Feedback Count</th>\n",
       "      <th>Division Name</th>\n",
       "      <th>Department Name</th>\n",
       "      <th>Class Name</th>\n",
       "      <th>AGE_RANGE</th>\n",
       "      <th>Reviews_Cleaned</th>\n",
       "    </tr>\n",
       "  </thead>\n",
       "  <tbody>\n",
       "    <tr>\n",
       "      <th>4926</th>\n",
       "      <td>1099</td>\n",
       "      <td>35</td>\n",
       "      <td>Removing the liner</td>\n",
       "      <td>i am on the fence about this dress. the fabric...</td>\n",
       "      <td>3</td>\n",
       "      <td>0</td>\n",
       "      <td>26</td>\n",
       "      <td>General</td>\n",
       "      <td>Dresses</td>\n",
       "      <td>Dresses</td>\n",
       "      <td>30 to 39</td>\n",
       "      <td>fence dress fabric gorgeous soft hoping fit sl...</td>\n",
       "    </tr>\n",
       "    <tr>\n",
       "      <th>21598</th>\n",
       "      <td>1086</td>\n",
       "      <td>33</td>\n",
       "      <td>Not great for those with a little extra...</td>\n",
       "      <td>i love everything by cloth &amp; stone so was exci...</td>\n",
       "      <td>2</td>\n",
       "      <td>0</td>\n",
       "      <td>8</td>\n",
       "      <td>General</td>\n",
       "      <td>Dresses</td>\n",
       "      <td>Dresses</td>\n",
       "      <td>30 to 39</td>\n",
       "      <td>love cloth stone excited dress hooray ordered ...</td>\n",
       "    </tr>\n",
       "    <tr>\n",
       "      <th>17773</th>\n",
       "      <td>819</td>\n",
       "      <td>67</td>\n",
       "      <td>Flattering all around</td>\n",
       "      <td>loved the fit and colors, but the fabric is ve...</td>\n",
       "      <td>2</td>\n",
       "      <td>0</td>\n",
       "      <td>18</td>\n",
       "      <td>General</td>\n",
       "      <td>Tops</td>\n",
       "      <td>Blouses</td>\n",
       "      <td>60 to 69</td>\n",
       "      <td>loved fit colors fabric thin tried nude cami u...</td>\n",
       "    </tr>\n",
       "    <tr>\n",
       "      <th>2579</th>\n",
       "      <td>18</td>\n",
       "      <td>42</td>\n",
       "      <td>Disappointing quality</td>\n",
       "      <td>i ordered these leggings and loved them, for a...</td>\n",
       "      <td>1</td>\n",
       "      <td>0</td>\n",
       "      <td>0</td>\n",
       "      <td>General Petite</td>\n",
       "      <td>Bottoms</td>\n",
       "      <td>Jeans</td>\n",
       "      <td>40 to 49</td>\n",
       "      <td>ordered leggings loved hour- point belt loop r...</td>\n",
       "    </tr>\n",
       "    <tr>\n",
       "      <th>19705</th>\n",
       "      <td>999</td>\n",
       "      <td>48</td>\n",
       "      <td>Ugh</td>\n",
       "      <td>not sure who this is for but its not for me. s...</td>\n",
       "      <td>1</td>\n",
       "      <td>0</td>\n",
       "      <td>0</td>\n",
       "      <td>General Petite</td>\n",
       "      <td>Bottoms</td>\n",
       "      <td>Skirts</td>\n",
       "      <td>40 to 49</td>\n",
       "      <td>not sure not skirt long stiff puffy hips not l...</td>\n",
       "    </tr>\n",
       "  </tbody>\n",
       "</table>\n",
       "</div>"
      ],
      "text/plain": [
       "       Clothing ID  Age                                       Title  \\\n",
       "4926          1099   35                          Removing the liner   \n",
       "21598         1086   33  Not great for those with a little extra...   \n",
       "17773          819   67                       Flattering all around   \n",
       "2579            18   42                       Disappointing quality   \n",
       "19705          999   48                                         Ugh   \n",
       "\n",
       "                                             Review Text  Rating  \\\n",
       "4926   i am on the fence about this dress. the fabric...       3   \n",
       "21598  i love everything by cloth & stone so was exci...       2   \n",
       "17773  loved the fit and colors, but the fabric is ve...       2   \n",
       "2579   i ordered these leggings and loved them, for a...       1   \n",
       "19705  not sure who this is for but its not for me. s...       1   \n",
       "\n",
       "       Recommended IND  Positive Feedback Count   Division Name  \\\n",
       "4926                 0                       26         General   \n",
       "21598                0                        8         General   \n",
       "17773                0                       18         General   \n",
       "2579                 0                        0  General Petite   \n",
       "19705                0                        0  General Petite   \n",
       "\n",
       "      Department Name Class Name AGE_RANGE  \\\n",
       "4926          Dresses    Dresses  30 to 39   \n",
       "21598         Dresses    Dresses  30 to 39   \n",
       "17773            Tops    Blouses  60 to 69   \n",
       "2579          Bottoms      Jeans  40 to 49   \n",
       "19705         Bottoms     Skirts  40 to 49   \n",
       "\n",
       "                                         Reviews_Cleaned  \n",
       "4926   fence dress fabric gorgeous soft hoping fit sl...  \n",
       "21598  love cloth stone excited dress hooray ordered ...  \n",
       "17773  loved fit colors fabric thin tried nude cami u...  \n",
       "2579   ordered leggings loved hour- point belt loop r...  \n",
       "19705  not sure not skirt long stiff puffy hips not l...  "
      ]
     },
     "execution_count": 87,
     "metadata": {},
     "output_type": "execute_result"
    }
   ],
   "source": [
    "df_upsampled.head()"
   ]
  },
  {
   "cell_type": "markdown",
   "id": "47482b70",
   "metadata": {},
   "source": [
    "##### Removing Numbers from the Review text"
   ]
  },
  {
   "cell_type": "code",
   "execution_count": 88,
   "id": "2d03cb79",
   "metadata": {},
   "outputs": [],
   "source": [
    "def num(x):\n",
    "    dox=nlp(x)\n",
    "    listt=[str(token) for token in dox if token.is_alpha]\n",
    "    return \" \".join(listt)"
   ]
  },
  {
   "cell_type": "code",
   "execution_count": 89,
   "id": "ad4fda7d",
   "metadata": {},
   "outputs": [],
   "source": [
    "df_upsampled['Reviews_Cleaned']=df_upsampled['Reviews_Cleaned'].apply(lambda x: num(x))"
   ]
  },
  {
   "cell_type": "code",
   "execution_count": 90,
   "id": "fd39e9c8",
   "metadata": {
    "scrolled": false
   },
   "outputs": [
    {
     "data": {
      "text/html": [
       "<div>\n",
       "<style scoped>\n",
       "    .dataframe tbody tr th:only-of-type {\n",
       "        vertical-align: middle;\n",
       "    }\n",
       "\n",
       "    .dataframe tbody tr th {\n",
       "        vertical-align: top;\n",
       "    }\n",
       "\n",
       "    .dataframe thead th {\n",
       "        text-align: right;\n",
       "    }\n",
       "</style>\n",
       "<table border=\"1\" class=\"dataframe\">\n",
       "  <thead>\n",
       "    <tr style=\"text-align: right;\">\n",
       "      <th></th>\n",
       "      <th>Clothing ID</th>\n",
       "      <th>Age</th>\n",
       "      <th>Title</th>\n",
       "      <th>Review Text</th>\n",
       "      <th>Rating</th>\n",
       "      <th>Recommended IND</th>\n",
       "      <th>Positive Feedback Count</th>\n",
       "      <th>Division Name</th>\n",
       "      <th>Department Name</th>\n",
       "      <th>Class Name</th>\n",
       "      <th>AGE_RANGE</th>\n",
       "      <th>Reviews_Cleaned</th>\n",
       "    </tr>\n",
       "  </thead>\n",
       "  <tbody>\n",
       "    <tr>\n",
       "      <th>4926</th>\n",
       "      <td>1099</td>\n",
       "      <td>35</td>\n",
       "      <td>Removing the liner</td>\n",
       "      <td>i am on the fence about this dress. the fabric...</td>\n",
       "      <td>3</td>\n",
       "      <td>0</td>\n",
       "      <td>26</td>\n",
       "      <td>General</td>\n",
       "      <td>Dresses</td>\n",
       "      <td>Dresses</td>\n",
       "      <td>30 to 39</td>\n",
       "      <td>fence dress fabric gorgeous soft hoping fit sl...</td>\n",
       "    </tr>\n",
       "    <tr>\n",
       "      <th>21598</th>\n",
       "      <td>1086</td>\n",
       "      <td>33</td>\n",
       "      <td>Not great for those with a little extra...</td>\n",
       "      <td>i love everything by cloth &amp; stone so was exci...</td>\n",
       "      <td>2</td>\n",
       "      <td>0</td>\n",
       "      <td>8</td>\n",
       "      <td>General</td>\n",
       "      <td>Dresses</td>\n",
       "      <td>Dresses</td>\n",
       "      <td>30 to 39</td>\n",
       "      <td>love cloth stone excited dress hooray ordered ...</td>\n",
       "    </tr>\n",
       "    <tr>\n",
       "      <th>17773</th>\n",
       "      <td>819</td>\n",
       "      <td>67</td>\n",
       "      <td>Flattering all around</td>\n",
       "      <td>loved the fit and colors, but the fabric is ve...</td>\n",
       "      <td>2</td>\n",
       "      <td>0</td>\n",
       "      <td>18</td>\n",
       "      <td>General</td>\n",
       "      <td>Tops</td>\n",
       "      <td>Blouses</td>\n",
       "      <td>60 to 69</td>\n",
       "      <td>loved fit colors fabric thin tried nude cami u...</td>\n",
       "    </tr>\n",
       "    <tr>\n",
       "      <th>2579</th>\n",
       "      <td>18</td>\n",
       "      <td>42</td>\n",
       "      <td>Disappointing quality</td>\n",
       "      <td>i ordered these leggings and loved them, for a...</td>\n",
       "      <td>1</td>\n",
       "      <td>0</td>\n",
       "      <td>0</td>\n",
       "      <td>General Petite</td>\n",
       "      <td>Bottoms</td>\n",
       "      <td>Jeans</td>\n",
       "      <td>40 to 49</td>\n",
       "      <td>ordered leggings loved point belt loop ripped ...</td>\n",
       "    </tr>\n",
       "    <tr>\n",
       "      <th>19705</th>\n",
       "      <td>999</td>\n",
       "      <td>48</td>\n",
       "      <td>Ugh</td>\n",
       "      <td>not sure who this is for but its not for me. s...</td>\n",
       "      <td>1</td>\n",
       "      <td>0</td>\n",
       "      <td>0</td>\n",
       "      <td>General Petite</td>\n",
       "      <td>Bottoms</td>\n",
       "      <td>Skirts</td>\n",
       "      <td>40 to 49</td>\n",
       "      <td>not sure not skirt long stiff puffy hips not l...</td>\n",
       "    </tr>\n",
       "  </tbody>\n",
       "</table>\n",
       "</div>"
      ],
      "text/plain": [
       "       Clothing ID  Age                                       Title  \\\n",
       "4926          1099   35                          Removing the liner   \n",
       "21598         1086   33  Not great for those with a little extra...   \n",
       "17773          819   67                       Flattering all around   \n",
       "2579            18   42                       Disappointing quality   \n",
       "19705          999   48                                         Ugh   \n",
       "\n",
       "                                             Review Text  Rating  \\\n",
       "4926   i am on the fence about this dress. the fabric...       3   \n",
       "21598  i love everything by cloth & stone so was exci...       2   \n",
       "17773  loved the fit and colors, but the fabric is ve...       2   \n",
       "2579   i ordered these leggings and loved them, for a...       1   \n",
       "19705  not sure who this is for but its not for me. s...       1   \n",
       "\n",
       "       Recommended IND  Positive Feedback Count   Division Name  \\\n",
       "4926                 0                       26         General   \n",
       "21598                0                        8         General   \n",
       "17773                0                       18         General   \n",
       "2579                 0                        0  General Petite   \n",
       "19705                0                        0  General Petite   \n",
       "\n",
       "      Department Name Class Name AGE_RANGE  \\\n",
       "4926          Dresses    Dresses  30 to 39   \n",
       "21598         Dresses    Dresses  30 to 39   \n",
       "17773            Tops    Blouses  60 to 69   \n",
       "2579          Bottoms      Jeans  40 to 49   \n",
       "19705         Bottoms     Skirts  40 to 49   \n",
       "\n",
       "                                         Reviews_Cleaned  \n",
       "4926   fence dress fabric gorgeous soft hoping fit sl...  \n",
       "21598  love cloth stone excited dress hooray ordered ...  \n",
       "17773  loved fit colors fabric thin tried nude cami u...  \n",
       "2579   ordered leggings loved point belt loop ripped ...  \n",
       "19705  not sure not skirt long stiff puffy hips not l...  "
      ]
     },
     "execution_count": 90,
     "metadata": {},
     "output_type": "execute_result"
    }
   ],
   "source": [
    "df_upsampled.head()"
   ]
  },
  {
   "cell_type": "code",
   "execution_count": null,
   "id": "8c70725e",
   "metadata": {},
   "outputs": [],
   "source": []
  },
  {
   "cell_type": "markdown",
   "id": "707d8827",
   "metadata": {},
   "source": [
    "##### Applying Lematisation to Review Text"
   ]
  },
  {
   "cell_type": "code",
   "execution_count": 91,
   "id": "8087ba33",
   "metadata": {},
   "outputs": [],
   "source": [
    "def lem(x):\n",
    "    dox=nlp(x)\n",
    "    listt=[str(token) for token in dox if token.lemma_]\n",
    "    return \" \".join(listt)"
   ]
  },
  {
   "cell_type": "code",
   "execution_count": 92,
   "id": "c5ea4e4d",
   "metadata": {},
   "outputs": [],
   "source": [
    "df_upsampled['Reviews_Cleaned']=df_upsampled['Reviews_Cleaned'].apply(lambda x: lem(x))"
   ]
  },
  {
   "cell_type": "code",
   "execution_count": 93,
   "id": "6475776a",
   "metadata": {},
   "outputs": [
    {
     "data": {
      "text/html": [
       "<div>\n",
       "<style scoped>\n",
       "    .dataframe tbody tr th:only-of-type {\n",
       "        vertical-align: middle;\n",
       "    }\n",
       "\n",
       "    .dataframe tbody tr th {\n",
       "        vertical-align: top;\n",
       "    }\n",
       "\n",
       "    .dataframe thead th {\n",
       "        text-align: right;\n",
       "    }\n",
       "</style>\n",
       "<table border=\"1\" class=\"dataframe\">\n",
       "  <thead>\n",
       "    <tr style=\"text-align: right;\">\n",
       "      <th></th>\n",
       "      <th>Clothing ID</th>\n",
       "      <th>Age</th>\n",
       "      <th>Title</th>\n",
       "      <th>Review Text</th>\n",
       "      <th>Rating</th>\n",
       "      <th>Recommended IND</th>\n",
       "      <th>Positive Feedback Count</th>\n",
       "      <th>Division Name</th>\n",
       "      <th>Department Name</th>\n",
       "      <th>Class Name</th>\n",
       "      <th>AGE_RANGE</th>\n",
       "      <th>Reviews_Cleaned</th>\n",
       "    </tr>\n",
       "  </thead>\n",
       "  <tbody>\n",
       "    <tr>\n",
       "      <th>4926</th>\n",
       "      <td>1099</td>\n",
       "      <td>35</td>\n",
       "      <td>Removing the liner</td>\n",
       "      <td>i am on the fence about this dress. the fabric...</td>\n",
       "      <td>3</td>\n",
       "      <td>0</td>\n",
       "      <td>26</td>\n",
       "      <td>General</td>\n",
       "      <td>Dresses</td>\n",
       "      <td>Dresses</td>\n",
       "      <td>30 to 39</td>\n",
       "      <td>fence dress fabric gorgeous soft hoping fit sl...</td>\n",
       "    </tr>\n",
       "    <tr>\n",
       "      <th>21598</th>\n",
       "      <td>1086</td>\n",
       "      <td>33</td>\n",
       "      <td>Not great for those with a little extra...</td>\n",
       "      <td>i love everything by cloth &amp; stone so was exci...</td>\n",
       "      <td>2</td>\n",
       "      <td>0</td>\n",
       "      <td>8</td>\n",
       "      <td>General</td>\n",
       "      <td>Dresses</td>\n",
       "      <td>Dresses</td>\n",
       "      <td>30 to 39</td>\n",
       "      <td>love cloth stone excited dress hooray ordered ...</td>\n",
       "    </tr>\n",
       "    <tr>\n",
       "      <th>17773</th>\n",
       "      <td>819</td>\n",
       "      <td>67</td>\n",
       "      <td>Flattering all around</td>\n",
       "      <td>loved the fit and colors, but the fabric is ve...</td>\n",
       "      <td>2</td>\n",
       "      <td>0</td>\n",
       "      <td>18</td>\n",
       "      <td>General</td>\n",
       "      <td>Tops</td>\n",
       "      <td>Blouses</td>\n",
       "      <td>60 to 69</td>\n",
       "      <td>loved fit colors fabric thin tried nude cami u...</td>\n",
       "    </tr>\n",
       "    <tr>\n",
       "      <th>2579</th>\n",
       "      <td>18</td>\n",
       "      <td>42</td>\n",
       "      <td>Disappointing quality</td>\n",
       "      <td>i ordered these leggings and loved them, for a...</td>\n",
       "      <td>1</td>\n",
       "      <td>0</td>\n",
       "      <td>0</td>\n",
       "      <td>General Petite</td>\n",
       "      <td>Bottoms</td>\n",
       "      <td>Jeans</td>\n",
       "      <td>40 to 49</td>\n",
       "      <td>ordered leggings loved point belt loop ripped ...</td>\n",
       "    </tr>\n",
       "    <tr>\n",
       "      <th>19705</th>\n",
       "      <td>999</td>\n",
       "      <td>48</td>\n",
       "      <td>Ugh</td>\n",
       "      <td>not sure who this is for but its not for me. s...</td>\n",
       "      <td>1</td>\n",
       "      <td>0</td>\n",
       "      <td>0</td>\n",
       "      <td>General Petite</td>\n",
       "      <td>Bottoms</td>\n",
       "      <td>Skirts</td>\n",
       "      <td>40 to 49</td>\n",
       "      <td>not sure not skirt long stiff puffy hips not l...</td>\n",
       "    </tr>\n",
       "  </tbody>\n",
       "</table>\n",
       "</div>"
      ],
      "text/plain": [
       "       Clothing ID  Age                                       Title  \\\n",
       "4926          1099   35                          Removing the liner   \n",
       "21598         1086   33  Not great for those with a little extra...   \n",
       "17773          819   67                       Flattering all around   \n",
       "2579            18   42                       Disappointing quality   \n",
       "19705          999   48                                         Ugh   \n",
       "\n",
       "                                             Review Text  Rating  \\\n",
       "4926   i am on the fence about this dress. the fabric...       3   \n",
       "21598  i love everything by cloth & stone so was exci...       2   \n",
       "17773  loved the fit and colors, but the fabric is ve...       2   \n",
       "2579   i ordered these leggings and loved them, for a...       1   \n",
       "19705  not sure who this is for but its not for me. s...       1   \n",
       "\n",
       "       Recommended IND  Positive Feedback Count   Division Name  \\\n",
       "4926                 0                       26         General   \n",
       "21598                0                        8         General   \n",
       "17773                0                       18         General   \n",
       "2579                 0                        0  General Petite   \n",
       "19705                0                        0  General Petite   \n",
       "\n",
       "      Department Name Class Name AGE_RANGE  \\\n",
       "4926          Dresses    Dresses  30 to 39   \n",
       "21598         Dresses    Dresses  30 to 39   \n",
       "17773            Tops    Blouses  60 to 69   \n",
       "2579          Bottoms      Jeans  40 to 49   \n",
       "19705         Bottoms     Skirts  40 to 49   \n",
       "\n",
       "                                         Reviews_Cleaned  \n",
       "4926   fence dress fabric gorgeous soft hoping fit sl...  \n",
       "21598  love cloth stone excited dress hooray ordered ...  \n",
       "17773  loved fit colors fabric thin tried nude cami u...  \n",
       "2579   ordered leggings loved point belt loop ripped ...  \n",
       "19705  not sure not skirt long stiff puffy hips not l...  "
      ]
     },
     "execution_count": 93,
     "metadata": {},
     "output_type": "execute_result"
    }
   ],
   "source": [
    "df_upsampled.head()"
   ]
  },
  {
   "cell_type": "markdown",
   "id": "089d1cd4",
   "metadata": {},
   "source": [
    "Now our data is lemmatized and removed punctuations and removed stop words from the \"review text\" feature."
   ]
  },
  {
   "cell_type": "markdown",
   "id": "a4cc610b",
   "metadata": {},
   "source": [
    "### Splitting the Data"
   ]
  },
  {
   "cell_type": "code",
   "execution_count": 94,
   "id": "e69df827",
   "metadata": {},
   "outputs": [],
   "source": [
    "from sklearn.model_selection import train_test_split\n",
    "from sklearn.naive_bayes import MultinomialNB\n",
    "from sklearn.ensemble import RandomForestClassifier\n",
    "from sklearn.svm import SVC\n",
    "from sklearn.metrics import *\n",
    "from sklearn.linear_model import LinearRegression\n",
    "from sklearn.feature_extraction.text import CountVectorizer,TfidfVectorizer\n",
    "from sklearn.pipeline import Pipeline"
   ]
  },
  {
   "cell_type": "code",
   "execution_count": 95,
   "id": "eeef0b4e",
   "metadata": {},
   "outputs": [],
   "source": [
    "x=df_upsampled['Reviews_Cleaned']\n",
    "y=df_upsampled['Recommended IND']"
   ]
  },
  {
   "cell_type": "markdown",
   "id": "7d756a74",
   "metadata": {},
   "source": [
    "### Splitting the data into Training and testing. Giving 20% of entire data as Test data "
   ]
  },
  {
   "cell_type": "code",
   "execution_count": 96,
   "id": "64e90f93",
   "metadata": {},
   "outputs": [],
   "source": [
    "X_train, X_test, y_train, y_test = train_test_split(x,y,test_size=0.2,stratify=y, random_state=42)"
   ]
  },
  {
   "cell_type": "code",
   "execution_count": 97,
   "id": "31e060f4",
   "metadata": {},
   "outputs": [
    {
     "data": {
      "text/plain": [
       "1    14831\n",
       "0    13600\n",
       "Name: Recommended IND, dtype: int64"
      ]
     },
     "execution_count": 97,
     "metadata": {},
     "output_type": "execute_result"
    }
   ],
   "source": [
    "y_train.value_counts()"
   ]
  },
  {
   "cell_type": "code",
   "execution_count": 98,
   "id": "2279b4e7",
   "metadata": {},
   "outputs": [
    {
     "data": {
      "text/plain": [
       "1    3708\n",
       "0    3400\n",
       "Name: Recommended IND, dtype: int64"
      ]
     },
     "execution_count": 98,
     "metadata": {},
     "output_type": "execute_result"
    }
   ],
   "source": [
    "y_test.value_counts()"
   ]
  },
  {
   "cell_type": "markdown",
   "id": "f4b47e0b",
   "metadata": {},
   "source": [
    "As we can see the above splitting of recommended and non recommended data in Training and Testing data,It has very small difference.\n"
   ]
  },
  {
   "cell_type": "markdown",
   "id": "b249b026",
   "metadata": {},
   "source": [
    "### Creating Pipelines and fit to the Model."
   ]
  },
  {
   "cell_type": "markdown",
   "id": "8f9137b8",
   "metadata": {},
   "source": [
    "##### Fitting the data to Naive Bayes Algorithm\n",
    "\n",
    "We use TF-IDF vectorizer to transform the categorical data into numeric"
   ]
  },
  {
   "cell_type": "markdown",
   "id": "2bc3e99f",
   "metadata": {},
   "source": [
    "#### Now Splitting the data with Test Size=0.20, which means taking 20% of data from total dataset."
   ]
  },
  {
   "cell_type": "code",
   "execution_count": 99,
   "id": "c109258a",
   "metadata": {},
   "outputs": [
    {
     "data": {
      "application/javascript": [
       "\n",
       "        if (window._pyforest_update_imports_cell) { window._pyforest_update_imports_cell('from sklearn.linear_model import LogisticRegression'); }\n",
       "    "
      ],
      "text/plain": [
       "<IPython.core.display.Javascript object>"
      ]
     },
     "metadata": {},
     "output_type": "display_data"
    }
   ],
   "source": [
    "lister=[MultinomialNB(),RandomForestClassifier(n_estimators=200),SVC(),LogisticRegression()]"
   ]
  },
  {
   "cell_type": "code",
   "execution_count": 100,
   "id": "fb116b82",
   "metadata": {},
   "outputs": [
    {
     "name": "stdout",
     "output_type": "stream",
     "text": [
      "Accuracy Score of : 0.8846370287000562\n",
      "              precision    recall  f1-score   support\n",
      "\n",
      "           0       0.86      0.90      0.88      3400\n",
      "           1       0.91      0.87      0.89      3708\n",
      "\n",
      "    accuracy                           0.88      7108\n",
      "   macro avg       0.88      0.89      0.88      7108\n",
      "weighted avg       0.89      0.88      0.88      7108\n",
      "\n",
      "Accuracy Score of : 0.9708778840742825\n",
      "              precision    recall  f1-score   support\n",
      "\n",
      "           0       0.96      0.98      0.97      3400\n",
      "           1       0.98      0.96      0.97      3708\n",
      "\n",
      "    accuracy                           0.97      7108\n",
      "   macro avg       0.97      0.97      0.97      7108\n",
      "weighted avg       0.97      0.97      0.97      7108\n",
      "\n",
      "Accuracy Score of : 0.9604670793472144\n",
      "              precision    recall  f1-score   support\n",
      "\n",
      "           0       0.94      0.98      0.96      3400\n",
      "           1       0.98      0.94      0.96      3708\n",
      "\n",
      "    accuracy                           0.96      7108\n",
      "   macro avg       0.96      0.96      0.96      7108\n",
      "weighted avg       0.96      0.96      0.96      7108\n",
      "\n",
      "Accuracy Score of : 0.8991277433877322\n",
      "              precision    recall  f1-score   support\n",
      "\n",
      "           0       0.88      0.92      0.90      3400\n",
      "           1       0.92      0.88      0.90      3708\n",
      "\n",
      "    accuracy                           0.90      7108\n",
      "   macro avg       0.90      0.90      0.90      7108\n",
      "weighted avg       0.90      0.90      0.90      7108\n",
      "\n"
     ]
    }
   ],
   "source": [
    "for i in lister:\n",
    "    pipe7=Pipeline([('vec',TfidfVectorizer()),('model7',i)])\n",
    "    pipe7.fit(X_train,y_train)\n",
    "    pipe7_pred=pipe7.predict(X_test)\n",
    "    print('Accuracy Score of ',i,\":\",accuracy_score(y_test,pipe7_pred))\n",
    "    print(classification_report(y_test,pipe7_pred))"
   ]
  },
  {
   "cell_type": "markdown",
   "id": "7f4268d3",
   "metadata": {},
   "source": [
    "#### Now Splitting the data with Test Size=0.25, which means taking 25% of data from total dataset."
   ]
  },
  {
   "cell_type": "code",
   "execution_count": 101,
   "id": "f8431d5b",
   "metadata": {},
   "outputs": [],
   "source": [
    "X1_train, X1_test, y1_train, y1_test = train_test_split(x,y,test_size=0.25,stratify=y, random_state=42)"
   ]
  },
  {
   "cell_type": "code",
   "execution_count": 102,
   "id": "ed8d6754",
   "metadata": {},
   "outputs": [
    {
     "data": {
      "text/plain": [
       "1    13904\n",
       "0    12750\n",
       "Name: Recommended IND, dtype: int64"
      ]
     },
     "execution_count": 102,
     "metadata": {},
     "output_type": "execute_result"
    }
   ],
   "source": [
    "y1_train.value_counts()"
   ]
  },
  {
   "cell_type": "code",
   "execution_count": 103,
   "id": "7c1a488f",
   "metadata": {},
   "outputs": [
    {
     "data": {
      "text/plain": [
       "1    4635\n",
       "0    4250\n",
       "Name: Recommended IND, dtype: int64"
      ]
     },
     "execution_count": 103,
     "metadata": {},
     "output_type": "execute_result"
    }
   ],
   "source": [
    "y1_test.value_counts()"
   ]
  },
  {
   "cell_type": "code",
   "execution_count": 104,
   "id": "b9224420",
   "metadata": {
    "scrolled": false
   },
   "outputs": [
    {
     "name": "stdout",
     "output_type": "stream",
     "text": [
      "Accuracy Score of : MultinomialNB() : 0.8880135059088351\n",
      "              precision    recall  f1-score   support\n",
      "\n",
      "           0       0.87      0.90      0.89      4250\n",
      "           1       0.91      0.87      0.89      4635\n",
      "\n",
      "    accuracy                           0.89      8885\n",
      "   macro avg       0.89      0.89      0.89      8885\n",
      "weighted avg       0.89      0.89      0.89      8885\n",
      "\n",
      "Accuracy Score of : RandomForestClassifier(n_estimators=200) : 0.9671356218345526\n",
      "              precision    recall  f1-score   support\n",
      "\n",
      "           0       0.95      0.98      0.97      4250\n",
      "           1       0.98      0.96      0.97      4635\n",
      "\n",
      "    accuracy                           0.97      8885\n",
      "   macro avg       0.97      0.97      0.97      8885\n",
      "weighted avg       0.97      0.97      0.97      8885\n",
      "\n",
      "Accuracy Score of : SVC() : 0.958244231851435\n",
      "              precision    recall  f1-score   support\n",
      "\n",
      "           0       0.94      0.98      0.96      4250\n",
      "           1       0.98      0.94      0.96      4635\n",
      "\n",
      "    accuracy                           0.96      8885\n",
      "   macro avg       0.96      0.96      0.96      8885\n",
      "weighted avg       0.96      0.96      0.96      8885\n",
      "\n",
      "Accuracy Score of : LogisticRegression() : 0.8999437253798537\n",
      "              precision    recall  f1-score   support\n",
      "\n",
      "           0       0.88      0.92      0.90      4250\n",
      "           1       0.92      0.88      0.90      4635\n",
      "\n",
      "    accuracy                           0.90      8885\n",
      "   macro avg       0.90      0.90      0.90      8885\n",
      "weighted avg       0.90      0.90      0.90      8885\n",
      "\n"
     ]
    }
   ],
   "source": [
    "for i in lister:\n",
    "    pipe7=Pipeline([('vec',TfidfVectorizer()),('model7',i)])\n",
    "    pipe7.fit(X1_train,y1_train)\n",
    "    pipe7_pred=pipe7.predict(X1_test)\n",
    "    print('Accuracy Score of :',i,\":\",accuracy_score(y1_test,pipe7_pred))\n",
    "    print(classification_report(y1_test,pipe7_pred))"
   ]
  },
  {
   "cell_type": "markdown",
   "id": "6f2c0213",
   "metadata": {},
   "source": [
    "Test Size=0.2\n",
    "\n",
    "Model                              Accuracy Score\n",
    "1.MultinomialNB                    88.46%\n",
    "2.RandomForestClassifier           97.08%\n",
    "3.Support Vector Classifier        96.04%\n",
    "4.LogisticRegression               89.91%\n",
    "\n",
    "\n",
    "For the Test size of 20%, We consider Acccuracy Score, as dataset is balanced.\n",
    "RandomForestClassifier performs best than all the other algorithms.\n",
    "\n",
    "\n",
    "Test Size=0.25\n",
    "\n",
    "\n",
    "Model                              Accuracy Score\n",
    "1.MultinomialNB                    88.80%\n",
    "2.RandomForestClassifier           96.78%\n",
    "3.Support Vector Classifier        95.82%\n",
    "4.LogisticRegression               89.99%\n",
    "\n",
    "For this test size also, Random Forest Classifier gives more accuracy and then, Support Vector Classifier algorithm also gives good accuracy.Difference between both of them 1% only."
   ]
  },
  {
   "cell_type": "markdown",
   "id": "1cbef801",
   "metadata": {},
   "source": [
    "Random Forest Classifier gives good accuracy for both the test sizes(20% and 25%) than all the other models.\n",
    "Support Vector Machine Algorithm also gives good accuracy."
   ]
  },
  {
   "cell_type": "code",
   "execution_count": null,
   "id": "5ecbfe84",
   "metadata": {},
   "outputs": [],
   "source": []
  },
  {
   "cell_type": "code",
   "execution_count": null,
   "id": "1fcde4ba",
   "metadata": {},
   "outputs": [],
   "source": []
  },
  {
   "cell_type": "code",
   "execution_count": null,
   "id": "3b420fba",
   "metadata": {},
   "outputs": [],
   "source": []
  },
  {
   "cell_type": "code",
   "execution_count": null,
   "id": "0bcb106e",
   "metadata": {},
   "outputs": [],
   "source": []
  },
  {
   "cell_type": "code",
   "execution_count": null,
   "id": "98b82627",
   "metadata": {},
   "outputs": [],
   "source": []
  },
  {
   "cell_type": "code",
   "execution_count": null,
   "id": "83ee0bc7",
   "metadata": {},
   "outputs": [],
   "source": []
  },
  {
   "cell_type": "code",
   "execution_count": null,
   "id": "8129e347",
   "metadata": {},
   "outputs": [],
   "source": []
  }
 ],
 "metadata": {
  "kernelspec": {
   "display_name": "Python 3",
   "language": "python",
   "name": "python3"
  },
  "language_info": {
   "codemirror_mode": {
    "name": "ipython",
    "version": 3
   },
   "file_extension": ".py",
   "mimetype": "text/x-python",
   "name": "python",
   "nbconvert_exporter": "python",
   "pygments_lexer": "ipython3",
   "version": "3.8.8"
  }
 },
 "nbformat": 4,
 "nbformat_minor": 5
}
